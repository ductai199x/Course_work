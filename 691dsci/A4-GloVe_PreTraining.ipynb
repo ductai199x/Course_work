{
 "cells": [
  {
   "cell_type": "code",
   "execution_count": null,
   "metadata": {
    "id": "completed-keyboard"
   },
   "outputs": [],
   "source": [
    "import json\n",
    "import os\n",
    "\n",
    "from collections import Counter\n",
    "from tqdm import tqdm"
   ]
  },
  {
   "cell_type": "code",
   "execution_count": null,
   "metadata": {
    "id": "dense-ontario"
   },
   "outputs": [],
   "source": [
    "# load utilities\n",
    "exec(open('./01-utilities.py').read())\n",
    "exec(open('./03-utilities.py').read())"
   ]
  },
  {
   "cell_type": "code",
   "execution_count": null,
   "metadata": {
    "colab": {
     "base_uri": "https://localhost:8080/"
    },
    "executionInfo": {
     "elapsed": 5491,
     "status": "ok",
     "timestamp": 1618753486313,
     "user": {
      "displayName": "Hunter Heidenreich",
      "photoUrl": "",
      "userId": "15791916961898135792"
     },
     "user_tz": 240
    },
    "id": "verified-heading",
    "outputId": "3f6158fc-9e01-4ab8-fa92-787020f6663e"
   },
   "outputs": [],
   "source": [
    "# read the thread json\n",
    "thread = json.load(open('./data/thread.json'))\n",
    "len(thread['train'])"
   ]
  },
  {
   "cell_type": "code",
   "execution_count": null,
   "metadata": {
    "id": "0GsR6e_cUQQp"
   },
   "outputs": [],
   "source": [
    "# capping the vocabulary at max_vocab\n",
    "max_vocab = 20_000\n",
    "most_common = set()\n",
    "freq = Counter([t for split in ['train'] for x in thread[split].values() for t in tokenize(x['raw'].lower(), space=False)])\n",
    "for t, _ in freq.most_common(max_vocab):\n",
    "    most_common.add(t)"
   ]
  },
  {
   "cell_type": "code",
   "execution_count": null,
   "metadata": {
    "colab": {
     "base_uri": "https://localhost:8080/"
    },
    "executionInfo": {
     "elapsed": 19078,
     "status": "ok",
     "timestamp": 1618753499914,
     "user": {
      "displayName": "Hunter Heidenreich",
      "photoUrl": "",
      "userId": "15791916961898135792"
     },
     "user_tz": 240
    },
    "id": "xo3LkApJUlUu",
    "outputId": "4aaefe59-abb8-48eb-96ab-f1155b56123d"
   },
   "outputs": [],
   "source": [
    "'xophe' in most_common"
   ]
  },
  {
   "cell_type": "markdown",
   "metadata": {
    "id": "K0itFAUCR05r"
   },
   "source": [
    "### Re-use from Assignment 3\n",
    "\n",
    "These next few cells should look familiar from Assignment 3..."
   ]
  },
  {
   "cell_type": "code",
   "execution_count": null,
   "metadata": {
    "id": "trying-championship"
   },
   "outputs": [],
   "source": [
    "def make_co_counts(documents, space = True, k = 20, gamma = 0):\n",
    "    \n",
    "    handle = \"-\".join(map(str,[max_vocab, space, k, gamma]))\n",
    "    if os.path.exists('./data/data-' + handle + '.json'):\n",
    "        return json.load(open('./data/data-' + handle + '.json'))\n",
    "    \n",
    "    document_frequency = Counter()\n",
    "    for j, document in enumerate(tqdm(documents)):\n",
    "        sentences = sentokenize(document.lower(), space = space)\n",
    "        documents[j] = [[t for t in s if t in most_common] for s in sentences]\n",
    "        frequency = Counter([t for s in documents[j] for t in s])\n",
    "        document_frequency += Counter(frequency.keys())\n",
    "    type_index = {t:i for i, t in enumerate(sorted(list(document_frequency.keys())))}\n",
    "\n",
    "    co_counts = Counter()  \n",
    "    for document in tqdm(documents):\n",
    "        for sentence in document:\n",
    "            for i, ti in enumerate(sentence):\n",
    "                context, weights = get_context(i, sentence, k = k, gamma = gamma)        \n",
    "                for j, tj in enumerate(context):\n",
    "                    ij = \",\".join(map(str,[type_index[ti], type_index[tj]]))\n",
    "                    co_counts[ij] += weights[j]\n",
    "\n",
    "    data = {'co_counts': dict(co_counts), 'type_index': dict(type_index)}\n",
    "    \n",
    "    with open('./data/data-' + handle + '.json', \"w\") as f:\n",
    "        f.write(json.dumps(data))\n",
    "    \n",
    "    return data"
   ]
  },
  {
   "cell_type": "code",
   "execution_count": null,
   "metadata": {
    "colab": {
     "base_uri": "https://localhost:8080/"
    },
    "executionInfo": {
     "elapsed": 24430,
     "status": "ok",
     "timestamp": 1618753507144,
     "user": {
      "displayName": "Hunter Heidenreich",
      "photoUrl": "",
      "userId": "15791916961898135792"
     },
     "user_tz": 240
    },
    "id": "ecological-photograph",
    "outputId": "0c4d144d-3809-461f-d8af-65650b82010e"
   },
   "outputs": [],
   "source": [
    "data = make_co_counts(\n",
    "    [x['raw'].lower() for split in ['train'] for x in thread[split].values()], \n",
    "    space=False,\n",
    "    gamma=1,\n",
    "    k=10\n",
    ")\n",
    "len(data['type_index']), len(data['co_counts']), sum(data['co_counts'].values())"
   ]
  },
  {
   "cell_type": "code",
   "execution_count": null,
   "metadata": {
    "id": "united-change"
   },
   "outputs": [],
   "source": [
    "def weight_nonzero_data(data, comax = 100, alpha = 0.75):\n",
    "    data['fco_counts'] = {ij: (data['co_counts'][ij]/comax)**alpha\n",
    "                          if data['co_counts'][ij] < comax else 1\n",
    "                          for ij in tqdm(data['co_counts'])}"
   ]
  },
  {
   "cell_type": "code",
   "execution_count": null,
   "metadata": {
    "colab": {
     "base_uri": "https://localhost:8080/"
    },
    "executionInfo": {
     "elapsed": 26258,
     "status": "ok",
     "timestamp": 1618753512967,
     "user": {
      "displayName": "Hunter Heidenreich",
      "photoUrl": "",
      "userId": "15791916961898135792"
     },
     "user_tz": 240
    },
    "id": "seven-mississippi",
    "outputId": "a4eae927-fb27-47ea-9db3-3cd5be74b47b"
   },
   "outputs": [],
   "source": [
    "weight_nonzero_data(data)\n",
    "len(data['fco_counts']), sum(data['fco_counts'].values())"
   ]
  },
  {
   "cell_type": "markdown",
   "metadata": {
    "id": "classified-edinburgh"
   },
   "source": [
    "### PyTorch Deviation Here"
   ]
  },
  {
   "cell_type": "code",
   "execution_count": null,
   "metadata": {
    "id": "alien-combining"
   },
   "outputs": [],
   "source": [
    "import torch"
   ]
  },
  {
   "cell_type": "code",
   "execution_count": null,
   "metadata": {
    "id": "upper-hudson"
   },
   "outputs": [],
   "source": [
    "class WCOData(torch.utils.data.Dataset):\n",
    "    \"\"\"\n",
    "    Our weighted co-occurrence counts,\n",
    "    wrapped in a PyTorch dataset!\n",
    "    \"\"\"\n",
    "    \n",
    "    def __init__(self, data):\n",
    "        self.data = data\n",
    "        self.keys = list(self.data['co_counts'].keys())\n",
    "    \n",
    "    def __len__(self):\n",
    "        return len(self.keys)\n",
    "    \n",
    "    def __getitem__(self, item):\n",
    "        key = self.keys[item]\n",
    "\n",
    "        i, j = map(int, key.split(','))\n",
    "        \n",
    "        return {\n",
    "            'i': i,\n",
    "            'j': j,\n",
    "            'co': data['co_counts'][key],\n",
    "            'fco': data['fco_counts'][key],\n",
    "        }"
   ]
  },
  {
   "cell_type": "code",
   "execution_count": null,
   "metadata": {
    "colab": {
     "base_uri": "https://localhost:8080/"
    },
    "executionInfo": {
     "elapsed": 23885,
     "status": "ok",
     "timestamp": 1618753515712,
     "user": {
      "displayName": "Hunter Heidenreich",
      "photoUrl": "",
      "userId": "15791916961898135792"
     },
     "user_tz": 240
    },
    "id": "normal-tutorial",
    "outputId": "2681cd8c-37c1-4f2e-d69f-106ea5950b29"
   },
   "outputs": [],
   "source": [
    "tdata = WCOData(data)\n",
    "len(tdata), tdata[0]"
   ]
  },
  {
   "cell_type": "code",
   "execution_count": null,
   "metadata": {
    "id": "adjacent-smell"
   },
   "outputs": [],
   "source": [
    "class GloVe(torch.nn.Module):\n",
    "\n",
    "    \"\"\"\n",
    "    A PyTorch GloVe nn.Module\n",
    "    \"\"\"\n",
    "    \n",
    "    def __init__(self, vocab_size, d=50):\n",
    "        super(GloVe, self).__init__()\n",
    "        self.U = torch.nn.Embedding(vocab_size, d)\n",
    "        self.V = torch.nn.Embedding(vocab_size, d)\n",
    "        \n",
    "        self.a = torch.nn.Embedding(vocab_size, 1)\n",
    "        self.b = torch.nn.Embedding(vocab_size, 1)\n",
    "        \n",
    "    def forward(self, i, j):\n",
    "        u = self.U(i).unsqueeze(1)\n",
    "        v = self.V(j).unsqueeze(-1)\n",
    "        uv = torch.bmm(u, v).squeeze()\n",
    "        \n",
    "        a = self.a(i).squeeze()\n",
    "        b = self.b(j).squeeze()\n",
    "        \n",
    "        y_pred = uv + a + b\n",
    "        \n",
    "        return y_pred"
   ]
  },
  {
   "cell_type": "code",
   "execution_count": null,
   "metadata": {
    "id": "DVVKS2nqB5gD"
   },
   "outputs": [],
   "source": [
    "def to_gpu(x):\n",
    "    if torch.cuda.is_available():\n",
    "        return x.to('cuda')\n",
    "  \n",
    "    return x.to('cpu')"
   ]
  },
  {
   "cell_type": "code",
   "execution_count": null,
   "metadata": {
    "colab": {
     "base_uri": "https://localhost:8080/"
    },
    "executionInfo": {
     "elapsed": 723,
     "status": "ok",
     "timestamp": 1618762533545,
     "user": {
      "displayName": "Hunter Heidenreich",
      "photoUrl": "",
      "userId": "15791916961898135792"
     },
     "user_tz": 240
    },
    "id": "hybrid-sector",
    "outputId": "7743b6d9-213b-495a-ce18-27da4ab335ba"
   },
   "outputs": [],
   "source": [
    "# construction our GloVe model with the desired hyperparameters\n",
    "\n",
    "vocab_size = len(data['type_index'])\n",
    "\n",
    "# d = 2\n",
    "# d = 4\n",
    "# d = 8\n",
    "# d = 16\n",
    "# d = 32\n",
    "# d = 64\n",
    "d = 128\n",
    "# d = 256\n",
    "\n",
    "glove = GloVe(vocab_size, d=d)\n",
    "glove = to_gpu(glove)\n",
    "glove"
   ]
  },
  {
   "cell_type": "code",
   "execution_count": null,
   "metadata": {
    "colab": {
     "base_uri": "https://localhost:8080/"
    },
    "executionInfo": {
     "elapsed": 612,
     "status": "ok",
     "timestamp": 1618762533711,
     "user": {
      "displayName": "Hunter Heidenreich",
      "photoUrl": "",
      "userId": "15791916961898135792"
     },
     "user_tz": 240
    },
    "id": "genetic-heating",
    "outputId": "3af85800-1752-4a5a-e2f4-e666d0d939c1"
   },
   "outputs": [],
   "source": [
    "# create our loss function\n",
    "# Note: the use of reduction='none'... This is necessary to weight the different contributions to the loss \n",
    "loss_fn = torch.nn.MSELoss(reduction='none')\n",
    "loss_fn"
   ]
  },
  {
   "cell_type": "code",
   "execution_count": null,
   "metadata": {
    "colab": {
     "base_uri": "https://localhost:8080/"
    },
    "executionInfo": {
     "elapsed": 486,
     "status": "ok",
     "timestamp": 1618762533872,
     "user": {
      "displayName": "Hunter Heidenreich",
      "photoUrl": "",
      "userId": "15791916961898135792"
     },
     "user_tz": 240
    },
    "id": "harmful-assembly",
    "outputId": "cf1dad08-be37-41c6-a44d-92618cf52140"
   },
   "outputs": [],
   "source": [
    "# using the Adagrad optimizers with the learning rate set to 0.05, per the original GloVe paper\n",
    "opt = torch.optim.Adagrad(glove.parameters(), lr=0.05)\n",
    "opt"
   ]
  },
  {
   "cell_type": "code",
   "execution_count": null,
   "metadata": {
    "colab": {
     "base_uri": "https://localhost:8080/"
    },
    "executionInfo": {
     "elapsed": 5199584,
     "status": "ok",
     "timestamp": 1618767733620,
     "user": {
      "displayName": "Hunter Heidenreich",
      "photoUrl": "",
      "userId": "15791916961898135792"
     },
     "user_tz": 240
    },
    "id": "downtown-syntax",
    "outputId": "2f6541cd-e9b3-44b5-f6b0-1d8d1fa5cf64"
   },
   "outputs": [],
   "source": [
    "# Our GloVe train loop!\n",
    "\n",
    "epochs = 100 if d > 100 else 50\n",
    "batch_size = 4096 * 16\n",
    "\n",
    "loader = torch.utils.data.DataLoader(tdata, batch_size=batch_size, shuffle=True)\n",
    "\n",
    "for e in range(epochs):\n",
    "    print(f'Begin epoch: {e + 1}')\n",
    "    epoch_loss = 0\n",
    "    for batch in tqdm(loader):\n",
    "        opt.zero_grad()\n",
    "        \n",
    "        y_gold = to_gpu(torch.log10(batch['co'].float()))\n",
    "        y_pred = glove(to_gpu(batch['i']), to_gpu(batch['j'])).float()\n",
    "        \n",
    "        loss = loss_fn(y_pred, y_gold)\n",
    "        wloss = (loss * to_gpu(batch['fco'])).sum()\n",
    "        epoch_loss += wloss.item()\n",
    "        \n",
    "        wloss.backward()\n",
    "        \n",
    "        opt.step()\n",
    "    \n",
    "    print(f'Epoch loss: {epoch_loss:.2f} (avg. {epoch_loss / len(tdata):.6f})')"
   ]
  },
  {
   "cell_type": "code",
   "execution_count": null,
   "metadata": {
    "colab": {
     "base_uri": "https://localhost:8080/"
    },
    "executionInfo": {
     "elapsed": 5198968,
     "status": "ok",
     "timestamp": 1618767733633,
     "user": {
      "displayName": "Hunter Heidenreich",
      "photoUrl": "",
      "userId": "15791916961898135792"
     },
     "user_tz": 240
    },
    "id": "hearing-digest",
    "outputId": "f336987e-b9f9-4f38-b3fb-7a102eca5c96"
   },
   "outputs": [],
   "source": [
    "ix2type = {v: k for k, v in data['type_index'].items()}\n",
    "ix2type[999]"
   ]
  },
  {
   "cell_type": "code",
   "execution_count": null,
   "metadata": {
    "id": "united-onion"
   },
   "outputs": [],
   "source": [
    "# code to export 3 matrices: U, V, and UV\n",
    "U = list(glove.U.parameters())[0]\n",
    "V = list(glove.V.parameters())[0]\n",
    "UV = U + V\n",
    "\n",
    "to_cache = [\n",
    "    ('U', U), ('V', V), ('UV', UV)\n",
    "]\n",
    "\n",
    "for label, embed in to_cache:\n",
    "    out = []\n",
    "    for t, idx in data['type_index'].items():\n",
    "        vec = list(embed[idx, :].cpu().detach().numpy())\n",
    "        \n",
    "        out.append({\n",
    "            'type': t,\n",
    "            'vec': list(map(float, vec))\n",
    "        })\n",
    "        \n",
    "    json.dump(out, open(f'./data/glove.irc_dis.gamma.{label}.{max_vocab}v.{d}d.{epochs}e.json', 'w+'))"
   ]
  },
  {
   "cell_type": "code",
   "execution_count": null,
   "metadata": {
    "id": "wrapped-component"
   },
   "outputs": [],
   "source": []
  },
  {
   "cell_type": "code",
   "execution_count": null,
   "metadata": {
    "id": "liberal-compatibility"
   },
   "outputs": [],
   "source": []
  },
  {
   "cell_type": "code",
   "execution_count": null,
   "metadata": {
    "id": "controlled-girlfriend"
   },
   "outputs": [],
   "source": []
  },
  {
   "cell_type": "code",
   "execution_count": null,
   "metadata": {
    "id": "geological-appendix"
   },
   "outputs": [],
   "source": []
  },
  {
   "cell_type": "code",
   "execution_count": null,
   "metadata": {
    "id": "retained-insured"
   },
   "outputs": [],
   "source": []
  }
 ],
 "metadata": {
  "accelerator": "GPU",
  "colab": {
   "collapsed_sections": [],
   "name": "A4-GloVe_PreTraining.ipynb",
   "provenance": [],
   "toc_visible": true
  },
  "kernelspec": {
   "display_name": "Python 3",
   "language": "python",
   "name": "python3"
  },
  "language_info": {
   "codemirror_mode": {
    "name": "ipython",
    "version": 3
   },
   "file_extension": ".py",
   "mimetype": "text/x-python",
   "name": "python",
   "nbconvert_exporter": "python",
   "pygments_lexer": "ipython3",
   "version": "3.7.6"
  }
 },
 "nbformat": 4,
 "nbformat_minor": 5
}
