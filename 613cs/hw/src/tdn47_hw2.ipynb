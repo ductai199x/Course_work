{
 "cells": [
  {
   "cell_type": "markdown",
   "metadata": {},
   "source": [
    "# Answer to homework 2"
   ]
  },
  {
   "cell_type": "markdown",
   "metadata": {},
   "source": [
    "# 1.1 \n",
    "`Theory`\n",
    "\n",
    "[Code](#1.1-Theory)\n",
    "\n",
    "\n",
    "## a)\n",
    "Sample Entropy = $H(Y) = 0.9852$\n",
    "\n",
    "## b)\n",
    "Information gain I for $x_1 = I_{x_1} = 0.1831$\n",
    "\n",
    "Information gain I for $x_2 = I_{x_2} = 0.0449$\n",
    "\n",
    "## c)\n",
    "```\n",
    "\n",
    "              x1\n",
    "              ||\n",
    "      --T-----  -----F--\n",
    "      |                |\n",
    "      x2               x2\n",
    "      ||               ||\n",
    " --T--  --F--     --T--  --F--\n",
    " |          |     |          |\n",
    " +          +     +          -\n",
    " ```"
   ]
  },
  {
   "cell_type": "markdown",
   "metadata": {},
   "source": [
    "# 1.2 \n",
    "`Theory`\n",
    "\n",
    "[Code](#1.2-Theory)\n",
    "\n",
    "## a)\n",
    "$P[A=Yes] = P[Y=+]=0.6$\n",
    "\n",
    "$P[A=No] = P[Y=-]=0.4$\n",
    "\n",
    "## b)\n",
    "$\\mu_{x_1|Y=+}=115.0, \\sigma^2_{x_1|Y=+}=71.5122$\n",
    "\n",
    "$\\mu_{x_1|Y=-}=347.5, \\sigma^2_{x_1|Y=-}=45.5$\n",
    "\n",
    "$\\mu_{x_2|Y=+}=4.54, \\sigma^2_{x_2|Y=+}=1.0427$\n",
    "\n",
    "$\\mu_{x_2|Y=-}=3.255, \\sigma^2_{x_2|Y=-}=0.9450$\n",
    "\n",
    "<!-- {'x1': [(115.0, 71.5122367151245), (347.5, 45.5)],\n",
    " 'x2': [(4.54, 1.0426888318189658), (3.255, 0.9450000000000001)]} -->\n",
    "\n",
    "## c)\n",
    "\n",
    "$P[Y=+|X] = P[Y=+]\\times P[X=x_1|Y=+] \\times P[X=x_2|Y=+] = 0.0197$\n",
    "\n",
    "$P[Y=-|X] = P[Y=-]\\times P[X=x_1|Y=-] \\times P[X=x_2|Y=-] = 0.0017$\n",
    "\n",
    "$P[Y=+|X]=0.0197 > P[Y=-|X]=0.0017$\n",
    "\n",
    "Classification is: Y=+, meaning an essay with 242 char and 4.56 word avg length should get and A"
   ]
  },
  {
   "cell_type": "markdown",
   "metadata": {},
   "source": [
    "# 1.3 \n",
    "`Theory`\n",
    "\n",
    "[Code](#1.3-Theory)\n",
    "\n",
    "## a)\n",
    "\n",
    "We can use the validation set to see what is the best value for k -- the number nearest neighbors. Specifically, we can use the Receiver Operating Characteristic curve to assess the performance of a certain 'k'."
   ]
  },
  {
   "cell_type": "markdown",
   "metadata": {},
   "source": [
    "# 2. \n",
    "`Logistic Regression`\n",
    "\n",
    "[Code](#2.-Logistic-Regression)\n",
    "\n",
    "My logistic regression: $\\theta_{my} = [10.1913014 , 15.71517823, -7.70486056]$\n",
    "\n",
    "Sklearn logistic regression: $\\theta_{sklearn} = [47.81414621 , 67.26895116, -30.03507303]$\n",
    "\n",
    "[Decision Boundary Graph](#2.-Logistic-Decision-Boundary-Graph)"
   ]
  },
  {
   "cell_type": "markdown",
   "metadata": {},
   "source": [
    "# 3. \n",
    "`Logistic Regression Spam Classification`\n",
    "\n",
    "[Code](#3.-Logistic-Regression-Spam-Classification)\n",
    "\n",
    "acc=0.8664, precision=0.7203, recall=0.3371, f1_measure=0.4593"
   ]
  },
  {
   "cell_type": "markdown",
   "metadata": {},
   "source": [
    "# 4. \n",
    "`Naive-Bayes Classifier`\n",
    "\n",
    "[Code](#4.-Naive-Bayes-Classifier)\n",
    "\n",
    "acc=0.8429, precision=0.6415, recall=0.3086, f1_measure=0.4167"
   ]
  },
  {
   "cell_type": "markdown",
   "metadata": {},
   "source": [
    "# 5. \n",
    "`Decision Trees`\n",
    "\n",
    "[Code](#5.-Decision-Trees)\n",
    "\n",
    "\n",
    "1. Using Information Gain as the measure to choose the best attributes (runtime = 27.6 s):\n",
    "\n",
    "acc=0.8990, precision=0.8666, recall=0.3909, f1_measure=0.5387\n",
    "\n",
    "2. Using Naive method of picking attributes from left to right (0->1->2->...->56) (runtime = 3.4 s):\n",
    "\n",
    "acc=0.8481, precision=0.8280, recall=0.3958, f1_measure=0.5356"
   ]
  },
  {
   "cell_type": "code",
   "execution_count": null,
   "metadata": {},
   "outputs": [],
   "source": []
  },
  {
   "cell_type": "code",
   "execution_count": 1,
   "metadata": {},
   "outputs": [],
   "source": [
    "import os\n",
    "import csv\n",
    "import math\n",
    "import random\n",
    "import copy\n",
    "import operator"
   ]
  },
  {
   "cell_type": "code",
   "execution_count": 2,
   "metadata": {},
   "outputs": [],
   "source": [
    "import numpy as np\n",
    "import pandas as pd\n",
    "import matplotlib.pyplot as plt\n",
    "from tqdm.auto import tqdm"
   ]
  },
  {
   "cell_type": "code",
   "execution_count": 3,
   "metadata": {},
   "outputs": [],
   "source": [
    "if 'src' not in os.getcwd():\n",
    "    os.chdir(f\"{os.getcwd()}/src\")"
   ]
  },
  {
   "cell_type": "code",
   "execution_count": 4,
   "metadata": {},
   "outputs": [],
   "source": [
    "# define cross entropy function (log2)\n",
    "cross_entropy = lambda x: -x*np.log2(x)"
   ]
  },
  {
   "cell_type": "markdown",
   "metadata": {},
   "source": [
    "# 1.1 Theory"
   ]
  },
  {
   "cell_type": "code",
   "execution_count": 5,
   "metadata": {},
   "outputs": [
    {
     "data": {
      "text/html": [
       "<div>\n",
       "<style scoped>\n",
       "    .dataframe tbody tr th:only-of-type {\n",
       "        vertical-align: middle;\n",
       "    }\n",
       "\n",
       "    .dataframe tbody tr th {\n",
       "        vertical-align: top;\n",
       "    }\n",
       "\n",
       "    .dataframe thead th {\n",
       "        text-align: right;\n",
       "    }\n",
       "</style>\n",
       "<table border=\"1\" class=\"dataframe\">\n",
       "  <thead>\n",
       "    <tr style=\"text-align: right;\">\n",
       "      <th></th>\n",
       "      <th>Y</th>\n",
       "      <th>x1</th>\n",
       "      <th>x2</th>\n",
       "      <th>Count</th>\n",
       "    </tr>\n",
       "  </thead>\n",
       "  <tbody>\n",
       "    <tr>\n",
       "      <th>0</th>\n",
       "      <td>+</td>\n",
       "      <td>T</td>\n",
       "      <td>T</td>\n",
       "      <td>3</td>\n",
       "    </tr>\n",
       "    <tr>\n",
       "      <th>1</th>\n",
       "      <td>+</td>\n",
       "      <td>T</td>\n",
       "      <td>F</td>\n",
       "      <td>4</td>\n",
       "    </tr>\n",
       "    <tr>\n",
       "      <th>2</th>\n",
       "      <td>+</td>\n",
       "      <td>F</td>\n",
       "      <td>T</td>\n",
       "      <td>4</td>\n",
       "    </tr>\n",
       "    <tr>\n",
       "      <th>3</th>\n",
       "      <td>+</td>\n",
       "      <td>F</td>\n",
       "      <td>F</td>\n",
       "      <td>1</td>\n",
       "    </tr>\n",
       "    <tr>\n",
       "      <th>4</th>\n",
       "      <td>-</td>\n",
       "      <td>T</td>\n",
       "      <td>T</td>\n",
       "      <td>0</td>\n",
       "    </tr>\n",
       "    <tr>\n",
       "      <th>5</th>\n",
       "      <td>-</td>\n",
       "      <td>T</td>\n",
       "      <td>F</td>\n",
       "      <td>1</td>\n",
       "    </tr>\n",
       "    <tr>\n",
       "      <th>6</th>\n",
       "      <td>-</td>\n",
       "      <td>F</td>\n",
       "      <td>T</td>\n",
       "      <td>3</td>\n",
       "    </tr>\n",
       "    <tr>\n",
       "      <th>7</th>\n",
       "      <td>-</td>\n",
       "      <td>F</td>\n",
       "      <td>F</td>\n",
       "      <td>5</td>\n",
       "    </tr>\n",
       "  </tbody>\n",
       "</table>\n",
       "</div>"
      ],
      "text/plain": [
       "   Y x1 x2  Count\n",
       "0  +  T  T      3\n",
       "1  +  T  F      4\n",
       "2  +  F  T      4\n",
       "3  +  F  F      1\n",
       "4  -  T  T      0\n",
       "5  -  T  F      1\n",
       "6  -  F  T      3\n",
       "7  -  F  F      5"
      ]
     },
     "execution_count": 5,
     "metadata": {},
     "output_type": "execute_result"
    }
   ],
   "source": [
    "df1 = pd.DataFrame({\n",
    "    \"Y\" : ['+', '+', '+', '+', '-', '-', '-', '-'], \n",
    "    \"x1\" : ['T', 'T', 'F', 'F', 'T', 'T', 'F', 'F'],\n",
    "    \"x2\" : ['T', 'F', 'T', 'F', 'T', 'F', 'T', 'F'],\n",
    "    \"Count\" : [3, 4, 4, 1, 0, 1, 3, 5]\n",
    "})\n",
    "df1"
   ]
  },
  {
   "cell_type": "code",
   "execution_count": 6,
   "metadata": {
    "scrolled": false
   },
   "outputs": [
    {
     "name": "stdout",
     "output_type": "stream",
     "text": [
      "Sample Entropy=0.9852\n"
     ]
    }
   ],
   "source": [
    "total = np.sum(df1[\"Count\"])\n",
    "E_Y_pos = cross_entropy(np.sum(df1[df1['Y'] == '+'][\"Count\"])/total)\n",
    "E_Y_neg = cross_entropy(np.sum(df1[df1['Y'] == '-'][\"Count\"])/total)\n",
    "E_Y = E_Y_pos + E_Y_neg\n",
    "print(f\"Sample Entropy={E_Y:.4f}\")"
   ]
  },
  {
   "cell_type": "code",
   "execution_count": 7,
   "metadata": {},
   "outputs": [
    {
     "name": "stdout",
     "output_type": "stream",
     "text": [
      "Info gains={'x1': 0.18310473570119645, 'x2': 0.04488331134123014}\n",
      "\n",
      "              x1\n",
      "              ||\n",
      "      --T-----  -----F--\n",
      "      |                |\n",
      "      x2               x2\n",
      "      ||               ||\n",
      " --T--  --F--     --T--  --F--\n",
      " |          |     |          |\n",
      " +          +     +          -\n",
      "\n"
     ]
    }
   ],
   "source": [
    "# Information gain for feature x1\n",
    "info_gains = {'x1': 0, 'x2': 0}\n",
    "for feature in info_gains:\n",
    "    entropy = 0\n",
    "    for val in set(df1[feature]):\n",
    "        t = np.sum(df1[df1[feature] == val][\"Count\"])\n",
    "        p = np.sum(df1[(df1[feature] == val) & (df1['Y'] == '+')][\"Count\"])\n",
    "        n = t-p\n",
    "        entropy += (t/total)*(cross_entropy(p/t) + cross_entropy(n/t))\n",
    "    info_gains[feature] = E_Y - entropy\n",
    "\n",
    "print(f\"Info gains={info_gains}\")\n",
    "\n",
    "print('''\n",
    "              x1\n",
    "              ||\n",
    "      --T-----  -----F--\n",
    "      |                |\n",
    "      x2               x2\n",
    "      ||               ||\n",
    " --T--  --F--     --T--  --F--\n",
    " |          |     |          |\n",
    " +          +     +          -\n",
    "''')"
   ]
  },
  {
   "cell_type": "markdown",
   "metadata": {},
   "source": [
    "# 1.2 Theory"
   ]
  },
  {
   "cell_type": "code",
   "execution_count": 8,
   "metadata": {},
   "outputs": [
    {
     "data": {
      "text/html": [
       "<div>\n",
       "<style scoped>\n",
       "    .dataframe tbody tr th:only-of-type {\n",
       "        vertical-align: middle;\n",
       "    }\n",
       "\n",
       "    .dataframe tbody tr th {\n",
       "        vertical-align: top;\n",
       "    }\n",
       "\n",
       "    .dataframe thead th {\n",
       "        text-align: right;\n",
       "    }\n",
       "</style>\n",
       "<table border=\"1\" class=\"dataframe\">\n",
       "  <thead>\n",
       "    <tr style=\"text-align: right;\">\n",
       "      <th></th>\n",
       "      <th>x1</th>\n",
       "      <th>x2</th>\n",
       "      <th>Y</th>\n",
       "    </tr>\n",
       "  </thead>\n",
       "  <tbody>\n",
       "    <tr>\n",
       "      <th>0</th>\n",
       "      <td>216</td>\n",
       "      <td>5.68</td>\n",
       "      <td>+</td>\n",
       "    </tr>\n",
       "    <tr>\n",
       "      <th>1</th>\n",
       "      <td>69</td>\n",
       "      <td>4.78</td>\n",
       "      <td>+</td>\n",
       "    </tr>\n",
       "    <tr>\n",
       "      <th>2</th>\n",
       "      <td>302</td>\n",
       "      <td>2.31</td>\n",
       "      <td>-</td>\n",
       "    </tr>\n",
       "    <tr>\n",
       "      <th>3</th>\n",
       "      <td>60</td>\n",
       "      <td>3.16</td>\n",
       "      <td>+</td>\n",
       "    </tr>\n",
       "    <tr>\n",
       "      <th>4</th>\n",
       "      <td>393</td>\n",
       "      <td>4.20</td>\n",
       "      <td>-</td>\n",
       "    </tr>\n",
       "  </tbody>\n",
       "</table>\n",
       "</div>"
      ],
      "text/plain": [
       "    x1    x2  Y\n",
       "0  216  5.68  +\n",
       "1   69  4.78  +\n",
       "2  302  2.31  -\n",
       "3   60  3.16  +\n",
       "4  393  4.20  -"
      ]
     },
     "execution_count": 8,
     "metadata": {},
     "output_type": "execute_result"
    }
   ],
   "source": [
    "df2 = pd.DataFrame({\n",
    "    'x1': [216, 69, 302, 60, 393],\n",
    "    'x2': [5.68, 4.78, 2.31, 3.16, 4.2],\n",
    "    'Y': ['+', '+', '-', '+', '-']\n",
    "})\n",
    "df2"
   ]
  },
  {
   "cell_type": "code",
   "execution_count": 9,
   "metadata": {},
   "outputs": [
    {
     "name": "stdout",
     "output_type": "stream",
     "text": [
      "P[Y=+]=0.6, P[Y=-]=0.4\n"
     ]
    }
   ],
   "source": [
    "total = len(df2)\n",
    "P_Y_pos = len(df2[df2['Y'] == '+'])/total\n",
    "P_Y_neg = len(df2[df2['Y'] == '-'])/total\n",
    "\n",
    "print(f\"P[Y=+]={P_Y_pos}, P[Y=-]={P_Y_neg}\")"
   ]
  },
  {
   "cell_type": "code",
   "execution_count": 10,
   "metadata": {},
   "outputs": [],
   "source": [
    "def standardize(x):\n",
    "    return (x - np.mean(x))/np.std(x)"
   ]
  },
  {
   "cell_type": "code",
   "execution_count": 11,
   "metadata": {},
   "outputs": [],
   "source": [
    "param = {'x1': [], 'x2': []}\n",
    "for feature in param:\n",
    "    param[feature] = [\n",
    "        ( np.mean(df2[df2[\"Y\"] == '+'][feature]) , np.std(df2[df2[\"Y\"] == '+'][feature]) ),\n",
    "        ( np.mean(df2[df2[\"Y\"] == '-'][feature]) , np.std(df2[df2[\"Y\"] == '-'][feature]) ),\n",
    "    ]"
   ]
  },
  {
   "cell_type": "code",
   "execution_count": 12,
   "metadata": {},
   "outputs": [
    {
     "data": {
      "text/plain": [
       "{'x1': [(115.0, 71.5122367151245), (347.5, 45.5)],\n",
       " 'x2': [(4.54, 1.0426888318189658), (3.255, 0.9450000000000001)]}"
      ]
     },
     "execution_count": 12,
     "metadata": {},
     "output_type": "execute_result"
    }
   ],
   "source": [
    "param"
   ]
  },
  {
   "cell_type": "code",
   "execution_count": 13,
   "metadata": {},
   "outputs": [],
   "source": [
    "gaus_dist = lambda x, mu, sig: 1/(np.sqrt(2*np.pi*sig))*np.exp(-(x-mu)**2/(2*sig))"
   ]
  },
  {
   "cell_type": "code",
   "execution_count": 45,
   "metadata": {
    "scrolled": true
   },
   "outputs": [
    {
     "name": "stdout",
     "output_type": "stream",
     "text": [
      "P[Y=+|X]=0.012766722994357377 > P[Y=-|X]=0.0025514553197298834\n",
      "Classification is: Y=+, meaning an essay with 242 char and 4.56 word avg length should get and A\n"
     ]
    }
   ],
   "source": [
    "x1_test = 242\n",
    "x2_test = 4.56\n",
    "P_X1_Y_pos = gaus_dist((x1_test-param['x1'][0][0])/param['x1'][0][1], 0 , 1)\n",
    "P_X2_Y_pos = gaus_dist((x2_test-param['x2'][0][0])/param['x2'][0][1], 0, 1)\n",
    "P_X1_Y_neg = gaus_dist((x1_test-param['x1'][1][0])/param['x1'][1][1], 0, 1)\n",
    "P_X2_Y_neg = gaus_dist((x2_test-param['x2'][1][0])/param['x2'][1][1], 0, 1)\n",
    "P_Y_pos_X = P_Y_pos*P_X1_Y_pos*P_X2_Y_pos\n",
    "P_Y_neg_X = P_Y_neg*P_X1_Y_neg*P_X2_Y_neg\n",
    "\n",
    "print(f\"P[Y=+|X]={P_Y_pos_X} > P[Y=-|X]={P_Y_neg_X}\")\n",
    "print(f\"Classification is: Y=+, meaning an essay with {x1_test} char and {x2_test} word avg length should get and A\")"
   ]
  },
  {
   "cell_type": "markdown",
   "metadata": {},
   "source": [
    "# 1.3 Theory"
   ]
  },
  {
   "cell_type": "code",
   "execution_count": 15,
   "metadata": {},
   "outputs": [
    {
     "name": "stdout",
     "output_type": "stream",
     "text": [
      "We can use the validation set to see what is the best value for k -- the number nearest neighbors. Specifically, we can use the Receiver Operating Characteristic curve to assess the performance of a certain 'k'.\n"
     ]
    }
   ],
   "source": [
    "print(\"We can use the validation set to see what is the best value for k -- the number nearest neighbors. Specifically, we can use the Receiver Operating Characteristic curve to assess the performance of a certain 'k'.\")"
   ]
  },
  {
   "cell_type": "markdown",
   "metadata": {},
   "source": [
    "# 2. Logistic Regression "
   ]
  },
  {
   "cell_type": "code",
   "execution_count": 16,
   "metadata": {},
   "outputs": [],
   "source": [
    "from sklearn.preprocessing import StandardScaler\n",
    "from sklearn.linear_model import LogisticRegression\n",
    "from sklearn.model_selection import train_test_split\n",
    "from sklearn.datasets import load_iris"
   ]
  },
  {
   "cell_type": "code",
   "execution_count": 17,
   "metadata": {},
   "outputs": [],
   "source": [
    "# Load in the iris dataset\n",
    "iris_ds = load_iris()\n",
    "X = iris_ds.data[:,:2]\n",
    "y = (iris_ds.target != 0) * 1\n",
    "scaler = StandardScaler().fit(X)\n",
    "X = scaler.transform(X)\n"
   ]
  },
  {
   "cell_type": "code",
   "execution_count": 18,
   "metadata": {},
   "outputs": [],
   "source": [
    "class MyLogRegr:\n",
    "    def __init__(self, lr=0.01, stop_iter=10000, stop_loss_delta=2e-23, standardize=False, seed=0, verbose=False):\n",
    "        self.lr = lr\n",
    "        self.stop_iter = stop_iter\n",
    "        self.verbose = verbose\n",
    "        self.standardize = standardize\n",
    "\n",
    "        self._sigmoid = lambda z: 1 / (1 + np.exp(-z))\n",
    "        self._log_loss = lambda y, h: np.mean(y * np.log(h) - (1 - y) * np.log(1 - h))\n",
    "        self._y_hat = lambda x, theta: self._sigmoid(x @ theta)\n",
    "\n",
    "        self._history = []\n",
    "        self._loss_prev = 100\n",
    "        self._loss_change = 100\n",
    "        self._stop_loss_delta = stop_loss_delta\n",
    "\n",
    "    def preprocess(self, X, y=None):\n",
    "        if self.standardize:\n",
    "            scaler = StandardScaler().fit(X)\n",
    "            X = scaler.transform(X)\n",
    "        X = np.append(np.ones([len(X), 1]), X, 1)\n",
    "        return X, y\n",
    "    \n",
    "    def fit(self, X, y):\n",
    "        X, _ = self.preprocess(X, None)\n",
    "\n",
    "        np.random.seed(0)\n",
    "        self.theta = 2 * np.random.rand(X.shape[1]) - 1\n",
    "        pbar = tqdm(range(self.stop_iter))\n",
    "        for itr in pbar:\n",
    "            h = self._y_hat(X, self.theta)\n",
    "            gradient = X.T @ (h - y)\n",
    "            self.theta -= self.lr * gradient\n",
    "            \n",
    "            loss = self._log_loss(y, self._y_hat(X, self.theta))\n",
    "            self._loss_change = np.abs(loss - self._loss_prev)\n",
    "            self._loss_prev = loss\n",
    "            \n",
    "            if self._loss_change < self._stop_loss_delta:\n",
    "                break\n",
    "            \n",
    "            self._history.append(loss)\n",
    "            if self.verbose and not itr % 200:\n",
    "                pbar.set_description(f\"iter={itr+1}, loss={loss:.3f}, loss_chg={self._loss_change:.6f}\")\n",
    "    \n",
    "    def predict_prob(self, X):\n",
    "        X, _ = self.preprocess(X, None)\n",
    "        return self._y_hat(X, self.theta)\n",
    "    \n",
    "    def predict(self, X, threshold):\n",
    "        return self.predict_prob(X) > threshold"
   ]
  },
  {
   "cell_type": "code",
   "execution_count": 19,
   "metadata": {
    "tags": []
   },
   "outputs": [
    {
     "data": {
      "application/vnd.jupyter.widget-view+json": {
       "model_id": "a90fc96870e04079bd213fc49f72119d",
       "version_major": 2,
       "version_minor": 0
      },
      "text/plain": [
       "HBox(children=(HTML(value=''), FloatProgress(value=0.0, max=10000.0), HTML(value='')))"
      ]
     },
     "metadata": {},
     "output_type": "display_data"
    },
    {
     "name": "stdout",
     "output_type": "stream",
     "text": [
      "\n"
     ]
    },
    {
     "name": "stderr",
     "output_type": "stream",
     "text": [
      "<ipython-input-18-177b9f8dc724>:9: RuntimeWarning: divide by zero encountered in log\n",
      "  self._log_loss = lambda y, h: np.mean(y * np.log(h) - (1 - y) * np.log(1 - h))\n",
      "<ipython-input-18-177b9f8dc724>:9: RuntimeWarning: invalid value encountered in multiply\n",
      "  self._log_loss = lambda y, h: np.mean(y * np.log(h) - (1 - y) * np.log(1 - h))\n"
     ]
    },
    {
     "data": {
      "text/plain": [
       "array([10.1913014 , 15.71517823, -7.70486056])"
      ]
     },
     "execution_count": 19,
     "metadata": {},
     "output_type": "execute_result"
    }
   ],
   "source": [
    "iris_model = MyLogRegr(lr=0.01, stop_iter=10000, standardize=False)\n",
    "iris_model.fit(X, y)\n",
    "iris_model.theta"
   ]
  },
  {
   "cell_type": "code",
   "execution_count": 20,
   "metadata": {},
   "outputs": [
    {
     "name": "stdout",
     "output_type": "stream",
     "text": [
      "[47.81414621] [[ 67.26895116 -30.03507303]]\n"
     ]
    },
    {
     "name": "stderr",
     "output_type": "stream",
     "text": [
      "[Parallel(n_jobs=1)]: Using backend SequentialBackend with 1 concurrent workers.\n",
      "[Parallel(n_jobs=1)]: Done   1 out of   1 | elapsed:    0.0s finished\n"
     ]
    }
   ],
   "source": [
    "log_regr = LogisticRegression(penalty='none', solver='lbfgs', max_iter=10000, verbose=True, random_state=0).fit(X, y)\n",
    "print(log_regr.intercept_, log_regr.coef_)"
   ]
  },
  {
   "cell_type": "code",
   "execution_count": 21,
   "metadata": {},
   "outputs": [],
   "source": [
    "iris_df = pd.DataFrame(X)\n",
    "iris_df['y'] = y"
   ]
  },
  {
   "cell_type": "markdown",
   "metadata": {},
   "source": [
    "## 2. Logistic Decision Boundary Graph"
   ]
  },
  {
   "cell_type": "code",
   "execution_count": 22,
   "metadata": {},
   "outputs": [
    {
     "data": {
      "text/plain": [
       "<matplotlib.legend.Legend at 0x7f5c241211c0>"
      ]
     },
     "execution_count": 22,
     "metadata": {},
     "output_type": "execute_result"
    },
    {
     "data": {
      "image/png": "[encoded data removed]",
      "text/plain": [
       "<Figure size 720x432 with 1 Axes>"
      ]
     },
     "metadata": {
      "needs_background": "light"
     },
     "output_type": "display_data"
    }
   ],
   "source": [
    "plt.figure(figsize=(10, 6))\n",
    "plt.scatter(iris_df[iris_df['y'] == 0][0], iris_df[iris_df['y'] == 0][1], c='red', label='0')\n",
    "plt.scatter(iris_df[iris_df['y'] == 1][0], iris_df[iris_df['y'] == 1][1], c='blue', label='1')\n",
    "\n",
    "x1_min, x1_max = X[:,0].min(), X[:,0].max()\n",
    "x2_min, x2_max = X[:,1].min(), X[:,1].max()\n",
    "# xx1, xx2 = np.meshgrid(np.linspace(x1_min, x1_max), np.linspace(x2_min, x2_max))\n",
    "# grid = np.c_[xx1.ravel(), xx2.ravel()]\n",
    "# probs = log_regr.predict(grid).reshape(xx1.shape)\n",
    "# plt.contour(xx1, xx2, probs, [0.5], linewidths=1, colors='black', label='sklearn')\n",
    "# probs = model.predict(grid, 0.5).reshape(xx1.shape)\n",
    "# plt.contour(xx1, xx2, probs, [0.5], linewidths=1, colors='green', label='my log regr')\n",
    "xx = np.linspace(x1_min, x1_max)\n",
    "plt.ylim([x2_min, x2_max])\n",
    "\n",
    "w = log_regr.coef_[0]\n",
    "a = -w[0] / w[1]\n",
    "yy = a * xx - (log_regr.intercept_[0]) / w[1]\n",
    "plt.plot(xx, yy, 'k-', label='sklearn')\n",
    "\n",
    "w = iris_model.theta\n",
    "a = -w[1] / w[2]\n",
    "yy = a * xx - (w[0]) / w[2]\n",
    "plt.plot(xx, yy, 'g-', label='mine')\n",
    "\n",
    "plt.legend()"
   ]
  },
  {
   "cell_type": "markdown",
   "metadata": {},
   "source": [
    "# 3. Logistic Regression Spam Classification"
   ]
  },
  {
   "cell_type": "code",
   "execution_count": 23,
   "metadata": {},
   "outputs": [],
   "source": [
    "spam_df = pd.read_csv('spambase.csv', sep=',', header=None)\n",
    "spam_data = spam_df.values"
   ]
  },
  {
   "cell_type": "code",
   "execution_count": 24,
   "metadata": {},
   "outputs": [],
   "source": [
    "x_train, x_test, y_train, y_test = train_test_split(spam_data[:,:-1], \n",
    "                                                    spam_data[:,-1], \n",
    "                                                    test_size=1/3, \n",
    "                                                    random_state=0)"
   ]
  },
  {
   "cell_type": "code",
   "execution_count": 25,
   "metadata": {},
   "outputs": [],
   "source": [
    "scaler = StandardScaler().fit(x_train)\n",
    "x_train = scaler.transform(x_train)\n",
    "x_test = scaler.transform(x_test)"
   ]
  },
  {
   "cell_type": "code",
   "execution_count": 26,
   "metadata": {
    "scrolled": true
   },
   "outputs": [
    {
     "data": {
      "application/vnd.jupyter.widget-view+json": {
       "model_id": "650101ef258043698944a93da3b6ab0b",
       "version_major": 2,
       "version_minor": 0
      },
      "text/plain": [
       "HBox(children=(HTML(value=''), FloatProgress(value=0.0, max=1500.0), HTML(value='')))"
      ]
     },
     "metadata": {},
     "output_type": "display_data"
    },
    {
     "name": "stderr",
     "output_type": "stream",
     "text": [
      "<ipython-input-18-177b9f8dc724>:9: RuntimeWarning: divide by zero encountered in log\n",
      "  self._log_loss = lambda y, h: np.mean(y * np.log(h) - (1 - y) * np.log(1 - h))\n",
      "<ipython-input-18-177b9f8dc724>:9: RuntimeWarning: invalid value encountered in multiply\n",
      "  self._log_loss = lambda y, h: np.mean(y * np.log(h) - (1 - y) * np.log(1 - h))\n"
     ]
    },
    {
     "name": "stdout",
     "output_type": "stream",
     "text": [
      "\n"
     ]
    }
   ],
   "source": [
    "spam_model = MyLogRegr(lr=0.01, stop_iter=1500,verbose=True, standardize=False)\n",
    "spam_model.fit(x_train, y_train)"
   ]
  },
  {
   "cell_type": "code",
   "execution_count": 27,
   "metadata": {},
   "outputs": [],
   "source": [
    "def get_test_stats(y, y_hat):\n",
    "    acc = np.sum(y_hat == y)/len(y)\n",
    "    true_pos = np.sum(np.equal(y_hat, 1) & np.equal(y, 1))\n",
    "    # true_neg = np.sum(np.equal(y_hat, 1) & np.equal(y, 0))\n",
    "    false_pos = np.sum(np.equal(y_hat, 0) & np.equal(y, 1))\n",
    "    false_neg = np.sum(np.equal(y_hat, 0) & np.equal(y, 0))\n",
    "    precision = true_pos/(true_pos + false_pos)\n",
    "    recall = true_pos/(true_pos + false_neg)\n",
    "    f1_measure = 2*precision*recall/(precision+recall)\n",
    "\n",
    "    print(f\"acc={acc:.4f}, precision={precision:.4f}, recall={recall:.4f}, f1_measure={f1_measure:.4f}\")"
   ]
  },
  {
   "cell_type": "code",
   "execution_count": 28,
   "metadata": {},
   "outputs": [
    {
     "name": "stdout",
     "output_type": "stream",
     "text": [
      "acc=0.8664, precision=0.7203, recall=0.3371, f1_measure=0.4593\n"
     ]
    }
   ],
   "source": [
    "y_test_predict = spam_model.predict(x_test, 0.5)\n",
    "get_test_stats(y_test, y_test_predict)"
   ]
  },
  {
   "cell_type": "markdown",
   "metadata": {},
   "source": [
    "# 4. Naive Bayes Classifier"
   ]
  },
  {
   "cell_type": "code",
   "execution_count": 29,
   "metadata": {},
   "outputs": [],
   "source": [
    "spam_df_train = pd.DataFrame(x_train)\n",
    "spam_df_train['y'] = y_train"
   ]
  },
  {
   "cell_type": "code",
   "execution_count": 30,
   "metadata": {},
   "outputs": [],
   "source": [
    "X_Y_pos = spam_df_train[spam_df_train['y'] == 1].values[:,:-1]\n",
    "X_Y_neg = spam_df_train[spam_df_train['y'] == 0].values[:,:-1]"
   ]
  },
  {
   "cell_type": "code",
   "execution_count": 31,
   "metadata": {},
   "outputs": [
    {
     "name": "stdout",
     "output_type": "stream",
     "text": [
      "P[Y=+]=0.3883273557222041, P[Y=-]=0.6116726442777959\n"
     ]
    }
   ],
   "source": [
    "scaler_pos = StandardScaler().fit(X_Y_pos)\n",
    "scaler_neg = StandardScaler().fit(X_Y_neg)\n",
    "\n",
    "total = len(spam_df_train)\n",
    "P_Y_pos = len(spam_df_train[spam_df_train['y'] == 1])/total\n",
    "P_Y_neg = len(spam_df_train[spam_df_train['y'] == 0])/total\n",
    "\n",
    "print(f\"P[Y=+]={P_Y_pos}, P[Y=-]={P_Y_neg}\")"
   ]
  },
  {
   "cell_type": "code",
   "execution_count": 32,
   "metadata": {},
   "outputs": [],
   "source": [
    "eps = 2e-26\n",
    "G_pos = gaus_dist(x_test, scaler_pos.mean_, scaler_pos.var_**2) + eps\n",
    "P_Y_pos_X = np.sum(np.log(G_pos), axis=1) + np.log(P_Y_pos)\n",
    "\n",
    "G_neg = gaus_dist(x_test, scaler_neg.mean_, scaler_neg.var_**2) + eps\n",
    "P_Y_neg_X = np.sum(np.log(G_neg), axis=1) + np.log(P_Y_neg)"
   ]
  },
  {
   "cell_type": "code",
   "execution_count": 33,
   "metadata": {},
   "outputs": [
    {
     "name": "stdout",
     "output_type": "stream",
     "text": [
      "acc=0.8429, precision=0.6415, recall=0.3086, f1_measure=0.4167\n"
     ]
    }
   ],
   "source": [
    "y_test_predict = P_Y_pos_X > P_Y_neg_X\n",
    "get_test_stats(y_test, y_test_predict)"
   ]
  },
  {
   "cell_type": "markdown",
   "metadata": {},
   "source": [
    "# 5. Decision Trees"
   ]
  },
  {
   "cell_type": "code",
   "execution_count": 34,
   "metadata": {},
   "outputs": [],
   "source": [
    "# Turn into binary features\n",
    "def binarize_features(orginal_df):\n",
    "    bin_df = orginal_df.drop('y', axis=1).copy().to_numpy()\n",
    "    mean = np.mean(bin_df)\n",
    "    bin_df[bin_df > mean] = 1\n",
    "    bin_df[bin_df <= mean] = 0\n",
    "    bin_df = pd.DataFrame(bin_df)\n",
    "\n",
    "    features = set(bin_df.keys())\n",
    "\n",
    "    # Add 'y' back in\n",
    "    bin_df['y'] = orginal_df['y']\n",
    "    \n",
    "    return bin_df, features"
   ]
  },
  {
   "cell_type": "code",
   "execution_count": 35,
   "metadata": {},
   "outputs": [],
   "source": [
    "spam_bin_train, attributes = binarize_features(spam_df_train)"
   ]
  },
  {
   "cell_type": "code",
   "execution_count": 36,
   "metadata": {},
   "outputs": [],
   "source": [
    "def get_best_feature(examples, attributes):\n",
    "    total = len(examples)\n",
    "    E_Y_pos = cross_entropy(len(examples[examples['y'] == 1])/total)\n",
    "    E_Y_neg = cross_entropy(len(examples[examples['y'] == 0])/total)\n",
    "    E_Y = E_Y_pos + E_Y_neg\n",
    "\n",
    "    info_gains = {}\n",
    "    for feature in attributes:\n",
    "        entropy = 0\n",
    "        for val in [0, 1]:\n",
    "            t = len(examples[examples[feature] == val])\n",
    "            p = len(examples[(examples[feature] == val) & (examples['y'] == 1)])\n",
    "            n = t-p\n",
    "            if t > 0 and p*n > 0:\n",
    "                entropy += (t/total)*(cross_entropy(p/t) + cross_entropy(n/t))\n",
    "        info_gains[feature] = E_Y - entropy\n",
    "\n",
    "    best_att = max(info_gains.items(), key=operator.itemgetter(1))[0]\n",
    "    return best_att, info_gains[best_att]"
   ]
  },
  {
   "cell_type": "code",
   "execution_count": 37,
   "metadata": {},
   "outputs": [],
   "source": [
    "def ID3 (examples, root, attributes):\n",
    "    y0 = len(examples[examples['y'] == 0])\n",
    "    y1 = len(examples[examples['y'] == 1])\n",
    "    mode = 0 if y0 > y1 else 1\n",
    "    if y0 == 0:\n",
    "        return {'label': 1}\n",
    "\n",
    "    if y1 == 0:\n",
    "        return {'label': 0}\n",
    "\n",
    "    if attributes == set():\n",
    "        return {'label': mode}\n",
    "\n",
    "    att, _ = get_best_feature(examples, attributes)\n",
    "#     att = list(attributes)[0]    # NAIVE\n",
    "    root['att'] = att\n",
    "    \n",
    "    for val in [0, 1]:\n",
    "        node = dict({'att': None, 1: None, 0: None})\n",
    "        examples_subset = examples[examples[att] == val]\n",
    "        if len(examples_subset) == 0:\n",
    "            root[val] = {'label': mode}\n",
    "        else:\n",
    "            root[val] = ID3(examples_subset, node, attributes - {att})\n",
    "    \n",
    "    return root"
   ]
  },
  {
   "cell_type": "code",
   "execution_count": 38,
   "metadata": {
    "tags": []
   },
   "outputs": [
    {
     "name": "stdout",
     "output_type": "stream",
     "text": [
      "CPU times: user 27.8 s, sys: 87.8 ms, total: 27.9 s\n",
      "Wall time: 27.9 s\n"
     ]
    }
   ],
   "source": [
    "root = dict({'att': None, 1: None, 0: None})\n",
    "%time tree = ID3(spam_bin_train, root, attributes)"
   ]
  },
  {
   "cell_type": "code",
   "execution_count": 44,
   "metadata": {},
   "outputs": [],
   "source": [
    "# tree"
   ]
  },
  {
   "cell_type": "code",
   "execution_count": 40,
   "metadata": {},
   "outputs": [],
   "source": [
    "spam_df_test = pd.DataFrame(x_test)\n",
    "spam_df_test['y'] = y_test\n",
    "\n",
    "spam_bin_test, _ = binarize_features(spam_df_test)\n",
    "spam_bin_test_data = spam_bin_test.values"
   ]
  },
  {
   "cell_type": "code",
   "execution_count": 41,
   "metadata": {},
   "outputs": [],
   "source": [
    "def traverse_tree(node, feature):\n",
    "    if 'att' not in node:\n",
    "        return node['label']\n",
    "    else:\n",
    "        att = node['att']\n",
    "        f = feature[att]\n",
    "        return traverse_tree(node[f], feature)"
   ]
  },
  {
   "cell_type": "code",
   "execution_count": 42,
   "metadata": {},
   "outputs": [
    {
     "name": "stdout",
     "output_type": "stream",
     "text": [
      "acc=0.8990, precision=0.8666, recall=0.3909, f1_measure=0.5387\n"
     ]
    }
   ],
   "source": [
    "y_test_predict = []\n",
    "for r in range(spam_bin_test_data.shape[0]):\n",
    "    y_test_predict.append(\n",
    "        traverse_tree(tree, spam_bin_test_data[r,:-1])\n",
    "    )\n",
    "get_test_stats(y_test, y_test_predict)"
   ]
  },
  {
   "cell_type": "code",
   "execution_count": 43,
   "metadata": {},
   "outputs": [],
   "source": [
    "# ID3 (Examples, Target_Attribute, Attributes)\n",
    "#     Create a root node for the tree\n",
    "#     If all examples are positive, Return the single-node tree Root, with label = +.\n",
    "#     If all examples are negative, Return the single-node tree Root, with label = -.\n",
    "#     If number of predicting attributes is empty, then Return the single node tree Root,\n",
    "#     with label = most common value of the target attribute in the examples.\n",
    "#     Otherwise Begin\n",
    "#         A ← The Attribute that best classifies examples.\n",
    "#         Decision Tree attribute for Root = A.\n",
    "#         For each possible value, vi, of A,\n",
    "#             Add a new tree branch below Root, corresponding to the test A = vi.\n",
    "#             Let Examples(vi) be the subset of examples that have the value vi for A\n",
    "#             If Examples(vi) is empty\n",
    "#                 Then below this new branch add a leaf node with label = most common target value in the examples\n",
    "#             Else below this new branch add the subtree ID3 (Examples(vi), Target_Attribute, Attributes – {A})\n",
    "#     End\n",
    "#     Return Root"
   ]
  }
 ],
 "metadata": {
  "kernelspec": {
   "display_name": "Python 3",
   "language": "python",
   "name": "python3"
  },
  "language_info": {
   "codemirror_mode": {
    "name": "ipython",
    "version": 3
   },
   "file_extension": ".py",
   "mimetype": "text/x-python",
   "name": "python",
   "nbconvert_exporter": "python",
   "pygments_lexer": "ipython3",
   "version": "3.8.6"
  }
 },
 "nbformat": 4,
 "nbformat_minor": 4
}
