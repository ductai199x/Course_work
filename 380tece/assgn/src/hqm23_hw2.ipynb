{
 "cells": [
  {
   "cell_type": "markdown",
   "metadata": {},
   "source": [
    "## Preprocessing and Transfer Learning"
   ]
  },
  {
   "cell_type": "code",
   "execution_count": 1,
   "metadata": {},
   "outputs": [],
   "source": [
    "import tensorflow as tf\n",
    "from tensorflow import keras\n",
    "import tensorflow_datasets as tfds\n",
    "import numpy as np\n",
    "import matplotlib.pyplot as plt\n",
    "%matplotlib inline"
   ]
  },
  {
   "cell_type": "code",
   "execution_count": 2,
   "metadata": {},
   "outputs": [],
   "source": [
    "trainSet, info = tfds.load(name='oxford_flowers102', split='train', as_supervised=True, with_info=True)\n",
    "validSet = tfds.load(name='oxford_flowers102', split='validation', as_supervised=True)\n",
    "testSet = tfds.load(name='oxford_flowers102', split='test', as_supervised=True)"
   ]
  },
  {
   "cell_type": "code",
   "execution_count": 3,
   "metadata": {},
   "outputs": [],
   "source": [
    "base_model = keras.applications.xception.Xception(weights='imagenet', include_top=False)\n",
    "avg = keras.layers.GlobalAveragePooling2D()(base_model.output)\n",
    "output = keras.layers.Dense(info.features['label'].num_classes,activation=\"softmax\")(avg)\n",
    "model = keras.models.Model(inputs=base_model.input,outputs=output)\n",
    "for layer in base_model.layers:\n",
    "    layer.trainable=False"
   ]
  },
  {
   "cell_type": "code",
   "execution_count": 4,
   "metadata": {},
   "outputs": [],
   "source": [
    "def preprocess(image,label):\n",
    "    resized_image = tf.image.resize_with_pad(image, 299, 299)\n",
    "    final_image = keras.applications.xception.preprocess_input(resized_image)\n",
    "    return final_image, label"
   ]
  },
  {
   "cell_type": "code",
   "execution_count": 5,
   "metadata": {},
   "outputs": [
    {
     "name": "stdout",
     "output_type": "stream",
     "text": [
      "Epoch 1/5\n",
      "128/128 [==============================] - 38s 300ms/step - loss: 3.7660 - accuracy: 0.1598 - val_loss: 3.7283 - val_accuracy: 0.0971\n",
      "Epoch 2/5\n",
      "128/128 [==============================] - 37s 289ms/step - loss: 1.7062 - accuracy: 0.6559 - val_loss: 2.2030 - val_accuracy: 0.3775\n",
      "Epoch 3/5\n",
      "128/128 [==============================] - 36s 282ms/step - loss: 0.9327 - accuracy: 0.8559 - val_loss: 1.5402 - val_accuracy: 0.6098\n",
      "Epoch 4/5\n",
      "128/128 [==============================] - 36s 282ms/step - loss: 0.5952 - accuracy: 0.9480 - val_loss: 1.3101 - val_accuracy: 0.6853\n",
      "Epoch 5/5\n",
      "128/128 [==============================] - 37s 289ms/step - loss: 0.4159 - accuracy: 0.9755 - val_loss: 1.1941 - val_accuracy: 0.7196\n"
     ]
    },
    {
     "data": {
      "text/plain": [
       "<tensorflow.python.keras.callbacks.History at 0x7f40e2c36e80>"
      ]
     },
     "execution_count": 5,
     "metadata": {},
     "output_type": "execute_result"
    }
   ],
   "source": [
    "trainPipe = trainSet.map(preprocess,num_parallel_calls=32).batch(8).prefetch(1)\n",
    "validPipe = validSet.map(preprocess,num_parallel_calls=32).batch(8).prefetch(1)\n",
    "testPipe = testSet.map(preprocess,num_parallel_calls=32).batch(8).prefetch(1)\n",
    "\n",
    "step_size = 0.2\n",
    "optimizer = keras.optimizers.SGD(learning_rate=step_size)\n",
    "\n",
    "checkpoint_cb = keras.callbacks.ModelCheckpoint('flowersModel-freezed.h5',save_best_only=True)\n",
    "earlyStop_cb = keras.callbacks.EarlyStopping(patience=10,restore_best_weights=True)\n",
    "model.compile(loss=\"sparse_categorical_crossentropy\",optimizer=optimizer,metrics=[\"accuracy\"])\n",
    "model.fit(trainPipe,validation_data=validPipe,epochs=5,callbacks=[checkpoint_cb,earlyStop_cb])"
   ]
  },
  {
   "cell_type": "code",
   "execution_count": 6,
   "metadata": {},
   "outputs": [
    {
     "name": "stdout",
     "output_type": "stream",
     "text": [
      "Epoch 1/10\n",
      "  2/128 [..............................] - ETA: 39s - loss: 2.1678 - accuracy: 0.4375WARNING:tensorflow:Callbacks method `on_train_batch_end` is slow compared to the batch time (batch time: 0.1560s vs `on_train_batch_end` time: 0.4733s). Check your callbacks.\n"
     ]
    },
    {
     "name": "stderr",
     "output_type": "stream",
     "text": [
      "WARNING:tensorflow:Callbacks method `on_train_batch_end` is slow compared to the batch time (batch time: 0.1560s vs `on_train_batch_end` time: 0.4733s). Check your callbacks.\n"
     ]
    },
    {
     "name": "stdout",
     "output_type": "stream",
     "text": [
      "128/128 [==============================] - 102s 795ms/step - loss: 0.9999 - accuracy: 0.7490 - val_loss: 2.8560 - val_accuracy: 0.3971\n",
      "Epoch 2/10\n",
      "128/128 [==============================] - 101s 786ms/step - loss: 0.0915 - accuracy: 0.9863 - val_loss: 0.5423 - val_accuracy: 0.8598\n",
      "Epoch 3/10\n",
      "128/128 [==============================] - 100s 780ms/step - loss: 0.0165 - accuracy: 1.0000 - val_loss: 0.3560 - val_accuracy: 0.9029\n",
      "Epoch 4/10\n",
      "128/128 [==============================] - 100s 779ms/step - loss: 0.0065 - accuracy: 1.0000 - val_loss: 0.3482 - val_accuracy: 0.9069\n",
      "Epoch 5/10\n",
      "128/128 [==============================] - 100s 779ms/step - loss: 0.0048 - accuracy: 1.0000 - val_loss: 0.3426 - val_accuracy: 0.9088\n",
      "Epoch 6/10\n",
      "128/128 [==============================] - 99s 774ms/step - loss: 0.0040 - accuracy: 1.0000 - val_loss: 0.3387 - val_accuracy: 0.9108\n",
      "Epoch 7/10\n",
      "128/128 [==============================] - 100s 778ms/step - loss: 0.0035 - accuracy: 1.0000 - val_loss: 0.3358 - val_accuracy: 0.9118\n",
      "Epoch 8/10\n",
      "128/128 [==============================] - 100s 781ms/step - loss: 0.0031 - accuracy: 1.0000 - val_loss: 0.3334 - val_accuracy: 0.9108\n",
      "Epoch 9/10\n",
      "128/128 [==============================] - 99s 777ms/step - loss: 0.0028 - accuracy: 1.0000 - val_loss: 0.3315 - val_accuracy: 0.9118\n",
      "Epoch 10/10\n",
      "128/128 [==============================] - 99s 776ms/step - loss: 0.0026 - accuracy: 1.0000 - val_loss: 0.3298 - val_accuracy: 0.9118\n"
     ]
    },
    {
     "data": {
      "text/plain": [
       "<tensorflow.python.keras.callbacks.History at 0x7f40e2ce72e8>"
      ]
     },
     "execution_count": 6,
     "metadata": {},
     "output_type": "execute_result"
    }
   ],
   "source": [
    "for layer in base_model.layers:\n",
    "    layer.trainable=True\n",
    "\n",
    "ss = 0.1\n",
    "checkpoint_cb = keras.callbacks.ModelCheckpoint('flowersModel.h5',save_best_only=True)\n",
    "earlyStop_cb = keras.callbacks.EarlyStopping(patience=10,restore_best_weights=True)\n",
    "optimizer = keras.optimizers.SGD(learning_rate=ss)\n",
    "model.compile(loss=\"sparse_categorical_crossentropy\",optimizer=optimizer,metrics=[\"accuracy\"])\n",
    "model.fit(trainPipe,validation_data=validPipe,epochs=10,callbacks=[checkpoint_cb,earlyStop_cb])"
   ]
  },
  {
   "cell_type": "code",
   "execution_count": 7,
   "metadata": {},
   "outputs": [
    {
     "name": "stdout",
     "output_type": "stream",
     "text": [
      "769/769 [==============================] - 108s 140ms/step - loss: 0.3920 - sparse_top_k_categorical_accuracy: 0.8964\n"
     ]
    },
    {
     "data": {
      "text/plain": [
       "[0.3920345902442932, 0.8964059352874756]"
      ]
     },
     "execution_count": 7,
     "metadata": {},
     "output_type": "execute_result"
    }
   ],
   "source": [
    "top1err = tf.keras.metrics.SparseTopKCategoricalAccuracy(k=1)\n",
    "model.compile(loss=\"sparse_categorical_crossentropy\",optimizer=optimizer,metrics=[top1err])\n",
    "model.evaluate(testPipe)"
   ]
  },
  {
   "cell_type": "code",
   "execution_count": 8,
   "metadata": {},
   "outputs": [
    {
     "name": "stdout",
     "output_type": "stream",
     "text": [
      "769/769 [==============================] - 112s 145ms/step - loss: 0.3920 - sparse_top_k_categorical_accuracy: 0.9758\n"
     ]
    },
    {
     "data": {
      "text/plain": [
       "[0.3920345902442932, 0.9757684469223022]"
      ]
     },
     "execution_count": 8,
     "metadata": {},
     "output_type": "execute_result"
    }
   ],
   "source": [
    "top5err = tf.keras.metrics.SparseTopKCategoricalAccuracy(k=5)\n",
    "model.compile(loss=\"sparse_categorical_crossentropy\",optimizer=optimizer,metrics=[top5err])\n",
    "model.evaluate(testPipe)"
   ]
  },
  {
   "cell_type": "code",
   "execution_count": 9,
   "metadata": {},
   "outputs": [
    {
     "name": "stdout",
     "output_type": "stream",
     "text": [
      "769/769 [==============================] - 113s 147ms/step - loss: 0.3920 - sparse_top_k_categorical_accuracy: 0.9891\n"
     ]
    },
    {
     "data": {
      "text/plain": [
       "[0.3920345902442932, 0.9891039133071899]"
      ]
     },
     "execution_count": 9,
     "metadata": {},
     "output_type": "execute_result"
    }
   ],
   "source": [
    "top10err = tf.keras.metrics.SparseTopKCategoricalAccuracy(k=10)\n",
    "model.compile(loss=\"sparse_categorical_crossentropy\",optimizer=optimizer,metrics=[top10err])\n",
    "model.evaluate(testPipe)"
   ]
  },
  {
   "cell_type": "markdown",
   "metadata": {},
   "source": [
    "## Unsupervised Learning"
   ]
  },
  {
   "cell_type": "code",
   "execution_count": 10,
   "metadata": {},
   "outputs": [],
   "source": [
    "new_model = keras.applications.xception.Xception(weights='imagenet', include_top=False)\n",
    "avg = keras.layers.GlobalAveragePooling2D()(new_model.output)\n",
    "new_model = keras.models.Model(inputs=new_model.input,outputs=avg)"
   ]
  },
  {
   "cell_type": "code",
   "execution_count": 11,
   "metadata": {},
   "outputs": [],
   "source": [
    "testSet,info = tfds.load(name='oxford_flowers102', split='test', as_supervised=True, with_info=True)\n",
    "\n",
    "def preprocess(image,label):\n",
    "    resized_image = tf.image.resize_with_pad(image, 299, 299)\n",
    "    final_image = keras.applications.xception.preprocess_input(resized_image)\n",
    "    return final_image, label\n",
    "\n",
    "testPipe = testSet.map(preprocess,num_parallel_calls=32).batch(8)"
   ]
  },
  {
   "cell_type": "code",
   "execution_count": 12,
   "metadata": {},
   "outputs": [],
   "source": [
    "features = new_model.predict(testPipe)"
   ]
  },
  {
   "cell_type": "code",
   "execution_count": 13,
   "metadata": {},
   "outputs": [],
   "source": [
    "from sklearn.decomposition import PCA\n",
    "num_dims = 102\n",
    "explained_variance_ratio = []\n",
    "for dim in np.linspace(1,num_dims,num_dims,dtype=int):\n",
    "    pca = PCA(n_components = dim)\n",
    "    transform = pca.fit_transform(features)\n",
    "    explained_variance_ratio.append(pca.explained_variance_ratio_.sum())"
   ]
  },
  {
   "cell_type": "code",
   "execution_count": 14,
   "metadata": {},
   "outputs": [
    {
     "data": {
      "image/png": "[encoded data removed]",
      "text/plain": [
       "<Figure size 432x288 with 1 Axes>"
      ]
     },
     "metadata": {
      "needs_background": "light"
     },
     "output_type": "display_data"
    }
   ],
   "source": [
    "fig = plt.figure()\n",
    "plt.plot(np.linspace(1,num_dims,num_dims), explained_variance_ratio)\n",
    "plt.xlabel('Number of dimensions')\n",
    "plt.ylabel('Sum of explained variance ratio')\n",
    "plt.title('Explained variance ratio vs. number of dimensions')\n",
    "fig.savefig('explainedVariancePlot.png', bbox_inches='tight')"
   ]
  },
  {
   "cell_type": "code",
   "execution_count": null,
   "metadata": {},
   "outputs": [],
   "source": [
    "new_model.summary()"
   ]
  }
 ],
 "metadata": {
  "kernelspec": {
   "display_name": "myenv",
   "language": "python",
   "name": "myenv"
  },
  "language_info": {
   "codemirror_mode": {
    "name": "ipython",
    "version": 3
   },
   "file_extension": ".py",
   "mimetype": "text/x-python",
   "name": "python",
   "nbconvert_exporter": "python",
   "pygments_lexer": "ipython3",
   "version": "3.6.12"
  }
 },
 "nbformat": 4,
 "nbformat_minor": 4
}
