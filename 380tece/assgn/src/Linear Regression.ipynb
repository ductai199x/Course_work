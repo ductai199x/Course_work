{
 "cells": [
  {
   "cell_type": "code",
   "execution_count": 1,
   "metadata": {},
   "outputs": [],
   "source": [
    "import pickle\n",
    "import copy\n",
    "import numpy as np\n",
    "import pandas as pd\n",
    "import matplotlib.pyplot as plt"
   ]
  },
  {
   "cell_type": "code",
   "execution_count": 2,
   "metadata": {},
   "outputs": [],
   "source": [
    "from sklearn.model_selection import train_test_split\n",
    "from sklearn.preprocessing import StandardScaler\n",
    "from sklearn.linear_model import LinearRegression\n",
    "from sklearn.pipeline import Pipeline\n",
    "from sklearn.base import BaseEstimator, TransformerMixin"
   ]
  },
  {
   "cell_type": "code",
   "execution_count": 3,
   "metadata": {},
   "outputs": [],
   "source": [
    "MSE = lambda actual, predict: np.mean((actual - predict)**2)"
   ]
  },
  {
   "cell_type": "code",
   "execution_count": 4,
   "metadata": {},
   "outputs": [],
   "source": [
    "with open('appml-assignment1-dataset.pkl', 'rb') as f:\n",
    "    data = pickle.load(f)"
   ]
  },
  {
   "cell_type": "code",
   "execution_count": 5,
   "metadata": {},
   "outputs": [
    {
     "data": {
      "text/plain": [
       "Index(['date', 'CAD-open', 'CAD-high', 'CAD-low', 'CAD-close', 'CHF-open',\n",
       "       'CHF-high', 'CHF-low', 'CHF-close', 'CNH-open',\n",
       "       ...\n",
       "       'VGK-low', 'VGK-close', 'VIX-open', 'VIX-high', 'VIX-low', 'VIX-close',\n",
       "       'ZCN-open', 'ZCN-high', 'ZCN-low', 'ZCN-close'],\n",
       "      dtype='object', length=189)"
      ]
     },
     "execution_count": 5,
     "metadata": {},
     "output_type": "execute_result"
    }
   ],
   "source": [
    "data['X'].keys()"
   ]
  },
  {
   "cell_type": "code",
   "execution_count": 6,
   "metadata": {},
   "outputs": [
    {
     "name": "stdout",
     "output_type": "stream",
     "text": [
      "7.331456493071767e-07\n"
     ]
    },
    {
     "data": {
      "text/plain": [
       "(1000.0, 2000.0)"
      ]
     },
     "execution_count": 6,
     "metadata": {},
     "output_type": "execute_result"
    },
    {
     "data": {
      "image/png": "[encoded data removed]",
      "text/plain": [
       "<Figure size 432x288 with 1 Axes>"
      ]
     },
     "metadata": {
      "needs_background": "light"
     },
     "output_type": "display_data"
    }
   ],
   "source": [
    "x_train, x_test, y_train, y_test = train_test_split(data['X'], data['y'], test_size=0.2, random_state=0)\n",
    "x_train = x_train.drop(['date'], axis=1).to_numpy()\n",
    "y_train = y_train.to_numpy()\n",
    "x_test = x_test.drop(['date'], axis=1).to_numpy()\n",
    "y_test = y_test.to_numpy()\n",
    "\n",
    "x_train[np.where(np.isnan(x_train))] = 0\n",
    "x_test[np.where(np.isnan(x_test))] = 0\n",
    "\n",
    "scaler = StandardScaler().fit(x_train)\n",
    "x_train = scaler.transform(x_train)\n",
    "x_test = scaler.transform(x_test)\n",
    "\n",
    "x_train = np.append(np.ones([len(x_train), 1]), x_train, 1)\n",
    "x_test = np.append(np.ones([len(x_test), 1]), x_test, 1)\n",
    "\n",
    "lin_regr = LinearRegression().fit(x_train, y_train)\n",
    "y_test_predict = lin_regr.predict(x_test)\n",
    "\n",
    "print(MSE(y_test, y_test_predict))\n",
    "\n",
    "plt.plot(range(len(y_test)), y_test-y_test_predict, 'r')\n",
    "plt.xlim([1000, 2000])"
   ]
  }
 ],
 "metadata": {
  "kernelspec": {
   "display_name": "Python 3",
   "language": "python",
   "name": "python3"
  },
  "language_info": {
   "codemirror_mode": {
    "name": "ipython",
    "version": 3
   },
   "file_extension": ".py",
   "mimetype": "text/x-python",
   "name": "python",
   "nbconvert_exporter": "python",
   "pygments_lexer": "ipython3",
   "version": "3.8.5"
  }
 },
 "nbformat": 4,
 "nbformat_minor": 4
}
