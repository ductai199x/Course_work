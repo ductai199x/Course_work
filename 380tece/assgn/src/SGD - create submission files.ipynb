{
 "cells": [
  {
   "cell_type": "code",
   "execution_count": 1,
   "metadata": {},
   "outputs": [],
   "source": [
    "import pickle\n",
    "import copy\n",
    "import numpy as np\n",
    "import pandas as pd\n",
    "import matplotlib.pyplot as plt"
   ]
  },
  {
   "cell_type": "code",
   "execution_count": 2,
   "metadata": {},
   "outputs": [],
   "source": [
    "from sklearn.model_selection import train_test_split\n",
    "from sklearn.preprocessing import StandardScaler\n",
    "from sklearn.linear_model import SGDRegressor\n",
    "from sklearn.pipeline import Pipeline\n",
    "from sklearn.base import BaseEstimator, TransformerMixin"
   ]
  },
  {
   "cell_type": "code",
   "execution_count": 3,
   "metadata": {},
   "outputs": [],
   "source": [
    "MSE = lambda actual, predict: np.mean((actual - predict)**2)"
   ]
  },
  {
   "cell_type": "code",
   "execution_count": 4,
   "metadata": {},
   "outputs": [],
   "source": [
    "with open('appml-assignment1-dataset.pkl', 'rb') as f:\n",
    "    data = pickle.load(f)"
   ]
  },
  {
   "cell_type": "code",
   "execution_count": 5,
   "metadata": {},
   "outputs": [],
   "source": [
    "X = data['X'].copy()\n",
    "y = data['y'].copy()\n",
    "X = X.drop(['date'], axis=1).to_numpy()\n",
    "y = y.to_numpy()\n",
    "\n",
    "scaler = StandardScaler().fit(X)\n",
    "X = scaler.transform(X)\n",
    "\n",
    "X[np.where(np.isnan(X))] = 0\n",
    "\n",
    "X = np.append(np.ones([len(X), 1]), X, 1)\n",
    "\n",
    "lin_regr = SGDRegressor(max_iter=10000, tol=1e-4).fit(X, y)\n",
    "\n",
    "with open('model2.pkl', 'wb') as f:\n",
    "    pickle.dump(lin_regr, f)"
   ]
  },
  {
   "cell_type": "code",
   "execution_count": 6,
   "metadata": {},
   "outputs": [],
   "source": [
    "from code2 import Model_2_Transformer"
   ]
  },
  {
   "cell_type": "code",
   "execution_count": 7,
   "metadata": {},
   "outputs": [],
   "source": [
    "p = Model_2_Transformer()\n",
    "\n",
    "with open('pipeline2.pkl', 'wb') as f:\n",
    "    pickle.dump(p, f)"
   ]
  },
  {
   "cell_type": "markdown",
   "metadata": {},
   "source": []
  },
  {
   "cell_type": "code",
   "execution_count": 8,
   "metadata": {},
   "outputs": [
    {
     "name": "stdout",
     "output_type": "stream",
     "text": [
      "2.519343981856147e-06\n"
     ]
    },
    {
     "data": {
      "image/png": "[encoded data removed]",
      "text/plain": [
       "<Figure size 432x288 with 1 Axes>"
      ]
     },
     "metadata": {
      "needs_background": "light"
     },
     "output_type": "display_data"
    }
   ],
   "source": [
    "x_train, x_test, y_train, y_test = train_test_split(data['X'], data['y'], test_size=0.2, random_state=0)\n",
    "with open('model2.pkl', 'rb') as f_model, open('pipeline2.pkl', 'rb') as f_pipe:\n",
    "    model = pickle.load(f_model)\n",
    "    pipe = pickle.load(f_pipe)\n",
    "    x_test_pipe = pipe.transform(x_test)\n",
    "    y_predict_pipe = model.predict(x_test_pipe)\n",
    "\n",
    "    print(MSE(y_test, y_predict_pipe))\n",
    "\n",
    "    plt.plot(range(len(y_test)), y_test-y_predict_pipe, 'r')\n",
    "    plt.xlim([1000, 2000])"
   ]
  }
 ],
 "metadata": {
  "kernelspec": {
   "display_name": "Python 3",
   "language": "python",
   "name": "python3"
  },
  "language_info": {
   "codemirror_mode": {
    "name": "ipython",
    "version": 3
   },
   "file_extension": ".py",
   "mimetype": "text/x-python",
   "name": "python",
   "nbconvert_exporter": "python",
   "pygments_lexer": "ipython3",
   "version": "3.8.5"
  }
 },
 "nbformat": 4,
 "nbformat_minor": 4
}
