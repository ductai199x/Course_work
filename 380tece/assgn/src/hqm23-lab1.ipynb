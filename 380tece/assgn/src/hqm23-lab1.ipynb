{
 "cells": [
  {
   "cell_type": "code",
   "execution_count": 1,
   "metadata": {},
   "outputs": [],
   "source": [
    "import os\n",
    "import pandas as pd\n",
    "import numpy as np\n",
    "\n",
    "cwd = os.getcwd()\n",
    "data_path = os.path.join(cwd, \"appml-assignment1-dataset.pkl\")\n",
    "data = pd.read_pickle(data_path)\n",
    "X = data[\"X\"]\n",
    "y = data[\"y\"]"
   ]
  },
  {
   "cell_type": "markdown",
   "metadata": {},
   "source": [
    "<font size = \"5\">**Model 1: Linear Regression**</font>"
   ]
  },
  {
   "cell_type": "code",
   "execution_count": 2,
   "metadata": {
    "scrolled": false
   },
   "outputs": [],
   "source": [
    "from sklearn.base import BaseEstimator, TransformerMixin\n",
    "\n",
    "class myTransform(BaseEstimator, TransformerMixin):\n",
    "    def __init__(self, strategy='linear'):\n",
    "        self.strategy = strategy\n",
    "    def fit(self, X, y=None):\n",
    "        return self\n",
    "    def transform(self, X):\n",
    "        X_sorted = X.sort_values(by=['date'])\n",
    "        X_interpolated = X_sorted.interpolate(method=self.strategy, limit_direction='both')\n",
    "        return X_interpolated.drop('date', axis=1)"
   ]
  },
  {
   "cell_type": "code",
   "execution_count": 19,
   "metadata": {},
   "outputs": [],
   "source": [
    "from sklearn.model_selection import train_test_split\n",
    "X_train,X_test,y_train,y_test = train_test_split(X,y,test_size=0.2,random_state=42)"
   ]
  },
  {
   "cell_type": "code",
   "execution_count": 4,
   "metadata": {},
   "outputs": [],
   "source": [
    "from sklearn.pipeline import Pipeline\n",
    "from sklearn.preprocessing import StandardScaler\n",
    "pipeline_1 = Pipeline([\n",
    "        ('my_transform', myTransform()),\n",
    "        ('std_scaler', StandardScaler()),\n",
    "    ])"
   ]
  },
  {
   "cell_type": "code",
   "execution_count": 5,
   "metadata": {},
   "outputs": [],
   "source": [
    "from sklearn.linear_model import LinearRegression\n",
    "lin_reg = LinearRegression()\n",
    "X_train_prepared_1 = pipeline_1.fit_transform(X_train)\n",
    "X_test_prepared_1 = pipeline_1.transform(X_test)"
   ]
  },
  {
   "cell_type": "code",
   "execution_count": 6,
   "metadata": {},
   "outputs": [],
   "source": [
    "model_1 = lin_reg.fit(X_train_prepared_1, y_train)"
   ]
  },
  {
   "cell_type": "code",
   "execution_count": 7,
   "metadata": {},
   "outputs": [],
   "source": [
    "y_predict = model_1.predict(X_test_prepared_1)"
   ]
  },
  {
   "cell_type": "code",
   "execution_count": 8,
   "metadata": {},
   "outputs": [
    {
     "name": "stdout",
     "output_type": "stream",
     "text": [
      "0.017578429015134883\n"
     ]
    }
   ],
   "source": [
    "from sklearn.metrics import mean_squared_error\n",
    "\n",
    "mse_1 = mean_squared_error(y_predict, y_test)\n",
    "print(mse_1)"
   ]
  },
  {
   "cell_type": "code",
   "execution_count": 20,
   "metadata": {},
   "outputs": [],
   "source": [
    "class myTransform_2(BaseEstimator, TransformerMixin):\n",
    "    def __init__(self, strategy='linear'):\n",
    "        self.strategy = strategy\n",
    "    def fit(self, X, y=None):\n",
    "        return self\n",
    "    def transform(self, X):\n",
    "        X_sorted = X.sort_values(by=['date'])\n",
    "        X_interpolated = X_sorted.interpolate(method=self.strategy, limit_direction='both')\n",
    "        return X_interpolated[\"CAD-high\"].to_numpy().reshape(-1,1)\n",
    "    \n",
    "pipeline_test = Pipeline([\n",
    "        ('my_transform', myTransform_2()),\n",
    "        ('std_scaler', StandardScaler()),\n",
    "    ])\n",
    "\n",
    "# X_sorted = X_train.sort_values(by=['date'])\n",
    "# X_interpolated = X_sorted.interpolate(method='linear', limit_direction='both')\n",
    "# X_test = X_interpolated[\"CAD-high\"]\n",
    "# type(X_test)\n",
    "\n",
    "X_train_prepared_test = pipeline_test.fit_transform(X_train)\n",
    "X_test_prepared_test = pipeline_test.transform(X_test)\n",
    "\n"
   ]
  },
  {
   "cell_type": "markdown",
   "metadata": {},
   "source": [
    "<font size = \"5\">**Model 2: Stochastic Gradient Descent**</font>"
   ]
  },
  {
   "cell_type": "code",
   "execution_count": 9,
   "metadata": {},
   "outputs": [],
   "source": [
    "pipeline_2 = Pipeline([\n",
    "        ('my_transform', myTransform()),\n",
    "        ('std_scaler', StandardScaler()),\n",
    "    ])"
   ]
  },
  {
   "cell_type": "code",
   "execution_count": 10,
   "metadata": {},
   "outputs": [],
   "source": [
    "X_train_prepared_2 = pipeline_2.fit_transform(X_train)\n",
    "X_test_prepared_2 = pipeline_2.transform(X_test)"
   ]
  },
  {
   "cell_type": "code",
   "execution_count": 11,
   "metadata": {},
   "outputs": [],
   "source": [
    "from sklearn.linear_model import SGDRegressor\n",
    "from sklearn.metrics import mean_squared_error\n",
    "from copy import deepcopy\n",
    "\n",
    "sgd_reg = SGDRegressor(max_iter=1, tol=-np.infty, warm_start=True,\n",
    "    penalty=None, learning_rate=\"constant\", eta0=0.001)\n",
    "\n",
    "minimum_val_error = float(\"inf\")\n",
    "best_epoch = None\n",
    "model_2 = None\n",
    "for epoch in range(1000):\n",
    "    sgd_reg.fit(X_train_prepared_2, y_train.ravel())\n",
    "    y_test_predict = sgd_reg.predict(X_test_prepared_2)\n",
    "    val_error = mean_squared_error(y_test, y_test_predict)\n",
    "    if val_error < minimum_val_error:\n",
    "        minimum_val_error = val_error\n",
    "        best_epoch = epoch\n",
    "        model_2 = deepcopy(sgd_reg)\n",
    "        "
   ]
  },
  {
   "cell_type": "code",
   "execution_count": 12,
   "metadata": {},
   "outputs": [
    {
     "name": "stdout",
     "output_type": "stream",
     "text": [
      "0.017623795185392567\n"
     ]
    }
   ],
   "source": [
    "mse_2 = mean_squared_error(model_2.predict(X_test_prepared_2), y_test)\n",
    "print(mse_2)"
   ]
  },
  {
   "cell_type": "markdown",
   "metadata": {},
   "source": [
    "<font size = \"5\">**Save models and pipelines into pickle format**</font>"
   ]
  },
  {
   "cell_type": "code",
   "execution_count": 13,
   "metadata": {},
   "outputs": [],
   "source": [
    "import joblib\n",
    "\n",
    "file_pipeline_1 = open('pipeline1.pkl', 'wb') \n",
    "joblib.dump(pipeline_1, file_pipeline_1)\n",
    "file_pipeline_1.close()\n",
    "\n",
    "file_model_1 = open('model1.pkl', 'wb')\n",
    "joblib.dump(model_1, file_model_1)\n",
    "file_model_1.close()\n",
    "\n",
    "file_pipeline_2 = open('pipeline2.pkl', 'wb')\n",
    "joblib.dump(pipeline_2, file_pipeline_2)\n",
    "file_pipeline_2.close()\n",
    "\n",
    "file_model_2 = open('model2.pkl', 'wb')\n",
    "joblib.dump(model_2, file_model_2)\n",
    "file_model_2.close()"
   ]
  },
  {
   "cell_type": "markdown",
   "metadata": {},
   "source": [
    "<font size = \"5\">**Load models and pipelines from pickled files**</font>"
   ]
  },
  {
   "cell_type": "code",
   "execution_count": 14,
   "metadata": {},
   "outputs": [],
   "source": [
    "# clear all variables\n",
    "%reset -f"
   ]
  },
  {
   "cell_type": "code",
   "execution_count": 15,
   "metadata": {},
   "outputs": [
    {
     "data": {
      "text/plain": [
       "<function BufferedReader.close>"
      ]
     },
     "execution_count": 15,
     "metadata": {},
     "output_type": "execute_result"
    }
   ],
   "source": [
    "import os\n",
    "import pandas as pd\n",
    "import numpy as np\n",
    "import joblib\n",
    "from code1 import *\n",
    "from code2 import *\n",
    "from sklearn.metrics import mean_squared_error\n",
    "\n",
    "file_model = open('model1.pkl', 'rb')\n",
    "model_1 = joblib.load(file_model)\n",
    "file_model.close()\n",
    "\n",
    "file_pipeline = open('pipeline1.pkl', 'rb')\n",
    "pipeline_1 = joblib.load(file_pipeline)\n",
    "file_pipeline.close\n",
    "\n",
    "file_model = open('model2.pkl', 'rb')\n",
    "model_2 = joblib.load(file_model)\n",
    "file_model.close()\n",
    "\n",
    "file_pipeline = open('pipeline2.pkl', 'rb')\n",
    "pipeline_2 = joblib.load(file_pipeline)\n",
    "file_pipeline.close"
   ]
  },
  {
   "cell_type": "code",
   "execution_count": 16,
   "metadata": {},
   "outputs": [],
   "source": [
    "# Load data for testing\n",
    "cwd = os.getcwd()\n",
    "data_path = os.path.join(cwd, \"appml-assignment1-dataset.pkl\")\n",
    "data = pd.read_pickle(data_path)\n",
    "X = data[\"X\"]\n",
    "y = data[\"y\"]\n",
    "\n",
    "from sklearn.model_selection import train_test_split\n",
    "X_train,X_test,y_train,y_test = train_test_split(X,y,test_size=0.2,random_state=42)"
   ]
  },
  {
   "cell_type": "code",
   "execution_count": 17,
   "metadata": {},
   "outputs": [
    {
     "name": "stdout",
     "output_type": "stream",
     "text": [
      "0.017578429015134883\n",
      "0.017623795185392567\n"
     ]
    }
   ],
   "source": [
    "X_test_1 = pipeline_1.transform(X_test)\n",
    "X_test_2 = pipeline_2.transform(X_test)\n",
    "\n",
    "from sklearn.metrics import mean_squared_error\n",
    "mse_1 = mean_squared_error(model_1.predict(X_test_1), y_test)\n",
    "mse_2 = mean_squared_error(model_2.predict(X_test_2), y_test)\n",
    "print(mse_1)\n",
    "print(mse_2)"
   ]
  }
 ],
 "metadata": {
  "kernelspec": {
   "display_name": "Python 3",
   "language": "python",
   "name": "python3"
  },
  "language_info": {
   "codemirror_mode": {
    "name": "ipython",
    "version": 3
   },
   "file_extension": ".py",
   "mimetype": "text/x-python",
   "name": "python",
   "nbconvert_exporter": "python",
   "pygments_lexer": "ipython3",
   "version": "3.6.12"
  }
 },
 "nbformat": 4,
 "nbformat_minor": 4
}
