{
 "cells": [
  {
   "cell_type": "markdown",
   "metadata": {},
   "source": [
    "# Lab 3 - Filters and Z Transforms\n",
    "\n",
    "*This week, the lab will work through plotting the impulse response and z transform of filters.*"
   ]
  },
  {
   "cell_type": "code",
   "execution_count": 1,
   "metadata": {},
   "outputs": [],
   "source": [
    "import numpy as np\n",
    "import matplotlib.pyplot as plt\n",
    "import IPython.display as ipd\n",
    "from scipy import signal\n",
    "\n",
    "%matplotlib inline"
   ]
  },
  {
   "cell_type": "markdown",
   "metadata": {},
   "source": [
    "### (a)\n",
    "Find the transfer function H(z) for the filter corresponding to the following difference equation:\n",
    "\n",
    "$$ y[n] = 0.9y[n-1] + 1.8x[n] $$\n",
    "\n",
    "Briefly show your work using Latex syntax."
   ]
  },
  {
   "cell_type": "markdown",
   "metadata": {},
   "source": [
    "***Hint:*** Latex syntax should go between two pairs of dollar signs. Here's an example calculation.\n",
    "\n",
    "$$ x^{2} - 4 = 0 $$\n",
    "\n",
    "$$ (x-2)(x+2) = 0 $$\n",
    "\n",
    "$$ x = 2, x = -2 $$\n",
    "\n",
    "Also, \\frac{}{} can be used to make fractions. Like this:\n",
    "\n",
    "$$ \\frac{3x - 4}{x + 6} $$"
   ]
  },
  {
   "cell_type": "markdown",
   "metadata": {},
   "source": [
    "### Your Answer:"
   ]
  },
  {
   "cell_type": "markdown",
   "metadata": {},
   "source": [
    "$$Y(z) = 0.9z^{-1}Y(z) + 1.8X(z)$$\n",
    "$$Y(z)*(1 - 0.9z^{-1}) = 1.8X(z)$$\n",
    "Hence:\n",
    "$$\\frac{Y(z)}{X(z)} = H(z) = \\frac{1.8}{1 - 0.9z^{-1}}$$"
   ]
  },
  {
   "cell_type": "markdown",
   "metadata": {},
   "source": [
    "### (b)\n",
    "Find the causal impulse response h[n] for the above system.\n",
    "\n",
    "***Hint:*** You may refer to a z transform table.\n"
   ]
  },
  {
   "cell_type": "markdown",
   "metadata": {},
   "source": [
    "### Your Answer:"
   ]
  },
  {
   "cell_type": "markdown",
   "metadata": {},
   "source": [
    "$$h[n] = 1.8*(0.9^nu[n])$$"
   ]
  },
  {
   "cell_type": "markdown",
   "metadata": {},
   "source": [
    "### (c)\n",
    "Plot the first 20 samples of the impulse response h[n]. Some of the code is already written for you. What kind of filter is this?\n",
    "\n",
    "***Hint:*** The signal.dlti() function takes as input two lists, the transfer function's numerator coefficients and denominator coefficients."
   ]
  },
  {
   "cell_type": "markdown",
   "metadata": {},
   "source": [
    "### Your Answer:\n"
   ]
  },
  {
   "cell_type": "code",
   "execution_count": 2,
   "metadata": {},
   "outputs": [
    {
     "name": "stderr",
     "output_type": "stream",
     "text": [
      "/home/sweet/2-coursework/ecec434/labs/lib/python3.6/site-packages/ipykernel_launcher.py:13: UserWarning: In Matplotlib 3.3 individual lines on a stem plot will be added as a LineCollection instead of individual lines. This significantly improves the performance of a stem plot. To remove this warning and switch to the new behaviour, set the \"use_line_collection\" keyword argument to True.\n",
      "  del sys.path[0]\n"
     ]
    },
    {
     "data": {
      "image/png": "[encoded data removed]",
      "text/plain": [
       "<Figure size 1080x360 with 1 Axes>"
      ]
     },
     "metadata": {
      "needs_background": "light"
     },
     "output_type": "display_data"
    }
   ],
   "source": [
    "##### to do #####\n",
    "# determine the transfer function coefficients\n",
    "numH = [1.8, 0]\n",
    "denH = [1, -0.9]\n",
    "#################\n",
    "\n",
    "# compute the impulse response\n",
    "systemH = signal.dlti(numH, denH)\n",
    "n, h = signal.dimpulse(systemH, n=20)\n",
    "\n",
    "# plot the impulse response\n",
    "plt.figure(figsize = (15,5))\n",
    "plt.stem(n,np.squeeze(h));"
   ]
  },
  {
   "cell_type": "markdown",
   "metadata": {},
   "source": [
    "### (d)\n",
    "Plot any poles and zeros of this filter on the z plane. Is the system stable?\n",
    "\n",
    "***Hint:*** You may consider using the following functions:\n",
    "- signal.ZerosPolesGain()\n",
    "- plt.scatter()\n",
    "\n",
    "Also, remember that if x is a complex number, x.real and x.imag are its components."
   ]
  },
  {
   "cell_type": "markdown",
   "metadata": {},
   "source": [
    "### Your Answer:"
   ]
  },
  {
   "cell_type": "code",
   "execution_count": 3,
   "metadata": {},
   "outputs": [
    {
     "data": {
      "text/plain": [
       "<matplotlib.collections.PathCollection at 0x7f699d4cb048>"
      ]
     },
     "execution_count": 3,
     "metadata": {},
     "output_type": "execute_result"
    },
    {
     "data": {
      "image/png": "[encoded data removed]",
      "text/plain": [
       "<Figure size 360x360 with 1 Axes>"
      ]
     },
     "metadata": {
      "needs_background": "light"
     },
     "output_type": "display_data"
    }
   ],
   "source": [
    "# make plot with axes\n",
    "fig,ax = plt.subplots(1,1,figsize=(5,5))\n",
    "ax.axhline(y=0, color='k')\n",
    "ax.axvline(x=0, color='k')\n",
    "\n",
    "# draw unit circle\n",
    "t = np.linspace(0,np.pi*2,100)\n",
    "plt.plot(np.cos(t), np.sin(t), linewidth=1)\n",
    "\n",
    "##### to do #####\n",
    "# plot the poles and zeros of system H\n",
    "\n",
    "a = signal.ZerosPolesGain(systemH)\n",
    "plt.scatter(a.poles.real, a.poles.imag)\n",
    "plt.scatter(a.zeros.real, a.zeros.imag)\n",
    "#################"
   ]
  },
  {
   "cell_type": "markdown",
   "metadata": {},
   "source": [
    "The system is stable because all poles are in side the unit circle"
   ]
  },
  {
   "cell_type": "markdown",
   "metadata": {},
   "source": [
    "### (e)\n",
    "Condsider feeding the output of this system directly into another system, G(z). Find a transfer function for G(z) such that any input signal after going through H(z) and then G(z) will come out unchanged. In other words, G(z) cancels all effects of H(z)."
   ]
  },
  {
   "cell_type": "markdown",
   "metadata": {},
   "source": [
    "### Your Answer:"
   ]
  },
  {
   "cell_type": "markdown",
   "metadata": {},
   "source": [
    "$$X(z)*H(z)*G(z) = X(z)$$\n",
    "$$H(z)*G(z) = 1$$\n",
    "$$G(z) = \\frac{1}{H(z)}$$\n",
    "$$G(z) = \\frac{1 - 0.9z^{-1}}{1.8}$$"
   ]
  },
  {
   "cell_type": "markdown",
   "metadata": {},
   "source": [
    "### (f)\n",
    "Find the causal impulse response g[n] for G(z)."
   ]
  },
  {
   "cell_type": "markdown",
   "metadata": {},
   "source": [
    "### Your Answer:"
   ]
  },
  {
   "cell_type": "markdown",
   "metadata": {},
   "source": [
    "$$g[n] = \\frac{1}{1.8} - 0.5*\\delta[n-1]$$"
   ]
  },
  {
   "cell_type": "markdown",
   "metadata": {},
   "source": [
    "### (g)\n",
    "Plot the first 20 samples of the impulse response h[n]. What kind of filter is this?\n",
    "\n",
    "***Hint:*** you may consider using the following functions:\n",
    "- signal.dlti()\n",
    "- signal.dimpulse()\n",
    "- plt.stem()\n",
    "- np.squeeze()"
   ]
  },
  {
   "cell_type": "markdown",
   "metadata": {},
   "source": [
    "### Your Answer:"
   ]
  },
  {
   "cell_type": "code",
   "execution_count": 4,
   "metadata": {
    "scrolled": false
   },
   "outputs": [
    {
     "name": "stderr",
     "output_type": "stream",
     "text": [
      "/home/sweet/2-coursework/ecec434/labs/lib/python3.6/site-packages/ipykernel_launcher.py:13: UserWarning: In Matplotlib 3.3 individual lines on a stem plot will be added as a LineCollection instead of individual lines. This significantly improves the performance of a stem plot. To remove this warning and switch to the new behaviour, set the \"use_line_collection\" keyword argument to True.\n",
      "  del sys.path[0]\n"
     ]
    },
    {
     "data": {
      "image/png": "[encoded data removed]",
      "text/plain": [
       "<Figure size 1080x360 with 1 Axes>"
      ]
     },
     "metadata": {
      "needs_background": "light"
     },
     "output_type": "display_data"
    }
   ],
   "source": [
    "##### to do #####\n",
    "# determine the transfer function coefficients\n",
    "numH = [1, -0.9]\n",
    "denH = [1.8, 0]\n",
    "#################\n",
    "\n",
    "# compute the impulse response\n",
    "systemH = signal.dlti(numH, denH)\n",
    "n, h = signal.dimpulse(systemH, n=20)\n",
    "\n",
    "# plot the impulse response\n",
    "plt.figure(figsize = (15,5))\n",
    "plt.stem(n,np.squeeze(h));"
   ]
  },
  {
   "cell_type": "markdown",
   "metadata": {},
   "source": [
    "### (h)\n",
    "Plot any poles and zeros of this filter G(z) on the z plane. Is the system stable?"
   ]
  },
  {
   "cell_type": "markdown",
   "metadata": {},
   "source": [
    "### Your Answer:"
   ]
  },
  {
   "cell_type": "code",
   "execution_count": 5,
   "metadata": {},
   "outputs": [
    {
     "data": {
      "text/plain": [
       "<matplotlib.collections.PathCollection at 0x7f699d4bd828>"
      ]
     },
     "execution_count": 5,
     "metadata": {},
     "output_type": "execute_result"
    },
    {
     "data": {
      "image/png": "[encoded data removed]",
      "text/plain": [
       "<Figure size 360x360 with 1 Axes>"
      ]
     },
     "metadata": {
      "needs_background": "light"
     },
     "output_type": "display_data"
    }
   ],
   "source": [
    "# make plot with axes\n",
    "fig,ax = plt.subplots(1,1,figsize=(5,5))\n",
    "ax.axhline(y=0, color='k')\n",
    "ax.axvline(x=0, color='k')\n",
    "\n",
    "# draw unit circle\n",
    "t = np.linspace(0,np.pi*2,100)\n",
    "plt.plot(np.cos(t), np.sin(t), linewidth=1)\n",
    "\n",
    "##### to do #####\n",
    "# plot the poles and zeros of system G\n",
    "a = signal.ZerosPolesGain(systemH)\n",
    "plt.scatter(a.poles.real, a.poles.imag)\n",
    "plt.scatter(a.zeros.real, a.zeros.imag)\n",
    "#################"
   ]
  },
  {
   "cell_type": "markdown",
   "metadata": {},
   "source": [
    "The system is stable because all poles are in side the unit circle"
   ]
  }
 ],
 "metadata": {
  "kernelspec": {
   "display_name": "Python 3",
   "language": "python",
   "name": "python3"
  },
  "language_info": {
   "codemirror_mode": {
    "name": "ipython",
    "version": 3
   },
   "file_extension": ".py",
   "mimetype": "text/x-python",
   "name": "python",
   "nbconvert_exporter": "python",
   "pygments_lexer": "ipython3",
   "version": "3.6.8"
  }
 },
 "nbformat": 4,
 "nbformat_minor": 2
}
