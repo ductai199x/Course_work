{
 "cells": [
  {
   "cell_type": "code",
   "execution_count": 25,
   "metadata": {},
   "outputs": [],
   "source": [
    "import numpy as np\n",
    "import scipy.signal\n",
    "from psyacmodel import *\n",
    "import matplotlib.pyplot as plt\n",
    "import scipy.fftpack as spfft\n",
    "import librosa"
   ]
  },
  {
   "cell_type": "code",
   "execution_count": 12,
   "metadata": {},
   "outputs": [],
   "source": [
    "%matplotlib inline"
   ]
  },
  {
   "cell_type": "code",
   "execution_count": 26,
   "metadata": {},
   "outputs": [],
   "source": [
    "def load_cd_quality_audio(filename):\n",
    "    audio, sr = librosa.load(filename, sr=44100, dtype='float_')\n",
    "#     max_int_value = 2**15 - 1\n",
    "#     audio *= max_int_value\n",
    "#     audio = audio.astype('int16')\n",
    "    return audio\n",
    "    \n",
    "x = load_cd_quality_audio(\"taxman.wav\")"
   ]
  },
  {
   "cell_type": "code",
   "execution_count": 7,
   "metadata": {},
   "outputs": [],
   "source": [
    "N = 1152 #number of MDCT subbands\n",
    "nfilts = 18  #number of subbands in the bark domain\n",
    "fs = 44100\n",
    "fb = np.sin(np.pi/(2*N)*(np.arange(int(1.5*N))+0.5))"
   ]
  },
  {
   "cell_type": "code",
   "execution_count": 8,
   "metadata": {},
   "outputs": [],
   "source": [
    "maxfreq=fs/2\n",
    "alpha=0.8  #Exponent for non-linear superposition of spreading functions\n",
    "nfft=2*N  #number of fft subbands"
   ]
  },
  {
   "cell_type": "code",
   "execution_count": 14,
   "metadata": {},
   "outputs": [
    {
     "data": {
      "text/plain": [
       "(18, 2304)"
      ]
     },
     "execution_count": 14,
     "metadata": {},
     "output_type": "execute_result"
    }
   ],
   "source": [
    "W=mapping2barkmat(fs,nfilts,nfft)\n",
    "W.shape"
   ]
  },
  {
   "cell_type": "code",
   "execution_count": 16,
   "metadata": {},
   "outputs": [
    {
     "data": {
      "text/plain": [
       "array([[0.49999994, 0.        , 0.        , ..., 0.        , 0.        ,\n",
       "        0.        ],\n",
       "       [0.49999994, 0.        , 0.        , ..., 0.        , 0.        ,\n",
       "        0.        ],\n",
       "       [0.49999994, 0.        , 0.        , ..., 0.        , 0.        ,\n",
       "        0.        ],\n",
       "       ...,\n",
       "       [0.        , 0.        , 0.        , ..., 0.        , 0.        ,\n",
       "        0.08543577],\n",
       "       [0.        , 0.        , 0.        , ..., 0.        , 0.        ,\n",
       "        0.08543577],\n",
       "       [0.        , 0.        , 0.        , ..., 0.        , 0.        ,\n",
       "        0.08543577]])"
      ]
     },
     "execution_count": 16,
     "metadata": {},
     "output_type": "execute_result"
    }
   ],
   "source": [
    "W_inv=mappingfrombarkmat(W,nfft)\n",
    "W_inv.shape\n",
    "W_inv"
   ]
  },
  {
   "cell_type": "code",
   "execution_count": 17,
   "metadata": {},
   "outputs": [],
   "source": [
    "spreadingfunctionBarkdB=f_SP_dB(maxfreq,nfilts)\n",
    "spreadingfuncmatrix=spreadingfunctionmat(spreadingfunctionBarkdB,alpha,nfilts)"
   ]
  },
  {
   "cell_type": "code",
   "execution_count": 28,
   "metadata": {},
   "outputs": [],
   "source": [
    "def symFmatrix(f):\n",
    "    \"\"\"produces a diamond shaped folding matrix F from the coefficients f\n",
    "    (f is a 1-d array)\n",
    "    which leads to identical analysis and synthesis baseband impulse responses\n",
    "    Hence has det 1 or -1\n",
    "    If N is number of subbands, then f is a vector of size 1.5*N coefficients.\n",
    "    N is even\n",
    "    returns: F of shape (N,N,1)\n",
    "    \"\"\"   \n",
    "    sym=1.0; #The kind of symmetry: +-1\n",
    "    N = int(len(f)/1.5);\n",
    "    F=np.zeros((N,N,1))\n",
    "    F[0:int(N/2),0:int(N/2),0]=np.fliplr(np.diag(f[0:int(N/2)]))\n",
    "    F[int(N/2):N,0:int(N/2),0]=np.diag(f[int(N/2):N])\n",
    "    F[0:int(N/2),int(N/2):N,0]=np.diag(f[N:(N+int(N/2))])\n",
    "    ff = np.flipud((sym*np.ones((int(N/2))) - (f[N:(int(1.5*N))])*f[N-1:int(N/2)-1:-1])/f[0:int(N/2)])     \n",
    "    F[int(N/2):N,int(N/2):N,0]=-np.fliplr(np.diag(ff))\n",
    "    return F\n",
    "\n",
    "def Dmatrix(N):\n",
    "    \"\"\"produces a delay matrix D(z), which has delay z^-1 on the upper half of its diagonal\n",
    "    in a 3D polynomial representation (exponents of z^-1 are in the third dimension) \n",
    "    N is number of subbands and size of the polynomial matrix (NxN) \n",
    "    N is even\"\"\" \n",
    "    D=np.zeros((N,N,2));    \n",
    "    D[:,:,0] = np.diag(np.append(np.zeros((1,int(N/2))), np.ones((1,int(N/2)))));\n",
    "    D[:,:,1] = np.diag(np.append(np.ones((1,int(N/2))), np.zeros((1,int(N/2)))));  \n",
    "    return D;\n",
    "\n",
    "def x2polyphase(x,N):\n",
    "    \"\"\"Converts input signal x (a 1D array) into a polyphase row vector \n",
    "    xp for blocks of length N, with shape: (1,N,#of blocks)\"\"\"     \n",
    "    import numpy as np\n",
    "    #Convert stream x into a 2d array where each row is a block:\n",
    "    #xp.shape : (y,x, #num blocks):\n",
    "    x=x[:int(len(x)/N)*N] #limit signal to integer multiples of N\n",
    "    xp=np.reshape(x,(N,-1),order='F') #order=F: first index changes fastest\n",
    "    #add 0'th dimension for function polmatmult:\n",
    "    xp=np.expand_dims(xp,axis=0)\n",
    "    return xp\n",
    "\n",
    "\n",
    "#The DCT4 transform:\n",
    "def DCT4(samples):\n",
    "   #Argument: 3-D array of samples, shape (y,x,# of blocks), each row correspond to 1 row \n",
    "   #to apply the DCT to.\n",
    "   #Output: 3-D array where each row ist DCT4 transformed, orthonormal.\n",
    "   import numpy as np\n",
    "   #use a DCT3 to implement a DCT4:\n",
    "   r,N,blocks=samples.shape\n",
    "   samplesup=np.zeros((1,2*N,blocks))\n",
    "   #upsample signal:\n",
    "   samplesup[0,1::2,:]=samples\n",
    "   y=spfft.dct(samplesup,type=3,axis=1,norm='ortho')*np.sqrt(2)\n",
    "   return y[:,0:N,:]\n",
    "\n",
    "def polmatmult( A,B ):\n",
    "   \"\"\"polmatmult(A,B)\n",
    "   multiplies two polynomial matrices (arrays) A and B, where each matrix entry is a polynomial.\n",
    "   Those polynomial entries are in the 3rd dimension\n",
    "   The thirs dimension can also be interpreted as containing the (2D) coefficient\n",
    "   exponent of z^-1.\n",
    "   Result is C=A*B;\"\"\"  \n",
    "   [NAx, NAy, NAz] = np.shape(A);\n",
    "   [NBx, NBy, NBz] = np.shape(B);\n",
    "   #Degree +1 of resulting polynomial, with NAz-1 and NBz-1 being the degree of the...\n",
    "   Deg = NAz + NBz -1;\n",
    "   C = np.zeros((NAx,NBy,Deg));\n",
    "   #Convolution of matrices:\n",
    "   for n in range(0,(Deg)):\n",
    "       for m in range(0,n+1):\n",
    "           if ((n-m)<NAz and m<NBz):\n",
    "               C[:,:,n] = C[:,:,n]+ np.dot(A[:,:,(n-m)],B[:,:,m]);\n",
    "   return C"
   ]
  },
  {
   "cell_type": "code",
   "execution_count": 32,
   "metadata": {},
   "outputs": [
    {
     "ename": "ValueError",
     "evalue": "shapes (1,576) and (1152,1152) not aligned: 576 (dim 1) != 1152 (dim 0)",
     "output_type": "error",
     "traceback": [
      "\u001b[0;31m---------------------------------------------------------------------------\u001b[0m",
      "\u001b[0;31mValueError\u001b[0m                                Traceback (most recent call last)",
      "\u001b[0;32m<ipython-input-32-d7aca93aee5a>\u001b[0m in \u001b[0;36m<module>\u001b[0;34m\u001b[0m\n\u001b[1;32m     16\u001b[0m    \u001b[0;32mreturn\u001b[0m \u001b[0my\u001b[0m\u001b[0;34m\u001b[0m\u001b[0;34m\u001b[0m\u001b[0m\n\u001b[1;32m     17\u001b[0m \u001b[0;34m\u001b[0m\u001b[0m\n\u001b[0;32m---> 18\u001b[0;31m \u001b[0my\u001b[0m\u001b[0;34m=\u001b[0m\u001b[0mMDCTanafb\u001b[0m\u001b[0;34m(\u001b[0m\u001b[0mx\u001b[0m\u001b[0;34m,\u001b[0m\u001b[0;36m576\u001b[0m\u001b[0;34m,\u001b[0m\u001b[0mfb\u001b[0m\u001b[0;34m)\u001b[0m\u001b[0;34m\u001b[0m\u001b[0;34m\u001b[0m\u001b[0m\n\u001b[0m",
      "\u001b[0;32m<ipython-input-32-d7aca93aee5a>\u001b[0m in \u001b[0;36mMDCTanafb\u001b[0;34m(x, N, fb)\u001b[0m\n\u001b[1;32m      9\u001b[0m    \u001b[0mD\u001b[0m\u001b[0;34m=\u001b[0m\u001b[0mDmatrix\u001b[0m\u001b[0;34m(\u001b[0m\u001b[0mN\u001b[0m\u001b[0;34m)\u001b[0m\u001b[0;34m\u001b[0m\u001b[0;34m\u001b[0m\u001b[0m\n\u001b[1;32m     10\u001b[0m    \u001b[0my\u001b[0m\u001b[0;34m=\u001b[0m\u001b[0mx2polyphase\u001b[0m\u001b[0;34m(\u001b[0m\u001b[0mx\u001b[0m\u001b[0;34m,\u001b[0m\u001b[0mN\u001b[0m\u001b[0;34m)\u001b[0m\u001b[0;34m\u001b[0m\u001b[0;34m\u001b[0m\u001b[0m\n\u001b[0;32m---> 11\u001b[0;31m    \u001b[0my\u001b[0m\u001b[0;34m=\u001b[0m\u001b[0mpolmatmult\u001b[0m\u001b[0;34m(\u001b[0m\u001b[0my\u001b[0m\u001b[0;34m,\u001b[0m\u001b[0mFa\u001b[0m\u001b[0;34m)\u001b[0m\u001b[0;34m\u001b[0m\u001b[0;34m\u001b[0m\u001b[0m\n\u001b[0m\u001b[1;32m     12\u001b[0m    \u001b[0my\u001b[0m\u001b[0;34m=\u001b[0m\u001b[0mpolmatmult\u001b[0m\u001b[0;34m(\u001b[0m\u001b[0my\u001b[0m\u001b[0;34m,\u001b[0m\u001b[0mD\u001b[0m\u001b[0;34m)\u001b[0m\u001b[0;34m\u001b[0m\u001b[0;34m\u001b[0m\u001b[0m\n\u001b[1;32m     13\u001b[0m    \u001b[0my\u001b[0m\u001b[0;34m=\u001b[0m\u001b[0mDCT4\u001b[0m\u001b[0;34m(\u001b[0m\u001b[0my\u001b[0m\u001b[0;34m)\u001b[0m\u001b[0;34m\u001b[0m\u001b[0;34m\u001b[0m\u001b[0m\n",
      "\u001b[0;32m<ipython-input-28-fb2aab41c76b>\u001b[0m in \u001b[0;36mpolmatmult\u001b[0;34m(A, B)\u001b[0m\n\u001b[1;32m     71\u001b[0m        \u001b[0;32mfor\u001b[0m \u001b[0mm\u001b[0m \u001b[0;32min\u001b[0m \u001b[0mrange\u001b[0m\u001b[0;34m(\u001b[0m\u001b[0;36m0\u001b[0m\u001b[0;34m,\u001b[0m\u001b[0mn\u001b[0m\u001b[0;34m+\u001b[0m\u001b[0;36m1\u001b[0m\u001b[0;34m)\u001b[0m\u001b[0;34m:\u001b[0m\u001b[0;34m\u001b[0m\u001b[0;34m\u001b[0m\u001b[0m\n\u001b[1;32m     72\u001b[0m            \u001b[0;32mif\u001b[0m \u001b[0;34m(\u001b[0m\u001b[0;34m(\u001b[0m\u001b[0mn\u001b[0m\u001b[0;34m-\u001b[0m\u001b[0mm\u001b[0m\u001b[0;34m)\u001b[0m\u001b[0;34m<\u001b[0m\u001b[0mNAz\u001b[0m \u001b[0;32mand\u001b[0m \u001b[0mm\u001b[0m\u001b[0;34m<\u001b[0m\u001b[0mNBz\u001b[0m\u001b[0;34m)\u001b[0m\u001b[0;34m:\u001b[0m\u001b[0;34m\u001b[0m\u001b[0;34m\u001b[0m\u001b[0m\n\u001b[0;32m---> 73\u001b[0;31m                \u001b[0mC\u001b[0m\u001b[0;34m[\u001b[0m\u001b[0;34m:\u001b[0m\u001b[0;34m,\u001b[0m\u001b[0;34m:\u001b[0m\u001b[0;34m,\u001b[0m\u001b[0mn\u001b[0m\u001b[0;34m]\u001b[0m \u001b[0;34m=\u001b[0m \u001b[0mC\u001b[0m\u001b[0;34m[\u001b[0m\u001b[0;34m:\u001b[0m\u001b[0;34m,\u001b[0m\u001b[0;34m:\u001b[0m\u001b[0;34m,\u001b[0m\u001b[0mn\u001b[0m\u001b[0;34m]\u001b[0m\u001b[0;34m+\u001b[0m \u001b[0mnp\u001b[0m\u001b[0;34m.\u001b[0m\u001b[0mdot\u001b[0m\u001b[0;34m(\u001b[0m\u001b[0mA\u001b[0m\u001b[0;34m[\u001b[0m\u001b[0;34m:\u001b[0m\u001b[0;34m,\u001b[0m\u001b[0;34m:\u001b[0m\u001b[0;34m,\u001b[0m\u001b[0;34m(\u001b[0m\u001b[0mn\u001b[0m\u001b[0;34m-\u001b[0m\u001b[0mm\u001b[0m\u001b[0;34m)\u001b[0m\u001b[0;34m]\u001b[0m\u001b[0;34m,\u001b[0m\u001b[0mB\u001b[0m\u001b[0;34m[\u001b[0m\u001b[0;34m:\u001b[0m\u001b[0;34m,\u001b[0m\u001b[0;34m:\u001b[0m\u001b[0;34m,\u001b[0m\u001b[0mm\u001b[0m\u001b[0;34m]\u001b[0m\u001b[0;34m)\u001b[0m\u001b[0;34m;\u001b[0m\u001b[0;34m\u001b[0m\u001b[0;34m\u001b[0m\u001b[0m\n\u001b[0m\u001b[1;32m     74\u001b[0m    \u001b[0;32mreturn\u001b[0m \u001b[0mC\u001b[0m\u001b[0;34m\u001b[0m\u001b[0;34m\u001b[0m\u001b[0m\n",
      "\u001b[0;32m<__array_function__ internals>\u001b[0m in \u001b[0;36mdot\u001b[0;34m(*args, **kwargs)\u001b[0m\n",
      "\u001b[0;31mValueError\u001b[0m: shapes (1,576) and (1152,1152) not aligned: 576 (dim 1) != 1152 (dim 0)"
     ]
    }
   ],
   "source": [
    "def MDCTanafb(x,N,fb):\n",
    "   #MDCT analysis filter bank.\n",
    "   #Arguments: x: input signal, e.g. audio signal, a 1-dim. array\n",
    "   #N: number of subbands\n",
    "   #fb: coefficients for the MDCT filter bank, for the F matrix, np.array with 1.5*N coefficients.\n",
    "   #returns y, consisting of blocks of subband in in a 2-d array of shape (N,# of blocks)\n",
    "   \n",
    "   Fa=symFmatrix(fb)\n",
    "   D=Dmatrix(N)\n",
    "   y=x2polyphase(x,N)\n",
    "   y=polmatmult(y,Fa)   \n",
    "   y=polmatmult(y,D)\n",
    "   y=DCT4(y)\n",
    "   #strip first dimension:\n",
    "   y=y[0,:,:]\n",
    "   return y\n",
    "\n",
    "y=MDCTanafb(x,576,fb)"
   ]
  },
  {
   "cell_type": "code",
   "execution_count": 33,
   "metadata": {},
   "outputs": [
    {
     "data": {
      "text/plain": [
       "(1152, 6084)"
      ]
     },
     "execution_count": 33,
     "metadata": {},
     "output_type": "execute_result"
    }
   ],
   "source": [
    "y.shape"
   ]
  }
 ],
 "metadata": {
  "kernelspec": {
   "display_name": "Python 3",
   "language": "python",
   "name": "python3"
  },
  "language_info": {
   "codemirror_mode": {
    "name": "ipython",
    "version": 3
   },
   "file_extension": ".py",
   "mimetype": "text/x-python",
   "name": "python",
   "nbconvert_exporter": "python",
   "pygments_lexer": "ipython3",
   "version": "3.6.9"
  }
 },
 "nbformat": 4,
 "nbformat_minor": 2
}
