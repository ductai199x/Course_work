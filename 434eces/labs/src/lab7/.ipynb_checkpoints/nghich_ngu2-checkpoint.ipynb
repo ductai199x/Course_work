{
 "cells": [
  {
   "cell_type": "code",
   "execution_count": 1,
   "metadata": {},
   "outputs": [],
   "source": [
    "import librosa\n",
    "import numpy as np\n",
    "import sys\n",
    "import pickle\n",
    "import time\n",
    "import IPython.display as ipd\n",
    "from codec import encode, decode\n",
    "import scipy.signal as signal\n",
    "from scipy.fftpack import fft, ifft, dct, idct\n",
    "from scipy.signal import butter, lfilter\n",
    "import matplotlib.pyplot as plt"
   ]
  },
  {
   "cell_type": "code",
   "execution_count": 2,
   "metadata": {},
   "outputs": [
    {
     "name": "stdout",
     "output_type": "stream",
     "text": [
      "Using matplotlib backend: TkAgg\n"
     ]
    }
   ],
   "source": [
    "%matplotlib "
   ]
  },
  {
   "cell_type": "code",
   "execution_count": 3,
   "metadata": {},
   "outputs": [],
   "source": [
    "def load_cd_quality_audio(filename):\n",
    "    audio, sr = librosa.load(filename, sr=44100, dtype='float_')\n",
    "    max_int_value = 2**15 - 1\n",
    "    audio *= max_int_value\n",
    "    audio = audio.astype('int16')\n",
    "    return audio\n",
    "    \n",
    "audio_signal = load_cd_quality_audio(\"taxman.wav\")\n",
    "sample_rate = 44100"
   ]
  },
  {
   "cell_type": "code",
   "execution_count": 12,
   "metadata": {},
   "outputs": [
    {
     "name": "stdout",
     "output_type": "stream",
     "text": [
      "(1024, 6845) (7008248,)\n",
      "(7008248,)\n"
     ]
    }
   ],
   "source": [
    "# audio_signal = audio_signal / (2.0 ** (audio_signal.itemsize * 8 - 1))\n",
    "# audio_signal = np.mean(audio_signal, 1)\n",
    "\n",
    "# MDCT with a slope function as used in the Vorbis audio coding format\n",
    "window_length = 2048\n",
    "window_function = np.sin(np.pi / 2\n",
    "                         * np.power(np.sin(np.pi / window_length * np.arange(0.5, window_length + 0.5)), 2))\n",
    "audio_mdct = mdct(audio_signal, window_function)\n",
    "\n",
    "# Inverse MDCT and error signal\n",
    "audio_signal2 = imdct(audio_mdct, window_function)\n",
    "\n",
    "audio_signal2 = audio_signal2[0:len(audio_signal)]\n",
    "print(audio_mdct.shape, audio_signal2.shape)\n",
    "error_signal = audio_signal - audio_signal2\n",
    "print(error_signal.shape)"
   ]
  },
  {
   "cell_type": "code",
   "execution_count": null,
   "metadata": {},
   "outputs": [],
   "source": [
    "# Original, resynthesized, and error signals\n",
    "plt.figure(figsize=(20,10))\n",
    "plt.rc('font', size=10)\n",
    "plt.subplot(3, 1, 1), plt.plot(audio_signal), plt.autoscale(tight=True), plt.title(\"Original Signal\")\n",
    "plt.xticks(np.arange(sample_rate, len(audio_signal), sample_rate),\n",
    "           np.arange(1, int(np.floor(len(audio_signal) / sample_rate)) + 1))\n",
    "plt.xlabel('Time (s)')\n",
    "plt.rc('font', size=10)\n",
    "plt.subplot(3, 1, 2), plt.plot(audio_signal2), plt.autoscale(tight=True), plt.title(\"Resynthesized Signal\")\n",
    "plt.xticks(np.arange(sample_rate, len(audio_signal), sample_rate),\n",
    "           np.arange(1, int(np.floor(len(audio_signal) / sample_rate)) + 1))\n",
    "plt.xlabel('Time (s)')\n",
    "plt.rc('font', size=10)\n",
    "plt.subplot(3, 1, 3), plt.plot(error_signal), plt.autoscale(tight=True), plt.title(\"Error Signal\")\n",
    "plt.xticks(np.arange(sample_rate, len(audio_signal), sample_rate),\n",
    "           np.arange(1, int(np.floor(len(audio_signal) / sample_rate)) + 1))\n",
    "plt.xlabel('Time (s)')\n",
    "plt.rc('font', size=10)\n",
    "plt.show()"
   ]
  },
  {
   "cell_type": "code",
   "execution_count": 9,
   "metadata": {},
   "outputs": [],
   "source": [
    "def mdct(audio_signal, window_function):\n",
    "    number_samples = len(audio_signal)\n",
    "    window_length = len(window_function)\n",
    "\n",
    "    number_times = int(np.ceil(2 * number_samples / window_length) + 1)\n",
    "#     if number_samples == window_length:\n",
    "#         number_times = 1\n",
    "#     else:\n",
    "#         number_times = int(np.ceil(2 * number_samples / window_length)+1)\n",
    "    audio_signal = np.pad(audio_signal,\n",
    "                          (int(window_length / 2), int((number_times + 1) * window_length / 2 - number_samples)),\n",
    "                          'constant', constant_values=0)\n",
    "#     pre_pad = (window_length*3/2 - number_samples%window_length) // 2;\n",
    "#     post_pad = (window_length*3/2 - number_samples%window_length) - pre_pad;\n",
    "#     print(window_length, number_times, pre_pad, post_pad)\n",
    "#     audio_signal = np.pad(audio_signal, (int(pre_pad), int(post_pad)), 'constant', constant_values=0)\n",
    "\n",
    "    # Initialize the MDCT\n",
    "    audio_mdct = np.zeros((int(window_length / 2), number_times))\n",
    "\n",
    "    # Pre and post-processing arrays\n",
    "    preprocessing_array = np.exp(-1j * np.pi / window_length * np.arange(0, window_length))\n",
    "    postprocessing_array = np.exp(-1j * np.pi / window_length * (window_length / 2 + 1)\n",
    "                                  * np.arange(0.5, window_length / 2 + 0.5))\n",
    "\n",
    "    # Loop over the time frames\n",
    "    for time_index in range(0, number_times):\n",
    "\n",
    "        # Window the signal\n",
    "        sample_index = time_index * int(window_length / 2)\n",
    "        audio_segment = audio_signal[sample_index:sample_index + window_length] * window_function\n",
    "\n",
    "        # FFT of the audio segment after pre-processing\n",
    "        audio_segment = np.fft.fft(audio_segment * preprocessing_array)\n",
    "\n",
    "        # Truncate to the first half before post-processing\n",
    "        audio_mdct[:, time_index] = np.real(audio_segment[0:int(window_length / 2)] * postprocessing_array)\n",
    "\n",
    "    return audio_mdct"
   ]
  },
  {
   "cell_type": "code",
   "execution_count": 8,
   "metadata": {},
   "outputs": [],
   "source": [
    "def imdct(audio_mdct, window_function):\n",
    "    # Number of frequency channels and time frames\n",
    "    number_frequencies, number_times = np.shape(audio_mdct)\n",
    "\n",
    "    # Number of samples for the signal\n",
    "    number_samples = number_frequencies * (number_times + 1)\n",
    "\n",
    "    # Initialize the audio signal\n",
    "    audio_signal = np.zeros(number_samples)\n",
    "\n",
    "    # Pre and post-processing arrays\n",
    "    preprocessing_array = np.exp(-1j * np.pi / (2 * number_frequencies)\n",
    "                                 * (number_frequencies + 1) * np.arange(0, number_frequencies))\n",
    "    postprocessing_array = np.exp(-1j * np.pi / (2 * number_frequencies)\n",
    "                                  * np.arange(0.5 + number_frequencies / 2,\n",
    "                                              2 * number_frequencies + number_frequencies / 2 + 0.5)) \\\n",
    "        / number_frequencies\n",
    "\n",
    "    # FFT of the frames after pre-processing\n",
    "    audio_mdct = np.fft.fft(audio_mdct.T * preprocessing_array, n=2 * number_frequencies, axis=1)\n",
    "\n",
    "    # Apply the window to the frames after post-processing\n",
    "    audio_mdct = 2 * (np.real(audio_mdct * postprocessing_array) * window_function).T\n",
    "\n",
    "    # Loop over the time frames\n",
    "    for time_index in range(0, number_times):\n",
    "\n",
    "        # Recover the signal thanks to the time-domain aliasing cancellation (TDAC) principle\n",
    "        sample_index = time_index * number_frequencies\n",
    "        audio_signal[sample_index:sample_index + 2 * number_frequencies] \\\n",
    "            = audio_signal[sample_index:sample_index + 2 * number_frequencies] + audio_mdct[:, time_index]\n",
    "\n",
    "    # Remove the pre and post zero-padding\n",
    "    audio_signal = audio_signal[number_frequencies:-number_frequencies - 1]\n",
    "\n",
    "    return audio_signal"
   ]
  }
 ],
 "metadata": {
  "kernelspec": {
   "display_name": "Python 3",
   "language": "python",
   "name": "python3"
  },
  "language_info": {
   "codemirror_mode": {
    "name": "ipython",
    "version": 3
   },
   "file_extension": ".py",
   "mimetype": "text/x-python",
   "name": "python",
   "nbconvert_exporter": "python",
   "pygments_lexer": "ipython3",
   "version": "3.6.9"
  }
 },
 "nbformat": 4,
 "nbformat_minor": 2
}
