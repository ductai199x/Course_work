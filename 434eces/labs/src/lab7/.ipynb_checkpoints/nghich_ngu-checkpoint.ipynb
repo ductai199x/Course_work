{
 "cells": [
  {
   "cell_type": "code",
   "execution_count": 3,
   "metadata": {},
   "outputs": [],
   "source": [
    "import librosa\n",
    "import numpy as np\n",
    "import sys\n",
    "import pickle\n",
    "import time\n",
    "import IPython.display as ipd\n",
    "from codec import encode, decode"
   ]
  },
  {
   "cell_type": "code",
   "execution_count": 39,
   "metadata": {},
   "outputs": [
    {
     "data": {
      "text/plain": [
       "array([-1.12464744,  1.62986487,  1.12464744, -1.12464744])"
      ]
     },
     "execution_count": 39,
     "metadata": {},
     "output_type": "execute_result"
    }
   ],
   "source": [
    "def powerlaw_quantizer(x):\n",
    "    return sgn(x)*np.log(1 + 255*np.abs(x))/np.log(1 + 255)\n",
    "\n",
    "def sgn(x):\n",
    "    a = np.array(x, copy=True)\n",
    "    a[a < 0] = -1.0\n",
    "    a[a >= 0] = 1.0\n",
    "    return np.asarray(a, dtype='float')\n",
    "\n",
    "\n",
    "a = np.array([-2,33,2,-2], dtype='float')\n",
    "powerlaw_quantizer(a)"
   ]
  }
 ],
 "metadata": {
  "kernelspec": {
   "display_name": "Python 3",
   "language": "python",
   "name": "python3"
  },
  "language_info": {
   "codemirror_mode": {
    "name": "ipython",
    "version": 3
   },
   "file_extension": ".py",
   "mimetype": "text/x-python",
   "name": "python",
   "nbconvert_exporter": "python",
   "pygments_lexer": "ipython3",
   "version": "3.6.8"
  }
 },
 "nbformat": 4,
 "nbformat_minor": 2
}
