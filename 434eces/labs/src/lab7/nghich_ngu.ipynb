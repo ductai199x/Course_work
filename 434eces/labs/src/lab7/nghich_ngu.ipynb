{
 "cells": [
  {
   "cell_type": "code",
   "execution_count": 1,
   "metadata": {},
   "outputs": [],
   "source": [
    "import librosa\n",
    "import numpy as np\n",
    "import sys\n",
    "import pickle\n",
    "import time\n",
    "import IPython.display as ipd\n",
    "from codec import encode, decode\n",
    "import scipy.signal as signal\n",
    "from scipy.fftpack import fft, ifft, dct, idct\n",
    "from scipy.signal import butter, lfilter\n",
    "import matplotlib.pyplot as plt\n",
    "import CosineTransformTools as ctt "
   ]
  },
  {
   "cell_type": "code",
   "execution_count": 2,
   "metadata": {},
   "outputs": [],
   "source": [
    "def load_cd_quality_audio(filename):\n",
    "    audio, sr = librosa.load(filename, sr=44100, dtype='float_')\n",
    "    max_int_value = 2**15 - 1\n",
    "    audio *= max_int_value\n",
    "    audio = audio.astype('int16')\n",
    "    return audio\n",
    "    \n",
    "x = load_cd_quality_audio(\"taxman.wav\")\n",
    "fs = 44100\n",
    "\n",
    "# ipd.Audio(x, rate=44100)"
   ]
  },
  {
   "cell_type": "code",
   "execution_count": 3,
   "metadata": {},
   "outputs": [],
   "source": [
    "def butter_bandpass(lowcut, highcut, fs, order=5):\n",
    "    nyq = 0.5 * fs\n",
    "    low = lowcut / nyq\n",
    "    high = highcut / nyq\n",
    "    b, a = butter(order, [low, high], btype='band')\n",
    "    return b, a\n",
    "\n",
    "def butter_bandpass_filter(data, lowcut, highcut, fs, order=5):\n",
    "    b, a = butter_bandpass(lowcut, highcut, fs, order=order)\n",
    "    y = lfilter(b, a, data)\n",
    "    return y"
   ]
  },
  {
   "cell_type": "code",
   "execution_count": 4,
   "metadata": {},
   "outputs": [],
   "source": [
    "def divide_into_frames(signal, npoints):\n",
    "    # Find out how many frames\n",
    "    nframes = np.ceil(len(signal)/npoints).astype('int')\n",
    "    # Pad the signal so that its length is divisible by nframes\n",
    "    padded = np.pad(signal, (0, nframes-len(signal)%nframes), 'constant', constant_values=0.0)\n",
    "    # Reshape padded signal into nframes rows, each row is one frame\n",
    "    frames = padded.reshape((nframes, len(padded)//nframes))\n",
    "    return frames\n",
    "\n",
    "npoints = 1152\n",
    "nbands = 32\n",
    "nsubbands = 18\n",
    "\n",
    "# Divide original signal into frames, each frame consists of npoints\n",
    "x_frames = divide_into_frames(x, npoints)\n",
    "\n",
    "# For each frame, compute the fft\n",
    "# x_frames_fft = fft(x_frames)\n",
    "\n",
    "# # Compute the signal-to-masking ratio for each frame -- this will be use as a scale \n",
    "# # value when it come to quantizing the subbands\n",
    "# x_smr = psychoacoustical_analyzer(x_frames_fft)\n",
    "\n",
    "# # For each frame, compute its filter banks -- bands\n",
    "# x_bands = filter_banks(x_frames, nbands)\n",
    "\n",
    "# # For each filter bank in each frame, compute the subbands using MDCT\n",
    "# x_subbands = divide_into_subbands(x_bands, nsubbands)\n",
    "\n",
    "# # Quantize subbands using the SMRs gathered in the psychoacoustical analyzer\n",
    "# x_quantized = quantize_subbands(x_subbands, x_smr)\n"
   ]
  },
  {
   "cell_type": "code",
   "execution_count": 5,
   "metadata": {
    "scrolled": true
   },
   "outputs": [
    {
     "data": {
      "text/plain": [
       "(32, 6084, 1152)"
      ]
     },
     "execution_count": 5,
     "metadata": {},
     "output_type": "execute_result"
    }
   ],
   "source": [
    "def filter_banks(frames, nbands, fs, order=5):\n",
    "    filter_denoms = np.zeros((nbands, order*2+1))\n",
    "    filter_numers = np.zeros((nbands, order*2+1))\n",
    "    \n",
    "    freq_range = np.linspace(1, fs/2-1, nbands+1)\n",
    "    \n",
    "    x_bands = np.zeros((nbands, frames.shape[0], frames.shape[1]))\n",
    "    \n",
    "    for i in range(0, nbands):\n",
    "        b, a = butter_bandpass(freq_range[i], freq_range[i+1], fs, order=5)\n",
    "        filter_denoms[i] = b\n",
    "        filter_numers[i] = a\n",
    "        \n",
    "    for i in range(0, frames.shape[0]):\n",
    "        for j in range(0, nbands):\n",
    "            x_bands[j,i,:] = lfilter(filter_denoms[j], filter_numers[j], frames[i])\n",
    "    \n",
    "    return x_bands\n",
    "\n",
    "x_bands = filter_banks(x_frames, nbands, fs)\n",
    "x_bands.shape"
   ]
  },
  {
   "cell_type": "code",
   "execution_count": 13,
   "metadata": {},
   "outputs": [
    {
     "name": "stdout",
     "output_type": "stream",
     "text": [
      "44.4410502910614\n"
     ]
    }
   ],
   "source": [
    "def divide_into_subbands(x_bands, nsubbands):\n",
    "    total_subbands = x_bands.shape[0] * nsubbands\n",
    "#     print(total_subbands)\n",
    "    window_length = 128\n",
    "    alpha_value = 5\n",
    "    x_subbands = np.zeros((total_subbands, x_bands.shape[1], window_length//2))\n",
    "#     x_subbands = np.zeros((x_bands.shape[1], total_subbands))\n",
    "    \n",
    "    # Kaiser-Bessel-derived (KBD) window as used in the AC-3 audio coding format\n",
    "\n",
    "    window_function = np.kaiser(int(window_length/2)+1, alpha_value*np.pi)\n",
    "    window_function2 = np.cumsum(window_function[0:int(window_length/2)])\n",
    "    window_function = np.sqrt(np.concatenate((window_function2, window_function2[int(window_length/2)::-1]))\n",
    "                              / np.sum(window_function))\n",
    "    \n",
    "    for i in range(0, x_bands.shape[1]):\n",
    "        for j in range(0, x_bands.shape[0]):\n",
    "            x_subbands[j*nsubbands:(j+1)*nsubbands,i,:] = ctt.mdct(x_bands[j,i,:],window_function).T\n",
    "    \n",
    "    return x_subbands\n",
    "\n",
    "t1 = time.time()\n",
    "x_subbands = divide_into_subbands(x_bands, nsubbands)\n",
    "print(time.time() - t1)"
   ]
  },
  {
   "cell_type": "code",
   "execution_count": 12,
   "metadata": {
    "scrolled": false
   },
   "outputs": [
    {
     "data": {
      "text/plain": [
       "(576, 6084, 64)"
      ]
     },
     "execution_count": 12,
     "metadata": {},
     "output_type": "execute_result"
    }
   ],
   "source": [
    "x_subbands.shape"
   ]
  },
  {
   "cell_type": "code",
   "execution_count": 8,
   "metadata": {},
   "outputs": [],
   "source": [
    "def psychoacoustical_analyzer(fft_array):\n",
    "    return 0"
   ]
  },
  {
   "cell_type": "code",
   "execution_count": 9,
   "metadata": {},
   "outputs": [],
   "source": [
    "def powerlaw_quantizer(x):\n",
    "    return sgn(x)*np.log(1 + 255*np.abs(x))/np.log(1 + 255)\n",
    "\n",
    "def sgn(x):\n",
    "    a = np.array(x, copy=True)\n",
    "    a[a < 0] = -1.0\n",
    "    a[a >= 0] = 1.0\n",
    "    return np.asarray(a, dtype='float')"
   ]
  },
  {
   "cell_type": "code",
   "execution_count": 10,
   "metadata": {},
   "outputs": [],
   "source": [
    "# def mdct4(x):\n",
    "#     N = x.shape[0]\n",
    "#     if N%4 != 0:\n",
    "#         raise ValueError(\"MDCT4 only defined for vectors of length multiple of four.\")\n",
    "#     M = N // 2\n",
    "#     N4 = N // 4\n",
    "    \n",
    "#     rot = np.roll(x, N4)\n",
    "#     rot[:N4] = -rot[:N4]\n",
    "#     t = np.arange(0, N4)\n",
    "#     w = np.exp(-1j*2*np.pi*(t + 1./8.) / N)\n",
    "#     c = np.take(rot,2*t) - np.take(rot, N-2*t-1) \\\n",
    "#         - 1j * (np.take(rot, M+2*t) - np.take(rot,M-2*t-1))\n",
    "#     c = (2./np.sqrt(N)) * w * np.fft.fft(0.5 * c * w, N4)\n",
    "#     y = np.zeros(M)\n",
    "#     y[2*t] = np.real(c[t])\n",
    "#     y[M-2*t-1] = -np.imag(c[t])\n",
    "#     return y\n",
    "\n",
    "\n",
    "# def imdct4(x):\n",
    "#     N = x.shape[0]\n",
    "#     if N%2 != 0:\n",
    "#         raise ValueError(\"iMDCT4 only defined for even-length vectors.\")\n",
    "#     M = N // 2\n",
    "#     N2 = N*2\n",
    "    \n",
    "#     t = np.arange(0,M)\n",
    "#     w = np.exp(-1j*2*np.pi*(t + 1./8.) / N2)\n",
    "#     c = np.take(x,2*t) + 1j * np.take(x,N-2*t-1)\n",
    "#     c = 0.5 * w * c\n",
    "#     c = np.fft.fft(c,M)\n",
    "#     c = ((8 / np.sqrt(N2))*w)*c\n",
    "    \n",
    "#     rot = np.zeros(N2)\n",
    "    \n",
    "#     rot[2*t] = np.real(c[t])\n",
    "#     rot[N+2*t] = np.imag(c[t])\n",
    "    \n",
    "#     t = np.arange(1,N2,2)\n",
    "#     rot[t] = -rot[N2-t-1]\n",
    "    \n",
    "#     t = np.arange(0,3*M)\n",
    "#     y = np.zeros(N2)\n",
    "#     y[t] = rot[t+M]\n",
    "#     t = np.arange(3*M,N2)\n",
    "#     y[t] = -rot[t-3*M]\n",
    "#     return y"
   ]
  }
 ],
 "metadata": {
  "kernelspec": {
   "display_name": "Python 3",
   "language": "python",
   "name": "python3"
  },
  "language_info": {
   "codemirror_mode": {
    "name": "ipython",
    "version": 3
   },
   "file_extension": ".py",
   "mimetype": "text/x-python",
   "name": "python",
   "nbconvert_exporter": "python",
   "pygments_lexer": "ipython3",
   "version": "3.6.9"
  }
 },
 "nbformat": 4,
 "nbformat_minor": 2
}
