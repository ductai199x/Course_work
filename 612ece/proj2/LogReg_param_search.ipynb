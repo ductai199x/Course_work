{
 "metadata": {
  "language_info": {
   "codemirror_mode": {
    "name": "ipython",
    "version": 3
   },
   "file_extension": ".py",
   "mimetype": "text/x-python",
   "name": "python",
   "nbconvert_exporter": "python",
   "pygments_lexer": "ipython3",
   "version": "3.6.9-final"
  },
  "orig_nbformat": 2,
  "kernelspec": {
   "name": "python3",
   "display_name": "Python 3.6.9 64-bit",
   "metadata": {
    "interpreter": {
     "hash": "fa5575603ec2fb158bc3c0c1dad38c612a381df1de4e24a2e8238bc56fee075f"
    }
   }
  }
 },
 "nbformat": 4,
 "nbformat_minor": 2,
 "cells": [
  {
   "cell_type": "code",
   "execution_count": 6,
   "metadata": {},
   "outputs": [],
   "source": [
    "import sys, os\n",
    "import pickle\n",
    "import time\n",
    "import numpy as np\n",
    "import matplotlib as mpl\n",
    "import matplotlib.pyplot as plt\n",
    "import itertools"
   ]
  },
  {
   "cell_type": "code",
   "execution_count": 7,
   "metadata": {},
   "outputs": [],
   "source": [
    "from sklearn.linear_model import LogisticRegression"
   ]
  },
  {
   "cell_type": "code",
   "execution_count": 8,
   "metadata": {},
   "outputs": [],
   "source": [
    "with open('X_train_trans_proj.pkl', 'rb') as f:\n",
    "    X_train_trans_proj = pickle.load(f)\n",
    "\n",
    "with open('X_test_trans_proj.pkl', 'rb') as f:\n",
    "    X_test_trans_proj = pickle.load(f)\n",
    "\n",
    "with open('y_train.pkl', 'rb') as f:\n",
    "    y_train = pickle.load(f)\n",
    "\n",
    "with open('y_test.pkl', 'rb') as f:\n",
    "    y_test = pickle.load(f)"
   ]
  },
  {
   "cell_type": "code",
   "execution_count": 9,
   "metadata": {},
   "outputs": [],
   "source": [
    "penalty = ['l1', 'l2']\n",
    "C = [0.1, 0.5, 1, 2, 10]\n",
    "array = [tuple(penalty), tuple(C)]"
   ]
  },
  {
   "cell_type": "code",
   "execution_count": 10,
   "metadata": {},
   "outputs": [
    {
     "output_type": "stream",
     "name": "stdout",
     "text": [
      "Test set score of (p=l1, c=0.1): 0.84867\n",
      "Test set score of (p=l1, c=0.5): 0.84975\n",
      "Test set score of (p=l1, c=1): 0.85000\n",
      "Test set score of (p=l1, c=2): 0.84983\n",
      "Test set score of (p=l1, c=10): 0.84967\n",
      "Test set score of (p=l2, c=0.1): 0.84800\n",
      "Test set score of (p=l2, c=0.5): 0.84942\n",
      "Test set score of (p=l2, c=1): 0.84942\n",
      "Test set score of (p=l2, c=2): 0.84967\n",
      "Test set score of (p=l2, c=10): 0.84967\n"
     ]
    }
   ],
   "source": [
    "result = []\n",
    "for p, c in list(itertools.product(*array)):\n",
    "    logreg = LogisticRegression(penalty=p, C=c, solver='liblinear', n_jobs=16)\n",
    "    logreg.fit(X_train_trans_proj, y_train)\n",
    "    score = logreg.score(X_test_trans_proj, y_test)\n",
    "    result.append((p, c, score))\n",
    "    print(f\"Test set score of (p={p}, c={c}): {score:.5f}\")"
   ]
  },
  {
   "cell_type": "code",
   "execution_count": 11,
   "metadata": {},
   "outputs": [
    {
     "output_type": "execute_result",
     "data": {
      "text/plain": [
       "[('l1', 1, 0.85),\n",
       " ('l1', 2, 0.8498333333333333),\n",
       " ('l1', 0.5, 0.84975),\n",
       " ('l1', 10, 0.8496666666666667),\n",
       " ('l2', 2, 0.8496666666666667),\n",
       " ('l2', 10, 0.8496666666666667),\n",
       " ('l2', 0.5, 0.8494166666666667),\n",
       " ('l2', 1, 0.8494166666666667),\n",
       " ('l1', 0.1, 0.8486666666666667),\n",
       " ('l2', 0.1, 0.848)]"
      ]
     },
     "metadata": {},
     "execution_count": 11
    }
   ],
   "source": [
    "sorted(result, key = lambda x: x[2], reverse=True)"
   ]
  },
  {
   "cell_type": "code",
   "execution_count": null,
   "metadata": {},
   "outputs": [],
   "source": []
  },
  {
   "cell_type": "code",
   "execution_count": null,
   "metadata": {},
   "outputs": [],
   "source": []
  }
 ]
}