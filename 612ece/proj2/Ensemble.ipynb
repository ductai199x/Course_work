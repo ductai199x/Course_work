{
 "metadata": {
  "language_info": {
   "codemirror_mode": {
    "name": "ipython",
    "version": 3
   },
   "file_extension": ".py",
   "mimetype": "text/x-python",
   "name": "python",
   "nbconvert_exporter": "python",
   "pygments_lexer": "ipython3",
   "version": "3.6.9-final"
  },
  "orig_nbformat": 2,
  "kernelspec": {
   "name": "python3",
   "display_name": "Python 3.6.9 64-bit",
   "metadata": {
    "interpreter": {
     "hash": "fa5575603ec2fb158bc3c0c1dad38c612a381df1de4e24a2e8238bc56fee075f"
    }
   }
  }
 },
 "nbformat": 4,
 "nbformat_minor": 2,
 "cells": [
  {
   "cell_type": "code",
   "execution_count": 1,
   "metadata": {},
   "outputs": [],
   "source": [
    "import sys, os\n",
    "import pickle\n",
    "import time\n",
    "import numpy as np\n",
    "import matplotlib as mpl\n",
    "import matplotlib.pyplot as plt\n",
    "import itertools"
   ]
  },
  {
   "cell_type": "code",
   "execution_count": 2,
   "metadata": {},
   "outputs": [],
   "source": [
    "from sklearn.neighbors import KNeighborsClassifier\n",
    "from sklearn.svm import SVC\n",
    "from sklearn.linear_model import LogisticRegression\n",
    "from sklearn.ensemble import VotingClassifier"
   ]
  },
  {
   "cell_type": "code",
   "execution_count": 3,
   "metadata": {},
   "outputs": [],
   "source": [
    "with open('X_train_trans_proj.pkl', 'rb') as f:\n",
    "    X_train_trans_proj = pickle.load(f)\n",
    "\n",
    "with open('X_test_trans_proj.pkl', 'rb') as f:\n",
    "    X_test_trans_proj = pickle.load(f)\n",
    "\n",
    "with open('y_train.pkl', 'rb') as f:\n",
    "    y_train = pickle.load(f)\n",
    "\n",
    "with open('y_test.pkl', 'rb') as f:\n",
    "    y_test = pickle.load(f)"
   ]
  },
  {
   "cell_type": "code",
   "execution_count": 4,
   "metadata": {},
   "outputs": [],
   "source": [
    "cl1 = KNeighborsClassifier(n_neighbors=4, p=2)\n",
    "cl2 = SVC(kernel='rbf', C=10.0, probability=True, max_iter=1000)\n",
    "cl3 = LogisticRegression(penalty='l1', C=1.0, solver='liblinear')"
   ]
  },
  {
   "cell_type": "code",
   "execution_count": 5,
   "metadata": {},
   "outputs": [],
   "source": [
    "eclf1 = VotingClassifier(estimators=[\n",
    "    ('knn', cl1), ('svm', cl2), ('logreg', cl3)], voting='soft', weights=[2, 3, 1], n_jobs=16)"
   ]
  },
  {
   "cell_type": "code",
   "execution_count": 6,
   "metadata": {},
   "outputs": [
    {
     "output_type": "execute_result",
     "data": {
      "text/plain": [
       "VotingClassifier(estimators=[('knn', KNeighborsClassifier(n_neighbors=4)),\n",
       "                             ('svm',\n",
       "                              SVC(C=10.0, max_iter=1000, probability=True)),\n",
       "                             ('logreg',\n",
       "                              LogisticRegression(penalty='l1',\n",
       "                                                 solver='liblinear'))],\n",
       "                 n_jobs=16, voting='soft', weights=[2, 3, 1])"
      ]
     },
     "metadata": {},
     "execution_count": 6
    }
   ],
   "source": [
    "eclf1.fit(X_train_trans_proj, y_train)"
   ]
  },
  {
   "cell_type": "code",
   "execution_count": 7,
   "metadata": {},
   "outputs": [
    {
     "output_type": "execute_result",
     "data": {
      "text/plain": [
       "0.96075"
      ]
     },
     "metadata": {},
     "execution_count": 7
    }
   ],
   "source": [
    "eclf1.score(X_test_trans_proj, y_test)"
   ]
  },
  {
   "cell_type": "code",
   "execution_count": 10,
   "metadata": {},
   "outputs": [],
   "source": [
    "with open('model2.pkl', 'wb') as f:\n",
    "    pickle.dump(eclf1, f)\n"
   ]
  }
 ]
}