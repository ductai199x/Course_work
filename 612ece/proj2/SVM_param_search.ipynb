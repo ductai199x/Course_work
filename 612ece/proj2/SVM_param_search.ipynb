{
 "metadata": {
  "language_info": {
   "codemirror_mode": {
    "name": "ipython",
    "version": 3
   },
   "file_extension": ".py",
   "mimetype": "text/x-python",
   "name": "python",
   "nbconvert_exporter": "python",
   "pygments_lexer": "ipython3",
   "version": "3.6.9-final"
  },
  "orig_nbformat": 2,
  "kernelspec": {
   "name": "python3",
   "display_name": "Python 3.6.9 64-bit",
   "metadata": {
    "interpreter": {
     "hash": "fa5575603ec2fb158bc3c0c1dad38c612a381df1de4e24a2e8238bc56fee075f"
    }
   }
  }
 },
 "nbformat": 4,
 "nbformat_minor": 2,
 "cells": [
  {
   "cell_type": "code",
   "execution_count": 1,
   "metadata": {},
   "outputs": [],
   "source": [
    "import sys, os\n",
    "import pickle\n",
    "import time\n",
    "import numpy as np\n",
    "import matplotlib as mpl\n",
    "import matplotlib.pyplot as plt\n",
    "import itertools"
   ]
  },
  {
   "cell_type": "code",
   "execution_count": 2,
   "metadata": {},
   "outputs": [],
   "source": [
    "from sklearn.svm import SVC"
   ]
  },
  {
   "cell_type": "code",
   "execution_count": 3,
   "metadata": {},
   "outputs": [],
   "source": [
    "with open('X_train_trans_proj.pkl', 'rb') as f:\n",
    "    X_train_trans_proj = pickle.load(f)\n",
    "\n",
    "with open('X_test_trans_proj.pkl', 'rb') as f:\n",
    "    X_test_trans_proj = pickle.load(f)\n",
    "\n",
    "with open('y_train.pkl', 'rb') as f:\n",
    "    y_train = pickle.load(f)\n",
    "\n",
    "with open('y_test.pkl', 'rb') as f:\n",
    "    y_test = pickle.load(f)"
   ]
  },
  {
   "cell_type": "code",
   "execution_count": 4,
   "metadata": {},
   "outputs": [],
   "source": [
    "kernel = ['linear', 'poly', 'rbf', 'sigmoid']\n",
    "C = [0.1, 0.5, 1, 2, 10]\n",
    "array = [tuple(kernel), tuple(C)]"
   ]
  },
  {
   "cell_type": "code",
   "execution_count": 11,
   "metadata": {},
   "outputs": [
    {
     "output_type": "stream",
     "name": "stdout",
     "text": [
      "Test set score of (k=linear, c=0.1): 0.88317\n",
      "Test set score of (k=linear, c=0.5): 0.88225\n",
      "Test set score of (k=linear, c=1): 0.88233\n",
      "Test set score of (k=linear, c=2): 0.88217\n",
      "Test set score of (k=linear, c=10): 0.88225\n",
      "Test set score of (k=poly, c=0.1): 0.93950\n",
      "Test set score of (k=poly, c=0.5): 0.95392\n",
      "Test set score of (k=poly, c=1): 0.95858\n",
      "Test set score of (k=poly, c=2): 0.96025\n",
      "Test set score of (k=poly, c=10): 0.95767\n",
      "Test set score of (k=rbf, c=0.1): 0.93500\n",
      "Test set score of (k=rbf, c=0.5): 0.95283\n",
      "Test set score of (k=rbf, c=1): 0.95892\n",
      "Test set score of (k=rbf, c=2): 0.96150\n",
      "Test set score of (k=rbf, c=10): 0.96250\n",
      "Test set score of (k=sigmoid, c=0.1): 0.81042\n",
      "Test set score of (k=sigmoid, c=0.5): 0.75258\n",
      "Test set score of (k=sigmoid, c=1): 0.73942\n",
      "Test set score of (k=sigmoid, c=2): 0.73258\n",
      "Test set score of (k=sigmoid, c=10): 0.72392\n"
     ]
    }
   ],
   "source": [
    "result = []\n",
    "for k, c in list(itertools.product(*array)):\n",
    "    svc = SVC(kernel=k, C=c)\n",
    "    svc.fit(X_train_trans_proj, y_train)\n",
    "    score = svc.score(X_test_trans_proj, y_test)\n",
    "    result.append((k, c, score))\n",
    "    print(f\"Test set score of (k={k}, c={c}): {score:.5f}\")"
   ]
  },
  {
   "cell_type": "code",
   "execution_count": null,
   "metadata": {},
   "outputs": [],
   "source": []
  },
  {
   "cell_type": "code",
   "execution_count": null,
   "metadata": {},
   "outputs": [],
   "source": []
  },
  {
   "cell_type": "code",
   "execution_count": null,
   "metadata": {},
   "outputs": [],
   "source": []
  }
 ]
}