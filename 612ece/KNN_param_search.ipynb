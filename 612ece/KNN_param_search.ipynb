{
 "metadata": {
  "language_info": {
   "codemirror_mode": {
    "name": "ipython",
    "version": 3
   },
   "file_extension": ".py",
   "mimetype": "text/x-python",
   "name": "python",
   "nbconvert_exporter": "python",
   "pygments_lexer": "ipython3",
   "version": "3.6.9-final"
  },
  "orig_nbformat": 2,
  "kernelspec": {
   "name": "python3",
   "display_name": "Python 3.6.9 64-bit",
   "metadata": {
    "interpreter": {
     "hash": "fa5575603ec2fb158bc3c0c1dad38c612a381df1de4e24a2e8238bc56fee075f"
    }
   }
  }
 },
 "nbformat": 4,
 "nbformat_minor": 2,
 "cells": [
  {
   "cell_type": "code",
   "execution_count": 1,
   "metadata": {},
   "outputs": [],
   "source": [
    "import sys, os\n",
    "import pickle\n",
    "import time\n",
    "import numpy as np\n",
    "import matplotlib as mpl\n",
    "import matplotlib.pyplot as plt\n",
    "import itertools"
   ]
  },
  {
   "cell_type": "code",
   "execution_count": 2,
   "metadata": {},
   "outputs": [],
   "source": [
    "from sklearn.neighbors import KNeighborsClassifier"
   ]
  },
  {
   "cell_type": "code",
   "execution_count": 3,
   "metadata": {},
   "outputs": [],
   "source": [
    "with open('X_train_trans_proj.pkl', 'rb') as f:\n",
    "    X_train_trans_proj = pickle.load(f)\n",
    "\n",
    "with open('X_test_trans_proj.pkl', 'rb') as f:\n",
    "    X_test_trans_proj = pickle.load(f)\n",
    "\n",
    "with open('y_train.pkl', 'rb') as f:\n",
    "    y_train = pickle.load(f)\n",
    "\n",
    "with open('y_test.pkl', 'rb') as f:\n",
    "    y_test = pickle.load(f)"
   ]
  },
  {
   "cell_type": "code",
   "execution_count": 4,
   "metadata": {},
   "outputs": [],
   "source": [
    "n_neighbors = [1, 3, 4, 5, 7, 9]\n",
    "distance = [1, 2] # 1 is manhattan, 2 is euclid\n",
    "array = [tuple(n_neighbors), tuple(distance)]"
   ]
  },
  {
   "cell_type": "code",
   "execution_count": 6,
   "metadata": {},
   "outputs": [
    {
     "output_type": "stream",
     "name": "stdout",
     "text": [
      "Test set score of (n=1, d=1): 0.92242\n",
      "Test set score of (n=1, d=2): 0.92517\n",
      "Test set score of (n=3, d=1): 0.92242\n",
      "Test set score of (n=3, d=2): 0.92517\n",
      "Test set score of (n=4, d=1): 0.92242\n",
      "Test set score of (n=4, d=2): 0.92517\n",
      "Test set score of (n=5, d=1): 0.92242\n",
      "Test set score of (n=5, d=2): 0.92517\n",
      "Test set score of (n=7, d=1): 0.92242\n",
      "Test set score of (n=7, d=2): 0.92517\n",
      "Test set score of (n=9, d=1): 0.92242\n",
      "Test set score of (n=9, d=2): 0.92517\n"
     ]
    }
   ],
   "source": [
    "result = []\n",
    "for n, d in list(itertools.product(*array)):\n",
    "    knn = KNeighborsClassifier(n_neighbors=d, p=d, n_jobs=16)\n",
    "    knn.fit(X_train_trans_proj, y_train)\n",
    "    score = knn.score(X_test_trans_proj, y_test)\n",
    "    result.append((n, d, score))\n",
    "    print(f\"Test set score of (n={n}, d={d}): {score:.5f}\")"
   ]
  },
  {
   "cell_type": "code",
   "execution_count": 10,
   "metadata": {},
   "outputs": [
    {
     "output_type": "execute_result",
     "data": {
      "text/plain": [
       "[(1, 2, 0.9251666666666667),\n",
       " (3, 2, 0.9251666666666667),\n",
       " (4, 2, 0.9251666666666667),\n",
       " (5, 2, 0.9251666666666667),\n",
       " (7, 2, 0.9251666666666667),\n",
       " (9, 2, 0.9251666666666667),\n",
       " (1, 1, 0.9224166666666667),\n",
       " (3, 1, 0.9224166666666667),\n",
       " (4, 1, 0.9224166666666667),\n",
       " (5, 1, 0.9224166666666667),\n",
       " (7, 1, 0.9224166666666667),\n",
       " (9, 1, 0.9224166666666667)]"
      ]
     },
     "metadata": {},
     "execution_count": 10
    }
   ],
   "source": [
    "sorted(result, key = lambda x: x[2], reverse=True)"
   ]
  },
  {
   "cell_type": "code",
   "execution_count": null,
   "metadata": {},
   "outputs": [],
   "source": []
  },
  {
   "cell_type": "code",
   "execution_count": null,
   "metadata": {},
   "outputs": [],
   "source": []
  },
  {
   "cell_type": "code",
   "execution_count": null,
   "metadata": {},
   "outputs": [],
   "source": []
  }
 ]
}