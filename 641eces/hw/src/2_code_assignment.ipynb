{
 "metadata": {
  "language_info": {
   "codemirror_mode": {
    "name": "ipython",
    "version": 3
   },
   "file_extension": ".py",
   "mimetype": "text/x-python",
   "name": "python",
   "nbconvert_exporter": "python",
   "pygments_lexer": "ipython3",
   "version": "3.8.5-final"
  },
  "orig_nbformat": 2,
  "kernelspec": {
   "name": "Python 3.8.5 64-bit ('hw': venv)",
   "display_name": "Python 3.8.5 64-bit ('hw': venv)",
   "metadata": {
    "interpreter": {
     "hash": "9eeb6fbbcda639d1b18cbbcc7c9708a3732344f435222a014cb11f676f66e891"
    }
   }
  }
 },
 "nbformat": 4,
 "nbformat_minor": 2,
 "cells": [
  {
   "cell_type": "code",
   "execution_count": 9,
   "metadata": {},
   "outputs": [
    {
     "output_type": "stream",
     "name": "stdout",
     "text": [
      "0\n1\n1\n2\n3\n5\n8\n13\n21\n34\n55\n89\n144\n233\n"
     ]
    }
   ],
   "source": [
    "mem = {0: 0, 1: 1}\n",
    "\n",
    "def fibonacci(n):\n",
    "    if n in mem:\n",
    "        return mem[n]\n",
    "    else:\n",
    "        mem[n] = fibonacci(n-1) + fibonacci(n-2)\n",
    "        return mem[n]\n",
    "\n",
    "for i in range(14):\n",
    "    print(fibonacci(i))"
   ]
  },
  {
   "cell_type": "code",
   "execution_count": 15,
   "metadata": {},
   "outputs": [
    {
     "output_type": "stream",
     "name": "stdout",
     "text": [
      "3\n3\n"
     ]
    }
   ],
   "source": [
    "mem = {}\n",
    "\n",
    "def levenshtein(string1, string2):\n",
    "    # corner cases\n",
    "    if string1 == \"\":\n",
    "        return len(string2)\n",
    "    if string2 == \"\":\n",
    "        return len(string1)\n",
    "\n",
    "\n",
    "    cost = 0 if string1[-1] == string2[-1] else 1\n",
    "       \n",
    "    dist1 = string1[:-1] + string2\n",
    "    dist2 = string1 + string2[:-1]\n",
    "    dist3 = string1[:-1] + string2[:-1]\n",
    "\n",
    "    if dist1 not in mem:\n",
    "        mem[dist1] = levenshtein(string1[:-1], string2)\n",
    "    if dist2 not in mem:\n",
    "        mem[dist2] = levenshtein(string1, string2[:-1])\n",
    "    if dist3 not in mem:\n",
    "        mem[dist3] = levenshtein(string1[:-1], string2[:-1])\n",
    "    res = min([mem[dist1]+1, mem[dist2]+1, mem[dist3]+cost])\n",
    "    \n",
    "    return res\n",
    "\n",
    "print(levenshtein(\"kitten\", \"sitting\"))\n",
    "print(levenshtein(\"Python\", \"Peithen\"))"
   ]
  },
  {
   "cell_type": "code",
   "execution_count": 16,
   "metadata": {},
   "outputs": [
    {
     "output_type": "execute_result",
     "data": {
      "text/plain": [
       "{'sitting': 7,\n",
       " 'sittin': 6,\n",
       " 'sitti': 5,\n",
       " 'sitt': 4,\n",
       " 'sit': 3,\n",
       " 'si': 2,\n",
       " 's': 1,\n",
       " 'k': 1,\n",
       " '': 0,\n",
       " 'ks': 1,\n",
       " 'ksi': 2,\n",
       " 'ksit': 3,\n",
       " 'ksitt': 4,\n",
       " 'ksitti': 5,\n",
       " 'ksittin': 6,\n",
       " 'ksitting': 7,\n",
       " 'ki': 2,\n",
       " 'kis': 2,\n",
       " 'kisi': 1,\n",
       " 'kisit': 2,\n",
       " 'kisitt': 3,\n",
       " 'kisitti': 4,\n",
       " 'kisittin': 5,\n",
       " 'kisitting': 6,\n",
       " 'kit': 3,\n",
       " 'kits': 3,\n",
       " 'kitsi': 2,\n",
       " 'kitsit': 1,\n",
       " 'kitsitt': 2,\n",
       " 'kitsitti': 3,\n",
       " 'kitsittin': 4,\n",
       " 'kitsitting': 5,\n",
       " 'kitt': 4,\n",
       " 'kitts': 4,\n",
       " 'kittsi': 3,\n",
       " 'kittsit': 2,\n",
       " 'kittsitt': 1,\n",
       " 'kittsitti': 2,\n",
       " 'kittsittin': 3,\n",
       " 'kittsitting': 4,\n",
       " 'kitte': 5,\n",
       " 'kittes': 5,\n",
       " 'kittesi': 4,\n",
       " 'kittesit': 3,\n",
       " 'kittesitt': 2,\n",
       " 'kittesitti': 2,\n",
       " 'kittesittin': 3,\n",
       " 'kittesitting': 4,\n",
       " 'kitten': 6,\n",
       " 'kittens': 6,\n",
       " 'kittensi': 5,\n",
       " 'kittensit': 4,\n",
       " 'kittensitt': 3,\n",
       " 'kittensitti': 3,\n",
       " 'kittensittin': 2,\n",
       " 'Peithen': 7,\n",
       " 'Peithe': 6,\n",
       " 'Peith': 5,\n",
       " 'Peit': 4,\n",
       " 'Pei': 3,\n",
       " 'Pe': 2,\n",
       " 'P': 1,\n",
       " 'PP': 0,\n",
       " 'PPe': 1,\n",
       " 'PPei': 2,\n",
       " 'PPeit': 3,\n",
       " 'PPeith': 4,\n",
       " 'PPeithe': 5,\n",
       " 'PPeithen': 6,\n",
       " 'Py': 2,\n",
       " 'PyP': 1,\n",
       " 'PyPe': 1,\n",
       " 'PyPei': 2,\n",
       " 'PyPeit': 3,\n",
       " 'PyPeith': 4,\n",
       " 'PyPeithe': 5,\n",
       " 'PyPeithen': 6,\n",
       " 'Pyt': 3,\n",
       " 'PytP': 2,\n",
       " 'PytPe': 2,\n",
       " 'PytPei': 2,\n",
       " 'PytPeit': 2,\n",
       " 'PytPeith': 3,\n",
       " 'PytPeithe': 4,\n",
       " 'PytPeithen': 5,\n",
       " 'Pyth': 4,\n",
       " 'PythP': 3,\n",
       " 'PythPe': 3,\n",
       " 'PythPei': 3,\n",
       " 'PythPeit': 3,\n",
       " 'PythPeith': 2,\n",
       " 'PythPeithe': 3,\n",
       " 'PythPeithen': 4,\n",
       " 'Pytho': 5,\n",
       " 'PythoP': 4,\n",
       " 'PythoPe': 4,\n",
       " 'PythoPei': 4,\n",
       " 'PythoPeit': 4,\n",
       " 'PythoPeith': 3,\n",
       " 'PythoPeithe': 3,\n",
       " 'PythoPeithen': 4,\n",
       " 'Python': 6,\n",
       " 'PythonP': 5,\n",
       " 'PythonPe': 5,\n",
       " 'PythonPei': 5,\n",
       " 'PythonPeit': 5,\n",
       " 'PythonPeith': 4,\n",
       " 'PythonPeithe': 4}"
      ]
     },
     "metadata": {},
     "execution_count": 16
    }
   ],
   "source": [
    "mem"
   ]
  },
  {
   "cell_type": "code",
   "execution_count": 19,
   "metadata": {},
   "outputs": [
    {
     "output_type": "stream",
     "name": "stdout",
     "text": [
      "[0, 1, 2, 3, 4, 5, 6]\n[1, 0, 1, 2, 3, 4, 5]\n[2, 1, 1, 2, 3, 4, 5]\n[3, 2, 2, 2, 3, 4, 5]\n[4, 3, 3, 2, 3, 4, 5]\n[5, 4, 4, 3, 2, 3, 4]\n[6, 5, 5, 4, 3, 3, 4]\n[7, 6, 6, 5, 4, 4, 3]\n3\n"
     ]
    }
   ],
   "source": [
    "def iterative_levenshtein(s, t):\n",
    "    \"\"\" \n",
    "        iterative_levenshtein(s, t) -> ldist\n",
    "        ldist is the Levenshtein distance between the strings \n",
    "        s and t.\n",
    "        For all i and j, dist[i,j] will contain the Levenshtein \n",
    "        distance between the first i characters of s and the \n",
    "        first j characters of t\n",
    "    \"\"\"\n",
    "\n",
    "    rows = len(s)+1\n",
    "    cols = len(t)+1\n",
    "    dist = [[0 for x in range(cols)] for x in range(rows)]\n",
    "\n",
    "    # source prefixes can be transformed into empty strings \n",
    "    # by deletions:\n",
    "    for i in range(1, rows):\n",
    "        dist[i][0] = i\n",
    "\n",
    "    # target prefixes can be created from an empty source string\n",
    "    # by inserting the characters\n",
    "    for i in range(1, cols):\n",
    "        dist[0][i] = i\n",
    "        \n",
    "    for col in range(1, cols):\n",
    "        for row in range(1, rows):\n",
    "            if s[row-1] == t[col-1]:\n",
    "                cost = 0\n",
    "            else:\n",
    "                cost = 1\n",
    "            dist[row][col] = min(dist[row-1][col] + 1,      # deletion\n",
    "                                 dist[row][col-1] + 1,      # insertion\n",
    "                                 dist[row-1][col-1] + cost) # substitution\n",
    "\n",
    "    for r in range(rows):\n",
    "        print(dist[r])\n",
    "    \n",
    " \n",
    "    return dist[row][col]\n",
    "\n",
    "print(iterative_levenshtein(\"peithen\", \"python\"))"
   ]
  },
  {
   "cell_type": "code",
   "execution_count": null,
   "metadata": {},
   "outputs": [],
   "source": []
  }
 ]
}