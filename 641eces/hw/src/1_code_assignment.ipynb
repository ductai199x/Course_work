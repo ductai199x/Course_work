{
 "cells": [
  {
   "cell_type": "code",
   "execution_count": 1,
   "metadata": {},
   "outputs": [],
   "source": [
    "from tqdm.auto import tqdm"
   ]
  },
  {
   "cell_type": "code",
   "execution_count": 2,
   "metadata": {},
   "outputs": [],
   "source": [
    "from Bio import Entrez, SeqIO, Seq"
   ]
  },
  {
   "cell_type": "code",
   "execution_count": 3,
   "metadata": {},
   "outputs": [],
   "source": [
    "Entrez.email = \"tdn47@drexel.edu\""
   ]
  },
  {
   "cell_type": "markdown",
   "metadata": {},
   "source": [
    "# Problem 1:\n",
    "How many results do you get when you search for all 28S rRNA genes that are over 700 bp from:"
   ]
  },
  {
   "cell_type": "markdown",
   "metadata": {},
   "source": [
    "## A veterbrate (Hypostomus asperatus)"
   ]
  },
  {
   "cell_type": "code",
   "execution_count": 4,
   "metadata": {},
   "outputs": [],
   "source": [
    "handle = Entrez.esearch(db=\"nucleotide\", \n",
    "                        term=\"28S rRNA[gene] AND \\\n",
    "                            Hypostomus asperatus[ORGN] AND \\\n",
    "                            700:9999999999[Sequence Length]\")\n",
    "records = Entrez.read(handle)"
   ]
  },
  {
   "cell_type": "code",
   "execution_count": 5,
   "metadata": {
    "scrolled": false
   },
   "outputs": [
    {
     "name": "stdout",
     "output_type": "stream",
     "text": [
      "Number of results Hypostomus asperatus: 5\n"
     ]
    }
   ],
   "source": [
    "print(f\"Number of results Hypostomus asperatus: {records['Count']}\")"
   ]
  },
  {
   "cell_type": "markdown",
   "metadata": {},
   "source": [
    "## A red algae spieces (Grateloupia turuturu)"
   ]
  },
  {
   "cell_type": "code",
   "execution_count": 6,
   "metadata": {},
   "outputs": [],
   "source": [
    "handle = Entrez.esearch(db=\"nucleotide\", \n",
    "                        term=\"28S rRNA[gene] AND \\\n",
    "                            Grateloupia turuturu[ORGN] AND \\\n",
    "                            700:9999999999[Sequence Length]\")\n",
    "records = Entrez.read(handle)"
   ]
  },
  {
   "cell_type": "code",
   "execution_count": 7,
   "metadata": {
    "scrolled": true
   },
   "outputs": [
    {
     "name": "stdout",
     "output_type": "stream",
     "text": [
      "Number of results Grateloupia turuturu: 3\n"
     ]
    }
   ],
   "source": [
    "print(f\"Number of results Grateloupia turuturu: {records['Count']}\")"
   ]
  },
  {
   "cell_type": "markdown",
   "metadata": {},
   "source": [
    "## An basidiomycete fungus (Tricholomopsis flammula)"
   ]
  },
  {
   "cell_type": "code",
   "execution_count": 8,
   "metadata": {},
   "outputs": [
    {
     "name": "stdout",
     "output_type": "stream",
     "text": [
      "Number of results for Tricholomopsis flammula: 5\n"
     ]
    }
   ],
   "source": [
    "handle = Entrez.esearch(db=\"nucleotide\", \n",
    "                        term=\"28S rRNA[gene] AND \\\n",
    "                            Tricholomopsis flammula[ORGN] AND \\\n",
    "                            700:9999999999[Sequence Length] NOT \\\n",
    "                            uncultured\")\n",
    "records = Entrez.read(handle)\n",
    "print(f\"Number of results for Tricholomopsis flammula: {records['Count']}\")"
   ]
  },
  {
   "cell_type": "markdown",
   "metadata": {},
   "source": [
    "# Problem 2:\n",
    "Save all 28S rRNA genes that are over 700 bp from all green algae species to a file named “long_28rrna_greenalgae.fa”"
   ]
  },
  {
   "cell_type": "code",
   "execution_count": 9,
   "metadata": {},
   "outputs": [
    {
     "name": "stdout",
     "output_type": "stream",
     "text": [
      "Number of results for green algae: 4\n"
     ]
    }
   ],
   "source": [
    "handle_search = Entrez.esearch(db=\"nucleotide\", \n",
    "                               term=\"28S rRNA[gene] AND \\\n",
    "                                    green algae[ORGN] AND \\\n",
    "                                    700:9999999999[Sequence Length] NOT \\\n",
    "                                    uncultured NOT \\\n",
    "                                    partial\",\n",
    "                               retmax=1000)\n",
    "records = Entrez.read(handle_search)\n",
    "print(f\"Number of results for green algae: {records['Count']}\")\n",
    "gi_list = records[\"IdList\"]"
   ]
  },
  {
   "cell_type": "code",
   "execution_count": 10,
   "metadata": {},
   "outputs": [
    {
     "name": "stdout",
     "output_type": "stream",
     "text": [
      "Writing to {f_name}\n"
     ]
    },
    {
     "data": {
      "application/vnd.jupyter.widget-view+json": {
       "model_id": "6b7c4c4e06624a969c0fb14e7cf51e8e",
       "version_major": 2,
       "version_minor": 0
      },
      "text/plain": [
       "HBox(children=(HTML(value=''), FloatProgress(value=0.0, max=4.0), HTML(value='')))"
      ]
     },
     "metadata": {},
     "output_type": "display_data"
    },
    {
     "name": "stdout",
     "output_type": "stream",
     "text": [
      "\n"
     ]
    }
   ],
   "source": [
    "f_name = \"long_28rrna_greenalgae.fa\"\n",
    "print(\"Writing to {f_name}\")\n",
    "with open(f_name,\"w\") as output_file:\n",
    "    for gi in tqdm(gi_list):\n",
    "        handle_text = Entrez.efetch(db=\"nucleotide\", id=gi, rettype=\"gb\", retmode=\"text\")\n",
    "        rec_text = SeqIO.read(handle_text, \"genbank\")\n",
    "        rec_id = rec_text.id\n",
    "        rec_desc = rec_text.description\n",
    "\n",
    "        feature_list = [f for f in rec_text.features if f.type=='gene' or f.type == 'rRNA']\n",
    "        feature_list = [f for f in feature_list if 'gene' in f.qualifiers and f.qualifiers['gene'][0] == '28S rRNA']\n",
    "\n",
    "        for f in feature_list:\n",
    "            output_file.write(f\">{rec_id} {rec_desc} {f.location}\\n{f.location.extract(rec_text).seq}\\n\")"
   ]
  },
  {
   "cell_type": "markdown",
   "metadata": {},
   "source": [
    "# Problem 3:\n",
    "Save all the Protein IDs of ATPase genes from the first Galdieria sulphuraria whole genome scaffold that you find.  Save them into a file called G_sulphuraria_atpase_ids."
   ]
  },
  {
   "cell_type": "code",
   "execution_count": 11,
   "metadata": {},
   "outputs": [
    {
     "name": "stdout",
     "output_type": "stream",
     "text": [
      "Number of results for Galdieria sulphuraria: 2\n"
     ]
    }
   ],
   "source": [
    "handle_search = Entrez.esearch(db=\"nucleotide\", \n",
    "                               term=\"Galdieria sulphuraria[ORGN] AND \\\n",
    "                                    (whole OR complete) AND \\\n",
    "                                    scaffold AND \\\n",
    "                                    400000:9999999999[Sequence Length] \",\n",
    "                               retmax=1000)\n",
    "records = Entrez.read(handle_search)\n",
    "print(f\"Number of results for Galdieria sulphuraria: {records['Count']}\")\n",
    "gi = records[\"IdList\"][0]"
   ]
  },
  {
   "cell_type": "code",
   "execution_count": 12,
   "metadata": {},
   "outputs": [
    {
     "name": "stdout",
     "output_type": "stream",
     "text": [
      "Writing to G_sulphuraria_atpase_ids\n"
     ]
    },
    {
     "data": {
      "application/vnd.jupyter.widget-view+json": {
       "model_id": "ffddc49badf04833a680dabac5d49a2f",
       "version_major": 2,
       "version_minor": 0
      },
      "text/plain": [
       "HBox(children=(HTML(value=''), FloatProgress(value=0.0, max=11.0), HTML(value='')))"
      ]
     },
     "metadata": {},
     "output_type": "display_data"
    },
    {
     "name": "stdout",
     "output_type": "stream",
     "text": [
      "\n"
     ]
    }
   ],
   "source": [
    "f_name = \"G_sulphuraria_atpase_ids\"\n",
    "print(f\"Writing to {f_name}\")\n",
    "with open(f_name,\"w\") as output_file:\n",
    "    handle_text = Entrez.efetch(db=\"nucleotide\", id=gi, rettype=\"gb\", retmode=\"text\")\n",
    "    rec_text = SeqIO.read(handle_text, \"genbank\")\n",
    "    rec_id = rec_text.id\n",
    "    rec_desc = rec_text.description\n",
    "\n",
    "    feature_list = [f for f in rec_text.features if f.type=='CDS']\n",
    "    feature_list = [f for f in feature_list if 'product' in f.qualifiers and 'ATPase' in f.qualifiers['product'][0]]\n",
    "\n",
    "    for f in tqdm(feature_list):\n",
    "        output_file.write(f\"{f.qualifiers['protein_id'][0]}\\n\")"
   ]
  },
  {
   "cell_type": "code",
   "execution_count": 13,
   "metadata": {},
   "outputs": [],
   "source": [
    "handle_search.close()\n",
    "handle_text.close()"
   ]
  },
  {
   "cell_type": "code",
   "execution_count": null,
   "metadata": {},
   "outputs": [],
   "source": []
  },
  {
   "cell_type": "code",
   "execution_count": null,
   "metadata": {},
   "outputs": [],
   "source": []
  }
 ],
 "metadata": {
  "kernelspec": {
   "display_name": "Python 3",
   "language": "python",
   "name": "python3"
  },
  "language_info": {
   "codemirror_mode": {
    "name": "ipython",
    "version": 3
   },
   "file_extension": ".py",
   "mimetype": "text/x-python",
   "name": "python",
   "nbconvert_exporter": "python",
   "pygments_lexer": "ipython3",
   "version": "3.6.9"
  }
 },
 "nbformat": 4,
 "nbformat_minor": 4
}
