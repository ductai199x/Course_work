{
 "metadata": {
  "language_info": {
   "codemirror_mode": {
    "name": "ipython",
    "version": 3
   },
   "file_extension": ".py",
   "mimetype": "text/x-python",
   "name": "python",
   "nbconvert_exporter": "python",
   "pygments_lexer": "ipython3",
   "version": "3.8.6-final"
  },
  "orig_nbformat": 2,
  "kernelspec": {
   "name": "python3",
   "display_name": "Python 3",
   "language": "python"
  }
 },
 "nbformat": 4,
 "nbformat_minor": 2,
 "cells": [
  {
   "source": [
    "# Problem 1"
   ],
   "cell_type": "markdown",
   "metadata": {}
  },
  {
   "cell_type": "code",
   "execution_count": 1,
   "metadata": {},
   "outputs": [],
   "source": [
    "import numpy as np\n",
    "import itertools\n",
    "from collections import Counter\n",
    "import os, sys\n",
    "from Bio import SeqIO"
   ]
  },
  {
   "cell_type": "code",
   "execution_count": 2,
   "metadata": {},
   "outputs": [],
   "source": [
    "mers3_list = list(itertools.product('ACGT', repeat=3))\n",
    "mers3_list = [''.join(list(seq)) for seq in mers3_list]\n",
    "mers3_hash = list(itertools.product('0123', repeat=3))\n",
    "base3_arr = np.array([16, 4, 1])\n",
    "mers3_hash = [np.sum(np.array(list(map(int,h)))*base3_arr) for h in mers3_hash]\n",
    "\n",
    "mers3_hash_dict = dict(zip(mers3_list, mers3_hash))"
   ]
  },
  {
   "cell_type": "code",
   "execution_count": 3,
   "metadata": {},
   "outputs": [
    {
     "output_type": "stream",
     "name": "stdout",
     "text": [
      "\n## Problem 1 ##\n\n14\n"
     ]
    }
   ],
   "source": [
    "print(\"\\n## Problem 1 ##\\n\")\n",
    "print(mers3_hash_dict['ATC'] + 1)"
   ]
  },
  {
   "cell_type": "code",
   "execution_count": 4,
   "metadata": {},
   "outputs": [],
   "source": [
    "sliding_window = lambda seq, win_len, step: [seq[i:i+win_len] for i in np.arange(0, len(seq), step) if i + win_len <= len(seq)]"
   ]
  },
  {
   "cell_type": "code",
   "execution_count": 5,
   "metadata": {},
   "outputs": [],
   "source": [
    "count_kmers = lambda seqs: dict(Counter(seqs))"
   ]
  },
  {
   "cell_type": "code",
   "execution_count": 6,
   "metadata": {},
   "outputs": [
    {
     "output_type": "stream",
     "name": "stdout",
     "text": [
      "{'ATT': 2, 'TTA': 1, 'TAT': 1, 'TTG': 1, 'TGC': 1}\n"
     ]
    }
   ],
   "source": [
    "print(count_kmers(sliding_window('ATTATTGC', 3, 1)))"
   ]
  },
  {
   "source": [
    "# Problem 2"
   ],
   "cell_type": "markdown",
   "metadata": {}
  },
  {
   "cell_type": "code",
   "execution_count": 7,
   "metadata": {},
   "outputs": [],
   "source": [
    "A = np.array([\n",
    "    [0.5, 0.1, 0.4],\n",
    "    [0.2, 0.7, 0.1],\n",
    "    [0.5, 0.3, 0.2],\n",
    "], dtype=np.float64)\n",
    "B = np.array([\n",
    "    [0.5, 0.3, 0.2],\n",
    "    [0.3, 0.2, 0.5],\n",
    "    [0.1, 0.6, 0.3],\n",
    "], dtype=np.float64)\n",
    "I = np.array([1/3, 1/3, 1/3])\n",
    "O = np.array([0, 2, 1, 2, 0])"
   ]
  },
  {
   "cell_type": "code",
   "execution_count": 8,
   "metadata": {},
   "outputs": [],
   "source": [
    "def viterbi(trans_mat, emit_mat, init_state, obs, return_fm=False):\n",
    "    forward_mat = {}\n",
    "    n_state = len(init_state)\n",
    "    max_timestep = len(obs)-1\n",
    "\n",
    "    forward_mat[0] = np.array([0]*n_state, dtype=float)\n",
    "    for i in range(n_state):\n",
    "        forward_mat[0][i] = init_state[i] * emit_mat[i, obs[0]]\n",
    "\n",
    "    def helper(time_step):\n",
    "        if time_step in forward_mat:\n",
    "            return forward_mat[time_step]\n",
    "\n",
    "        forward_mat[time_step] = np.array([0]*n_state, dtype=float)\n",
    "        prev_mat = helper(time_step-1)\n",
    "        for i in range(n_state):\n",
    "            sum_ = 0.0\n",
    "            for j in range(n_state):\n",
    "                sum_ += prev_mat[j] * trans_mat[i, j] * emit_mat[i, obs[time_step]]\n",
    "            forward_mat[time_step][i] += sum_\n",
    "        return forward_mat[time_step]\n",
    "    \n",
    "    helper(max_timestep)\n",
    "\n",
    "    most_likely_hs = [np.argmax(forward_mat[i]) for i in sorted(forward_mat.keys())]\n",
    "    \n",
    "    if return_fm:\n",
    "        return most_likely_hs, forward_mat\n",
    "    else:\n",
    "        return most_likely_hs"
   ]
  },
  {
   "cell_type": "code",
   "execution_count": 9,
   "metadata": {},
   "outputs": [
    {
     "output_type": "stream",
     "name": "stdout",
     "text": [
      "\n## Problem 2 ##\n\nHidden states = [0, 1, 2, 1, 0]\n"
     ]
    }
   ],
   "source": [
    "hidden_states = viterbi(A, B, I, O)\n",
    "print(\"\\n## Problem 2 ##\\n\")\n",
    "print(f\"Hidden states = {hidden_states}\")"
   ]
  },
  {
   "source": [
    "# Problem 3"
   ],
   "cell_type": "markdown",
   "metadata": {}
  },
  {
   "cell_type": "code",
   "execution_count": 10,
   "metadata": {},
   "outputs": [],
   "source": [
    "DATA_DIR = '../data'"
   ]
  },
  {
   "cell_type": "code",
   "execution_count": 11,
   "metadata": {},
   "outputs": [],
   "source": [
    "with open(os.path.join(DATA_DIR, \"T_vulcanus_rbcl.fasta\"), \"r\") as handle:\n",
    "    records = list(SeqIO.parse(handle, \"fasta\"))\n",
    "    t_vulcanus = ''.join(list(records[0].seq))\n",
    "\n",
    "with open(os.path.join(DATA_DIR, \"S_thermotolerans.fasta\"), \"r\") as handle:\n",
    "    records = list(SeqIO.parse(handle, \"fasta\"))\n",
    "    s_thermo = ''.join(list(records[0].seq))\n",
    "\n",
    "with open(os.path.join(DATA_DIR, \"Limnohabitans.fasta\"), \"r\") as handle:\n",
    "    records = list(SeqIO.parse(handle, \"fasta\"))\n",
    "    limnohabitans = ''.join(list(records[0].seq))\n",
    "\n",
    "with open(os.path.join(DATA_DIR, \"uncultured.fasta\"), \"r\") as handle:\n",
    "    records = list(SeqIO.parse(handle, \"fasta\"))\n",
    "    uncultured = ''.join(list(records[0].seq))"
   ]
  },
  {
   "cell_type": "code",
   "execution_count": 12,
   "metadata": {},
   "outputs": [],
   "source": [
    "kmers = 3\n",
    "step = 1\n",
    "t_vulcanus_kmers_count = count_kmers(sliding_window(t_vulcanus, kmers, step))\n",
    "s_thermo_kmers_count = count_kmers(sliding_window(s_thermo, kmers, step))\n",
    "limnohabitans_kmers_count = count_kmers(sliding_window(limnohabitans, kmers, step))\n",
    "uncultured_kmers_count = count_kmers(sliding_window(uncultured, kmers, step))"
   ]
  },
  {
   "cell_type": "code",
   "execution_count": 13,
   "metadata": {},
   "outputs": [],
   "source": [
    "eps = 2e-26\n",
    "t_vulcanus_kmers_arr = np.zeros((len(mers3_hash_dict), 1))\n",
    "s_thermo_kmers_arr = np.zeros((len(mers3_hash_dict), 1))\n",
    "limnohabitans_kmers_arr = np.zeros((len(mers3_hash_dict), 1))\n",
    "uncultured_kmers_arr = np.zeros((len(mers3_hash_dict), 1))\n",
    "\n",
    "for mer in t_vulcanus_kmers_count:\n",
    "    t_vulcanus_kmers_arr[mers3_hash_dict[mer]] += t_vulcanus_kmers_count[mer]\n",
    "\n",
    "for mer in s_thermo_kmers_count:\n",
    "    s_thermo_kmers_arr[mers3_hash_dict[mer]] += s_thermo_kmers_count[mer]\n",
    "\n",
    "for mer in limnohabitans_kmers_count:\n",
    "    limnohabitans_kmers_arr[mers3_hash_dict[mer]] += limnohabitans_kmers_count[mer]\n",
    "\n",
    "for mer in uncultured_kmers_count:\n",
    "    uncultured_kmers_arr[mers3_hash_dict[mer]] += uncultured_kmers_count[mer]"
   ]
  },
  {
   "cell_type": "code",
   "execution_count": 14,
   "metadata": {},
   "outputs": [],
   "source": [
    "t_vulcanus_llh = np.log(t_vulcanus_kmers_arr/np.sum(t_vulcanus_kmers_arr) + eps)\n",
    "s_thermo_llh = np.log(s_thermo_kmers_arr/np.sum(s_thermo_kmers_arr) + eps)\n",
    "limnohabitans_llh = np.log(limnohabitans_kmers_arr/np.sum(limnohabitans_kmers_arr) + eps)"
   ]
  },
  {
   "cell_type": "code",
   "execution_count": 15,
   "metadata": {},
   "outputs": [],
   "source": [
    "LLH_t_vulcanus = np.sum(uncultured_kmers_arr * t_vulcanus_llh)\n",
    "LLH_s_thermo = np.sum(uncultured_kmers_arr * s_thermo_llh)\n",
    "LLH_limnohabitans = np.sum(uncultured_kmers_arr * limnohabitans_llh)"
   ]
  },
  {
   "cell_type": "code",
   "execution_count": 16,
   "metadata": {},
   "outputs": [
    {
     "output_type": "stream",
     "name": "stdout",
     "text": [
      "\n## Problem 3 ##\n\nL(t_vulcanus|x)=-5624.702110841279,\nL(s_thermo|x)=-5587.6512156185445\nL(limnohabitans|x)=-5835.920601734659\n"
     ]
    }
   ],
   "source": [
    "print(\"\\n## Problem 3 ##\\n\")\n",
    "print(f\"L(t_vulcanus|x)={LLH_t_vulcanus},\\nL(s_thermo|x)={LLH_s_thermo}\\nL(limnohabitans|x)={LLH_limnohabitans}\")"
   ]
  },
  {
   "cell_type": "code",
   "execution_count": 19,
   "metadata": {},
   "outputs": [
    {
     "output_type": "stream",
     "name": "stdout",
     "text": [
      "Highest LLH is -5587.6512156185445, belong to class S_thermotolerans\n"
     ]
    }
   ],
   "source": [
    "print(f\"Highest LLH is {LLH_s_thermo}, belong to class S_thermotolerans\")"
   ]
  }
 ]
}