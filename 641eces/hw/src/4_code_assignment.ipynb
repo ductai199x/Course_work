{
 "metadata": {
  "language_info": {
   "codemirror_mode": {
    "name": "ipython",
    "version": 3
   },
   "file_extension": ".py",
   "mimetype": "text/x-python",
   "name": "python",
   "nbconvert_exporter": "python",
   "pygments_lexer": "ipython3",
   "version": "3.8.6-final"
  },
  "orig_nbformat": 2,
  "kernelspec": {
   "name": "python3",
   "display_name": "Python 3"
  }
 },
 "nbformat": 4,
 "nbformat_minor": 2,
 "cells": [
  {
   "source": [
    "# Tai Duc Nguyen - ECES 641 - Programming Assignment 4"
   ],
   "cell_type": "markdown",
   "metadata": {}
  },
  {
   "cell_type": "code",
   "execution_count": 1,
   "metadata": {},
   "outputs": [],
   "source": [
    "import numpy as np"
   ]
  },
  {
   "source": [
    "# Part 1"
   ],
   "cell_type": "markdown",
   "metadata": {}
  },
  {
   "cell_type": "code",
   "execution_count": 2,
   "metadata": {},
   "outputs": [
    {
     "output_type": "execute_result",
     "data": {
      "text/plain": [
       "array([[0.33333333, 0.66666667, 0.        ],\n",
       "       [0.33333333, 0.        , 0.66666667],\n",
       "       [0.        , 0.66666667, 0.33333333]])"
      ]
     },
     "metadata": {},
     "execution_count": 2
    }
   ],
   "source": [
    "A = np.array([\n",
    "    [1/3, 2/3, 0],\n",
    "    [1/3, 0, 2/3],\n",
    "    [0, 2/3, 1/3],\n",
    "], dtype=np.float64)\n",
    "A"
   ]
  },
  {
   "cell_type": "code",
   "execution_count": 3,
   "metadata": {},
   "outputs": [],
   "source": [
    "def get_prob_mm(mat, s0, st, steps):\n",
    "    state_trans = np.zeros((1, mat.shape[0]))\n",
    "    state_trans[0, s0] = 1\n",
    "    for i in range(steps):\n",
    "        state_trans = state_trans @ mat\n",
    "    return state_trans[0, st]"
   ]
  },
  {
   "cell_type": "code",
   "execution_count": 4,
   "metadata": {},
   "outputs": [
    {
     "output_type": "stream",
     "name": "stdout",
     "text": [
      "P(s1(2) | s3(0)) = 0.2222222222222222\nP(s1(10) | s3(0)) = 0.2023065589595081\nP(s1(50) | s3(0)) = 0.20000000020910993\nP(s1(100) | s3(0)) = 0.19999999999999904\n"
     ]
    }
   ],
   "source": [
    "print(f\"P(s1(2) | s3(0)) = {get_prob_mm(A, 2, 0, 2)}\")\n",
    "print(f\"P(s1(10) | s3(0)) = {get_prob_mm(A, 2, 0, 10)}\")\n",
    "print(f\"P(s1(50) | s3(0)) = {get_prob_mm(A, 2, 0, 50)}\")\n",
    "print(f\"P(s1(100) | s3(0)) = {get_prob_mm(A, 2, 0, 100)}\")"
   ]
  },
  {
   "source": [
    "# Part 2"
   ],
   "cell_type": "markdown",
   "metadata": {}
  },
  {
   "cell_type": "code",
   "execution_count": 5,
   "metadata": {},
   "outputs": [],
   "source": [
    "B = np.array([\n",
    "    [9/10, 1/10],\n",
    "    [1/10, 9/10],\n",
    "    [1/2, 1/2],\n",
    "], dtype=np.float64)\n",
    "I = np.array([1, 0, 0])\n",
    "O = np.array([0, 1, 1])"
   ]
  },
  {
   "cell_type": "code",
   "execution_count": 6,
   "metadata": {},
   "outputs": [],
   "source": [
    "def get_prob_hmm(trans_mat, emit_mat, init_state, obs):\n",
    "    forward_mat = {}\n",
    "    n_state = len(init_state)\n",
    "    max_timestep = len(obs)-1\n",
    "\n",
    "    forward_mat[0] = np.array([0]*n_state, dtype=float)\n",
    "    for i in range(n_state):\n",
    "        forward_mat[0][i] = init_state[i] * emit_mat[i, obs[0]]\n",
    "\n",
    "    def helper(time_step):\n",
    "        if time_step in forward_mat:\n",
    "            return forward_mat[time_step]\n",
    "\n",
    "        forward_mat[time_step] = np.array([0]*n_state, dtype=float)\n",
    "        prev_mat = helper(time_step-1)\n",
    "        for i in range(n_state):\n",
    "            sum_ = 0.0\n",
    "            for j in range(n_state):\n",
    "                sum_ += prev_mat[j] * trans_mat[i, j] * emit_mat[i, obs[time_step]]\n",
    "            forward_mat[time_step][i] += sum_\n",
    "        return forward_mat[time_step]\n",
    "    \n",
    "    helper(max_timestep)\n",
    "    likelihood = 0\n",
    "    for p in forward_mat[max_timestep]:\n",
    "        likelihood += p\n",
    "    return likelihood, forward_mat"
   ]
  },
  {
   "source": [
    "likelihood, forward_mat = get_prob_hmm(A, B, I, O)\n",
    "print(f\"P(O | I, A, B) = {likelihood}\")\n",
    "print(f\"Forward matrix is (key, P(state_i | prev_states)) = {forward_mat}\")"
   ],
   "cell_type": "code",
   "metadata": {},
   "execution_count": 7,
   "outputs": [
    {
     "output_type": "stream",
     "name": "stdout",
     "text": [
      "P(O | I, A, B) = 0.118\nForward matrix is (key, P(state_i | prev_states)) = {0: array([0.9, 0. , 0. ]), 2: array([0.019, 0.009, 0.09 ]), 1: array([0.03, 0.27, 0.  ])}\n"
     ]
    }
   ]
  }
 ]
}