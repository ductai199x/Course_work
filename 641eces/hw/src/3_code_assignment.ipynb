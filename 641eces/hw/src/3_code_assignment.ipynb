{
 "metadata": {
  "language_info": {
   "codemirror_mode": {
    "name": "ipython",
    "version": 3
   },
   "file_extension": ".py",
   "mimetype": "text/x-python",
   "name": "python",
   "nbconvert_exporter": "python",
   "pygments_lexer": "ipython3",
   "version": "3.8.5-final"
  },
  "orig_nbformat": 2,
  "kernelspec": {
   "name": "Python 3.8.5 64-bit",
   "display_name": "Python 3.8.5 64-bit",
   "metadata": {
    "interpreter": {
     "hash": "9eeb6fbbcda639d1b18cbbcc7c9708a3732344f435222a014cb11f676f66e891"
    }
   }
  }
 },
 "nbformat": 4,
 "nbformat_minor": 2,
 "cells": [
  {
   "cell_type": "code",
   "execution_count": 232,
   "metadata": {},
   "outputs": [],
   "source": [
    "import time"
   ]
  },
  {
   "cell_type": "code",
   "execution_count": 233,
   "metadata": {},
   "outputs": [],
   "source": [
    "class TreeNode(object):\n",
    "    def __init__(self, left=None, right=None, value=None):\n",
    "        self.left = left\n",
    "        self.right = right\n",
    "        self.value = value"
   ]
  },
  {
   "cell_type": "code",
   "execution_count": 234,
   "metadata": {},
   "outputs": [],
   "source": [
    "class Tree(object):\n",
    "    def __init__(self, root=None):\n",
    "        self.root = root\n",
    "\n",
    "    def inorder(self):\n",
    "        def traverse(node):\n",
    "            travel = []\n",
    "            if node.left != None:\n",
    "                travel = traverse(node.left)\n",
    "            travel.append(node.value)\n",
    "            if node.right != None:\n",
    "                travel += traverse(node.right)\n",
    "            return travel\n",
    "\n",
    "        return traverse(self.root)\n",
    "\n",
    "    def preorder(self):\n",
    "        def traverse(node):\n",
    "            travel = []\n",
    "            travel.append(node.value)\n",
    "            if node.left != None:\n",
    "                travel += traverse(node.left)\n",
    "            if node.right != None:\n",
    "                travel += traverse(node.right)\n",
    "            return travel\n",
    "\n",
    "        return traverse(self.root)\n",
    "\n",
    "    def postorder(self):\n",
    "        def traverse(node):\n",
    "            travel = []\n",
    "            travel.append(node.value)\n",
    "            if node.left != None:\n",
    "                travel += traverse(node.left)\n",
    "            if node.right != None:\n",
    "                travel += traverse(node.right)\n",
    "            return travel\n",
    "\n",
    "        return traverse(self.root)"
   ]
  },
  {
   "cell_type": "code",
   "execution_count": 235,
   "metadata": {},
   "outputs": [],
   "source": [
    "class TreeGenerator(Tree):\n",
    "    def __init__ (self, list, type=\"btree\"):\n",
    "        self.list = list\n",
    "        \n",
    "        if type == \"btree\":\n",
    "            t1 = time.time()\n",
    "            self.build_btree_from_list(list)\n",
    "            print(time.time()-t1)\n",
    "        \n",
    "    def build_btree_from_list(self, arr):\n",
    "        # def insert(node, arr, processed, start, end):\n",
    "        #     mid = (end - start)//2 + start\n",
    "            \n",
    "        #     if mid in processed:\n",
    "        #         return\n",
    "        #     if node.value != None:\n",
    "        #         if arr[mid] <= node.value:\n",
    "        #             node.left = TreeNode(value=arr[mid])\n",
    "        #             node = node.left\n",
    "        #         else:\n",
    "        #             node.right = TreeNode(value=arr[mid])\n",
    "        #             node = node.right\n",
    "        #     else:\n",
    "        #         node.value = arr[mid]\n",
    "                \n",
    "        #     print(arr[mid], start, mid, end)\n",
    "            \n",
    "        #     processed.append(mid)\n",
    "        #     insert(node, arr, processed, start, mid)\n",
    "        #     insert(node, arr, processed, mid, end)\n",
    "        def insert(node, arr):\n",
    "            if len(arr) == 0: return\n",
    "            mid = len(arr) // 2               \n",
    "                \n",
    "            if node.value == None:\n",
    "                node.value = arr[mid]\n",
    "            else:\n",
    "                node = TreeNode(value=arr[mid])\n",
    "                \n",
    "            node.left = insert(node, arr[:mid])\n",
    "            node.right = insert(node, arr[mid+1:])\n",
    "                \n",
    "            return node\n",
    "            \n",
    "        arr = sorted(arr)\n",
    "        self.root = TreeNode()\n",
    "        processed = []\n",
    "        # insert(self.root, arr, processed, 0, len(arr))\n",
    "        insert(self.root, arr)\n",
    "        return self.root"
   ]
  },
  {
   "cell_type": "code",
   "execution_count": 236,
   "metadata": {},
   "outputs": [],
   "source": [
    "n4 = TreeNode(value=4)\n",
    "n5 = TreeNode(value=5)\n",
    "n2 = TreeNode(left=n4, right=n5, value=2)\n",
    "n3 = TreeNode(value=3)\n",
    "n1 = TreeNode(left=n2, right=n3, value=1)\n",
    "\n",
    "tree = Tree(n1)"
   ]
  },
  {
   "cell_type": "code",
   "execution_count": 237,
   "metadata": {},
   "outputs": [
    {
     "output_type": "stream",
     "name": "stdout",
     "text": [
      "[4, 2, 5, 1, 3]\n[1, 2, 4, 5, 3]\n[1, 2, 4, 5, 3]\n"
     ]
    }
   ],
   "source": [
    "# (a) Inorder (Left, Root, Right) : 4 2 5 1 3\n",
    "# (b) Preorder (Root, Left, Right) : 1 2 4 5 3\n",
    "# (c) Postorder (Left, Right, Root) : 4 5 2 3 1\n",
    "print(tree.inorder())\n",
    "print(tree.preorder())\n",
    "print(tree.postorder())"
   ]
  },
  {
   "cell_type": "code",
   "execution_count": 238,
   "metadata": {},
   "outputs": [
    {
     "output_type": "stream",
     "name": "stdout",
     "text": [
      "4.410743713378906e-05\n[1, 2, 3, 4, 4, 5, 6, 7, 8, 9]\n"
     ]
    }
   ],
   "source": [
    "arr = [1,2,3,4,4,5,6,7,8,9]\n",
    "btree = TreeGenerator(arr)\n",
    "print(btree.inorder())"
   ]
  },
  {
   "cell_type": "code",
   "execution_count": 239,
   "metadata": {},
   "outputs": [],
   "source": [
    "import math\n",
    "import numpy as np\n",
    "\n",
    "from Bio import SeqIO, AlignIO\n",
    "from Bio.Align import MultipleSeqAlignment\n"
   ]
  },
  {
   "cell_type": "code",
   "execution_count": 240,
   "metadata": {},
   "outputs": [],
   "source": [
    "with open(\"Coronavirus_Data.fasta\", \"rU\") as handle:\n",
    "    records = list(SeqIO.parse(handle, \"fasta\"))\n"
   ]
  },
  {
   "cell_type": "code",
   "execution_count": 241,
   "metadata": {},
   "outputs": [],
   "source": [
    "epsilon = 2.2204e-16\n",
    "\n",
    "def jukes_cantor(sequence1, sequence2):\n",
    "    '''Calculate the Jukes-Cantor distance between the two provided aligned\n",
    "    sequences.\n",
    "    '''\n",
    "    \n",
    "    # Initialization\n",
    "    difference_counter = 0\n",
    "    length_counter = 0\n",
    "    \n",
    "    # Step 1: Count differences between sequences, ignoring gaps\n",
    "    for i in range(min(len(sequence1), len(sequence2))):\n",
    "        if sequence1[i] != '-' and sequence2[i] != '-':\n",
    "            length_counter += 1\n",
    "            if sequence1[i] != sequence2[i]:\n",
    "                difference_counter += 1\n",
    "    \n",
    "    # Step 2: Calculate and return results\n",
    "    p = difference_counter / length_counter\n",
    "    jukes = -3.0/4.0 * math.log(max(epsilon, 1 - 4.0/3.0 * p))\n",
    "    return jukes"
   ]
  },
  {
   "cell_type": "code",
   "execution_count": 242,
   "metadata": {},
   "outputs": [],
   "source": [
    "align = MultipleSeqAlignment([])\n",
    "for r in records:\n",
    "    align.add_sequence(r.id, r.seq.__str__())"
   ]
  },
  {
   "cell_type": "code",
   "execution_count": 243,
   "metadata": {},
   "outputs": [],
   "source": [
    "# dist_mat = np.zeros((len(align), len(align)))\n",
    "# for i in range(len(align)):\n",
    "#     for j in range(i+1, len(align)):\n",
    "#         dist_mat[i][j] = jukes_cantor(align[i], align[j])\n",
    "\n",
    "# dist_mat += dist_mat.T\n"
   ]
  },
  {
   "cell_type": "code",
   "execution_count": 244,
   "metadata": {},
   "outputs": [
    {
     "output_type": "stream",
     "name": "stdout",
     "text": [
      "Tree(rooted=True)\n    Clade(branch_length=0, name='Inner12')\n        Clade(branch_length=0.004329156839516957, name='Inner9')\n            Clade(branch_length=0.46680902169089356, name='Porcine_PEDV')\n            Clade(branch_length=0.003363026099416744, name='Inner6')\n                Clade(branch_length=0.14113494907984891, name='Inner3')\n                    Clade(branch_length=0.3223110465116279, name='Murine_HV2')\n                    Clade(branch_length=0.3223110465116279, name='Murine_HV1')\n                Clade(branch_length=0.4634459955914768, name='Human_CoV_OC43')\n        Clade(branch_length=0.0008431449802728808, name='Inner11')\n            Clade(branch_length=0.47029503355013763, name='2019_nCoV_CDS1')\n            Clade(branch_length=0.004288148868554165, name='Inner10')\n                Clade(branch_length=0.003169945669587504, name='Inner7')\n                    Clade(branch_length=0.46600688468158347, name='Feline_CoV4')\n                    Clade(branch_length=0.46600688468158347, name='IBV3')\n                Clade(branch_length=0.011220962930560519, name='Inner8')\n                    Clade(branch_length=0.4600192509026616, name='Inner2')\n                        Clade(branch_length=0.006374501992031878, name='Palm_civet')\n                        Clade(branch_length=0.006374501992031878, name='Human_Sars_CoV')\n                    Clade(branch_length=0.008437885474083029, name='Inner5')\n                        Clade(branch_length=0.45795586742061045, name='Bat_SARS-like_coronavirus')\n                        Clade(branch_length=0.12339974122838737, name='Inner4')\n                            Clade(branch_length=0.3345561261922231, name='Porcine_HEV3')\n                            Clade(branch_length=0.3319882611885547, name='Inner1')\n                                Clade(branch_length=0.0025678650036684014, name='Bovine_CoV2')\n                                Clade(branch_length=0.0025678650036684014, name='Bovine_CoV1')\nPalm_civet\nBat_SARS-like_coronavirus\n"
     ]
    }
   ],
   "source": [
    "from Bio.Phylo.TreeConstruction import DistanceTreeConstructor\n",
    "from Bio.Phylo.TreeConstruction import DistanceCalculator\n",
    "\n",
    "constructor = DistanceTreeConstructor()\n",
    "calculator = DistanceCalculator('identity')\n",
    "dm = calculator.get_distance(align)\n",
    "upgmatree = constructor.upgma(dm)\n",
    "print(upgmatree)\n",
    "print(dm.names[np.argpartition(dm[\"Human_Sars_CoV\"], 1)[1]])\n",
    "print(dm.names[np.argpartition(dm[\"2019_nCoV_CDS1\"], 1)[1]])"
   ]
  },
  {
   "cell_type": "code",
   "execution_count": 245,
   "metadata": {},
   "outputs": [],
   "source": [
    "dist_mat = dm.matrix.copy()\n",
    "labels = dm.names.copy()\n",
    "l = len(dist_mat[-1])\n",
    "for i in range(l):\n",
    "    dist_mat[i] += [0]*(l-i-1)\n",
    "dist_mat = np.array(dist_mat)\n",
    "dist_mat += dist_mat.T"
   ]
  },
  {
   "cell_type": "code",
   "execution_count": 246,
   "metadata": {},
   "outputs": [
    {
     "output_type": "execute_result",
     "data": {
      "text/plain": [
       "        Bovine_CoV1  Bovine_CoV2  Human_CoV_OC43  Porcine_HEV3  Murine_HV1  \\\n",
       "Bov...   0.00         0.01         0.92            0.67          0.93        \n",
       "Bov...   0.01         0.00         0.92            0.67          0.93        \n",
       "Hum...   0.92         0.92         0.00            0.92          0.92        \n",
       "Por...   0.67         0.67         0.92            0.00          0.93        \n",
       "Mur...   0.93         0.93         0.92            0.93          0.00        \n",
       "Mur...   0.93         0.93         0.93            0.93          0.64        \n",
       "IBV3     0.95         0.95         0.95            0.95          0.94        \n",
       "Por...   0.94         0.94         0.93            0.94          0.93        \n",
       "Fel...   0.93         0.93         0.94            0.93          0.93        \n",
       "Hum...   0.93         0.93         0.94            0.93          0.96        \n",
       "Pal...   0.93         0.93         0.94            0.93          0.96        \n",
       "201...   0.94         0.94         0.94            0.95          0.95        \n",
       "Bat...   0.92         0.92         0.94            0.91          0.94        \n",
       "\n",
       "        Murine_HV2  IBV3  Porcine_PEDV  Feline_CoV4  Human_Sars_CoV  \\\n",
       "Bov...   0.93       0.95   0.94          0.93         0.93            \n",
       "Bov...   0.93       0.95   0.94          0.93         0.93            \n",
       "Hum...   0.93       0.95   0.93          0.94         0.94            \n",
       "Por...   0.93       0.95   0.94          0.93         0.93            \n",
       "Mur...   0.64       0.94   0.93          0.93         0.96            \n",
       "Mur...   0.00       0.95   0.94          0.94         0.95            \n",
       "IBV3     0.95       0.00   0.94          0.93         0.93            \n",
       "Por...   0.94       0.94   0.00          0.94         0.96            \n",
       "Fel...   0.94       0.93   0.94          0.00         0.94            \n",
       "Hum...   0.95       0.93   0.96          0.94         0.00            \n",
       "Pal...   0.95       0.93   0.96          0.94         0.01            \n",
       "201...   0.93       0.93   0.94          0.95         0.94            \n",
       "Bat...   0.94       0.93   0.95          0.94         0.94            \n",
       "\n",
       "        Palm_civet  2019_nCoV_CDS1  Bat_SARS-like_coronavirus  \n",
       "Bov...   0.93        0.94            0.92                      \n",
       "Bov...   0.93        0.94            0.92                      \n",
       "Hum...   0.94        0.94            0.94                      \n",
       "Por...   0.93        0.95            0.91                      \n",
       "Mur...   0.96        0.95            0.94                      \n",
       "Mur...   0.95        0.93            0.94                      \n",
       "IBV3     0.93        0.93            0.93                      \n",
       "Por...   0.96        0.94            0.95                      \n",
       "Fel...   0.94        0.95            0.94                      \n",
       "Hum...   0.01        0.94            0.94                      \n",
       "Pal...   0.00        0.94            0.94                      \n",
       "201...   0.94        0.00            0.93                      \n",
       "Bat...   0.94        0.93            0.00                      "
      ],
      "text/html": "<div>\n<style scoped>\n    .dataframe tbody tr th:only-of-type {\n        vertical-align: middle;\n    }\n\n    .dataframe tbody tr th {\n        vertical-align: top;\n    }\n\n    .dataframe thead th {\n        text-align: right;\n    }\n</style>\n<table border=\"1\" class=\"dataframe\">\n  <thead>\n    <tr style=\"text-align: right;\">\n      <th></th>\n      <th>Bovine_CoV1</th>\n      <th>Bovine_CoV2</th>\n      <th>Human_CoV_OC43</th>\n      <th>Porcine_HEV3</th>\n      <th>Murine_HV1</th>\n      <th>Murine_HV2</th>\n      <th>IBV3</th>\n      <th>Porcine_PEDV</th>\n      <th>Feline_CoV4</th>\n      <th>Human_Sars_CoV</th>\n      <th>Palm_civet</th>\n      <th>2019_nCoV_CDS1</th>\n      <th>Bat_SARS-like_coronavirus</th>\n    </tr>\n  </thead>\n  <tbody>\n    <tr>\n      <th>Bovine_CoV1</th>\n      <td>0.00</td>\n      <td>0.01</td>\n      <td>0.92</td>\n      <td>0.67</td>\n      <td>0.93</td>\n      <td>0.93</td>\n      <td>0.95</td>\n      <td>0.94</td>\n      <td>0.93</td>\n      <td>0.93</td>\n      <td>0.93</td>\n      <td>0.94</td>\n      <td>0.92</td>\n    </tr>\n    <tr>\n      <th>Bovine_CoV2</th>\n      <td>0.01</td>\n      <td>0.00</td>\n      <td>0.92</td>\n      <td>0.67</td>\n      <td>0.93</td>\n      <td>0.93</td>\n      <td>0.95</td>\n      <td>0.94</td>\n      <td>0.93</td>\n      <td>0.93</td>\n      <td>0.93</td>\n      <td>0.94</td>\n      <td>0.92</td>\n    </tr>\n    <tr>\n      <th>Human_CoV_OC43</th>\n      <td>0.92</td>\n      <td>0.92</td>\n      <td>0.00</td>\n      <td>0.92</td>\n      <td>0.92</td>\n      <td>0.93</td>\n      <td>0.95</td>\n      <td>0.93</td>\n      <td>0.94</td>\n      <td>0.94</td>\n      <td>0.94</td>\n      <td>0.94</td>\n      <td>0.94</td>\n    </tr>\n    <tr>\n      <th>Porcine_HEV3</th>\n      <td>0.67</td>\n      <td>0.67</td>\n      <td>0.92</td>\n      <td>0.00</td>\n      <td>0.93</td>\n      <td>0.93</td>\n      <td>0.95</td>\n      <td>0.94</td>\n      <td>0.93</td>\n      <td>0.93</td>\n      <td>0.93</td>\n      <td>0.95</td>\n      <td>0.91</td>\n    </tr>\n    <tr>\n      <th>Murine_HV1</th>\n      <td>0.93</td>\n      <td>0.93</td>\n      <td>0.92</td>\n      <td>0.93</td>\n      <td>0.00</td>\n      <td>0.64</td>\n      <td>0.94</td>\n      <td>0.93</td>\n      <td>0.93</td>\n      <td>0.96</td>\n      <td>0.96</td>\n      <td>0.95</td>\n      <td>0.94</td>\n    </tr>\n    <tr>\n      <th>Murine_HV2</th>\n      <td>0.93</td>\n      <td>0.93</td>\n      <td>0.93</td>\n      <td>0.93</td>\n      <td>0.64</td>\n      <td>0.00</td>\n      <td>0.95</td>\n      <td>0.94</td>\n      <td>0.94</td>\n      <td>0.95</td>\n      <td>0.95</td>\n      <td>0.93</td>\n      <td>0.94</td>\n    </tr>\n    <tr>\n      <th>IBV3</th>\n      <td>0.95</td>\n      <td>0.95</td>\n      <td>0.95</td>\n      <td>0.95</td>\n      <td>0.94</td>\n      <td>0.95</td>\n      <td>0.00</td>\n      <td>0.94</td>\n      <td>0.93</td>\n      <td>0.93</td>\n      <td>0.93</td>\n      <td>0.93</td>\n      <td>0.93</td>\n    </tr>\n    <tr>\n      <th>Porcine_PEDV</th>\n      <td>0.94</td>\n      <td>0.94</td>\n      <td>0.93</td>\n      <td>0.94</td>\n      <td>0.93</td>\n      <td>0.94</td>\n      <td>0.94</td>\n      <td>0.00</td>\n      <td>0.94</td>\n      <td>0.96</td>\n      <td>0.96</td>\n      <td>0.94</td>\n      <td>0.95</td>\n    </tr>\n    <tr>\n      <th>Feline_CoV4</th>\n      <td>0.93</td>\n      <td>0.93</td>\n      <td>0.94</td>\n      <td>0.93</td>\n      <td>0.93</td>\n      <td>0.94</td>\n      <td>0.93</td>\n      <td>0.94</td>\n      <td>0.00</td>\n      <td>0.94</td>\n      <td>0.94</td>\n      <td>0.95</td>\n      <td>0.94</td>\n    </tr>\n    <tr>\n      <th>Human_Sars_CoV</th>\n      <td>0.93</td>\n      <td>0.93</td>\n      <td>0.94</td>\n      <td>0.93</td>\n      <td>0.96</td>\n      <td>0.95</td>\n      <td>0.93</td>\n      <td>0.96</td>\n      <td>0.94</td>\n      <td>0.00</td>\n      <td>0.01</td>\n      <td>0.94</td>\n      <td>0.94</td>\n    </tr>\n    <tr>\n      <th>Palm_civet</th>\n      <td>0.93</td>\n      <td>0.93</td>\n      <td>0.94</td>\n      <td>0.93</td>\n      <td>0.96</td>\n      <td>0.95</td>\n      <td>0.93</td>\n      <td>0.96</td>\n      <td>0.94</td>\n      <td>0.01</td>\n      <td>0.00</td>\n      <td>0.94</td>\n      <td>0.94</td>\n    </tr>\n    <tr>\n      <th>2019_nCoV_CDS1</th>\n      <td>0.94</td>\n      <td>0.94</td>\n      <td>0.94</td>\n      <td>0.95</td>\n      <td>0.95</td>\n      <td>0.93</td>\n      <td>0.93</td>\n      <td>0.94</td>\n      <td>0.95</td>\n      <td>0.94</td>\n      <td>0.94</td>\n      <td>0.00</td>\n      <td>0.93</td>\n    </tr>\n    <tr>\n      <th>Bat_SARS-like_coronavirus</th>\n      <td>0.92</td>\n      <td>0.92</td>\n      <td>0.94</td>\n      <td>0.91</td>\n      <td>0.94</td>\n      <td>0.94</td>\n      <td>0.93</td>\n      <td>0.95</td>\n      <td>0.94</td>\n      <td>0.94</td>\n      <td>0.94</td>\n      <td>0.93</td>\n      <td>0.00</td>\n    </tr>\n  </tbody>\n</table>\n</div>"
     },
     "metadata": {},
     "execution_count": 246
    }
   ],
   "source": [
    "import pandas as pd\n",
    "labels = [r.id for r in align]\n",
    "df = pd.DataFrame(dist_mat, columns=labels, index=labels)\n",
    "pd.options.display.float_format = \"{:,.2f}\".format\n",
    "df"
   ]
  },
  {
   "cell_type": "code",
   "execution_count": 247,
   "metadata": {},
   "outputs": [
    {
     "output_type": "stream",
     "name": "stdout",
     "text": [
      "Palm_civet is closest to Human_Sars_CoV\n"
     ]
    }
   ],
   "source": [
    "target = \"Human_Sars_CoV\"\n",
    "t = dist_mat[labels.index(target),:]\n",
    "closest = labels[np.argpartition(t, 1)[1]]\n",
    "print(f\"{closest} is closest to {target}\")"
   ]
  },
  {
   "cell_type": "code",
   "execution_count": 248,
   "metadata": {},
   "outputs": [
    {
     "output_type": "stream",
     "name": "stdout",
     "text": [
      "Bat_SARS-like_coronavirus is closest to 2019_nCoV_CDS1\n"
     ]
    }
   ],
   "source": [
    "target = \"2019_nCoV_CDS1\"\n",
    "t = dist_mat[labels.index(target),:]\n",
    "closest = labels[np.argpartition(t, 1)[1]]\n",
    "print(f\"{closest} is closest to {target}\")"
   ]
  }
 ]
}