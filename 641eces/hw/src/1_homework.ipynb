{
 "cells": [
  {
   "cell_type": "markdown",
   "metadata": {},
   "source": [
    "# Tai Duc Nguyen - ECES 641 - Homework 1"
   ]
  },
  {
   "cell_type": "markdown",
   "metadata": {},
   "source": [
    "## Table of content:\n",
    "\n",
    "1. [Problem 1.a](#Problem-1.a)\n",
    "2. [Problem 1.b&c](#Problem-1.b&c)\n",
    "3. [Problem 1.d](#Problem-1.d)\n",
    "4. [Problem 2 and 3](#Problem-2-&-3)\n",
    "5. [Problem 4.a](#Problem-4.a)\n",
    "6. [Problem 4.b](#Problem-4.b)\n",
    "7. [Problem 4.c](#Problem-4.c)"
   ]
  },
  {
   "cell_type": "code",
   "execution_count": 1,
   "metadata": {},
   "outputs": [],
   "source": [
    "import itertools\n",
    "import random\n",
    "from tqdm.auto import tqdm\n",
    "from Bio import SeqIO\n",
    "from Bio.SeqUtils import GC"
   ]
  },
  {
   "cell_type": "code",
   "execution_count": 2,
   "metadata": {},
   "outputs": [],
   "source": [
    "with open(\"AF1226.fasta\", \"r\") as handle:\n",
    "    records = list(SeqIO.parse(handle, \"fasta\"))\n",
    "    aa_seq = records[0].seq.__str__()"
   ]
  },
  {
   "cell_type": "markdown",
   "metadata": {},
   "source": [
    "## Problem 1.a"
   ]
  },
  {
   "cell_type": "code",
   "execution_count": 3,
   "metadata": {},
   "outputs": [
    {
     "name": "stdout",
     "output_type": "stream",
     "text": [
      "\n",
      "## Problem 1 part a ##\n",
      "\n",
      "HARVARD\n"
     ]
    }
   ],
   "source": [
    "print(\"\\n## Problem 1 part a ##\\n\")\n",
    "aa_sub_seq = aa_seq[140:147]\n",
    "print(aa_sub_seq)"
   ]
  },
  {
   "cell_type": "code",
   "execution_count": 4,
   "metadata": {},
   "outputs": [],
   "source": [
    "std_map = {\n",
    "    'A': ['GCT','GCC','GCA','GCG'],\n",
    "    'R': ['CGT','CGC','CGA','CGG','AGA','AGG'],\n",
    "    'N': ['AAT','AAC'],\n",
    "    'D': ['GAT','GAC'],\n",
    "    'C': ['TGT','TGC'],\n",
    "    'Q': ['CAA','CAG'],\n",
    "    'E': ['GAA','GAG'],\n",
    "    'G': ['GGT','GGC'  'GGA'  'GGG'],\n",
    "    'H': ['CAT','CAC'],\n",
    "    'I': ['ATT','ATC','ATA'],\n",
    "    'L': ['TTA','TTG','CTT','CTC','CTA','CTG'],\n",
    "    'K': ['AAA','AAG'],\n",
    "    'M': ['ATG'],\n",
    "    'F': ['TTT','TTC'],\n",
    "    'P': ['CCT','CCC','CCA','CCG'],\n",
    "    'S': ['TCT','TCC','TCA','TCG','AGT','AGC'],\n",
    "    'T': ['ACT','ACC','ACA','ACG'],\n",
    "    'W': ['TGG'],\n",
    "    'Y': ['TAT','TAC'],\n",
    "    'V': ['GTT','GTC','GTA','GTG'],\n",
    "    'Stops': ['TAA','TAG','TGA'],\n",
    "    'Starts': ['TTG','CTG','ATG'],\n",
    "}"
   ]
  },
  {
   "cell_type": "code",
   "execution_count": 5,
   "metadata": {
    "tags": []
   },
   "outputs": [],
   "source": [
    "def aa_to_nuc(aa_seq):\n",
    "    aa_to_nuc_list = []\n",
    "    for aa in aa_seq:\n",
    "        aa_to_nuc_list.append(std_map[aa])\n",
    "\n",
    "    nuc_seqs = list(itertools.product(*aa_to_nuc_list))\n",
    "    nuc_seqs = [''.join(list(seq)) for seq in nuc_seqs]\n",
    "    return nuc_seqs"
   ]
  },
  {
   "cell_type": "markdown",
   "metadata": {},
   "source": [
    "## Problem 1.b&c"
   ]
  },
  {
   "cell_type": "code",
   "execution_count": 6,
   "metadata": {
    "scrolled": true,
    "tags": []
   },
   "outputs": [
    {
     "name": "stdout",
     "output_type": "stream",
     "text": [
      "\n",
      "## Problem 1 part b & c ##\n",
      "\n",
      "9216 nucleotide seqs can give rise to HARVARD.\n",
      "Printing the first 50 seqs:\n",
      "CATGCTCGTGTTGCTCGTGAT\n",
      "CATGCTCGTGTTGCTCGTGAC\n",
      "CATGCTCGTGTTGCTCGCGAT\n",
      "CATGCTCGTGTTGCTCGCGAC\n",
      "CATGCTCGTGTTGCTCGAGAT\n",
      "CATGCTCGTGTTGCTCGAGAC\n",
      "CATGCTCGTGTTGCTCGGGAT\n",
      "CATGCTCGTGTTGCTCGGGAC\n",
      "CATGCTCGTGTTGCTAGAGAT\n",
      "CATGCTCGTGTTGCTAGAGAC\n",
      "CATGCTCGTGTTGCTAGGGAT\n",
      "CATGCTCGTGTTGCTAGGGAC\n",
      "CATGCTCGTGTTGCCCGTGAT\n",
      "CATGCTCGTGTTGCCCGTGAC\n",
      "CATGCTCGTGTTGCCCGCGAT\n",
      "CATGCTCGTGTTGCCCGCGAC\n",
      "CATGCTCGTGTTGCCCGAGAT\n",
      "CATGCTCGTGTTGCCCGAGAC\n",
      "CATGCTCGTGTTGCCCGGGAT\n",
      "CATGCTCGTGTTGCCCGGGAC\n",
      "CATGCTCGTGTTGCCAGAGAT\n",
      "CATGCTCGTGTTGCCAGAGAC\n",
      "CATGCTCGTGTTGCCAGGGAT\n",
      "CATGCTCGTGTTGCCAGGGAC\n",
      "CATGCTCGTGTTGCACGTGAT\n",
      "CATGCTCGTGTTGCACGTGAC\n",
      "CATGCTCGTGTTGCACGCGAT\n",
      "CATGCTCGTGTTGCACGCGAC\n",
      "CATGCTCGTGTTGCACGAGAT\n",
      "CATGCTCGTGTTGCACGAGAC\n",
      "CATGCTCGTGTTGCACGGGAT\n",
      "CATGCTCGTGTTGCACGGGAC\n",
      "CATGCTCGTGTTGCAAGAGAT\n",
      "CATGCTCGTGTTGCAAGAGAC\n",
      "CATGCTCGTGTTGCAAGGGAT\n",
      "CATGCTCGTGTTGCAAGGGAC\n",
      "CATGCTCGTGTTGCGCGTGAT\n",
      "CATGCTCGTGTTGCGCGTGAC\n",
      "CATGCTCGTGTTGCGCGCGAT\n",
      "CATGCTCGTGTTGCGCGCGAC\n",
      "CATGCTCGTGTTGCGCGAGAT\n",
      "CATGCTCGTGTTGCGCGAGAC\n",
      "CATGCTCGTGTTGCGCGGGAT\n",
      "CATGCTCGTGTTGCGCGGGAC\n",
      "CATGCTCGTGTTGCGAGAGAT\n",
      "CATGCTCGTGTTGCGAGAGAC\n",
      "CATGCTCGTGTTGCGAGGGAT\n",
      "CATGCTCGTGTTGCGAGGGAC\n",
      "CATGCTCGTGTCGCTCGTGAT\n",
      "CATGCTCGTGTCGCTCGTGAC\n"
     ]
    }
   ],
   "source": [
    "nuc_seqs = aa_to_nuc(aa_sub_seq)\n",
    "print(\"\\n## Problem 1 part b & c ##\\n\")\n",
    "print(f\"{len(nuc_seqs)} nucleotide seqs can give rise to {aa_sub_seq}.\")\n",
    "print(\"Printing the first 50 seqs:\")\n",
    "print('\\n'.join(nuc_seqs[:50]))"
   ]
  },
  {
   "cell_type": "code",
   "execution_count": 7,
   "metadata": {},
   "outputs": [],
   "source": [
    "def nt2aa_cgbiased(aa_seq):\n",
    "    nuc_seqs = aa_to_nuc(aa_seq)\n",
    "    cg_cont = [GC(seq) for seq in nuc_seqs]\n",
    "    sorted_cg_cont = sorted(list(zip(nuc_seqs, cg_cont)), key=lambda x: x[1], reverse=True)\n",
    "    highest_cg = [s for s in sorted_cg_cont if s[1] == sorted_cg_cont[0][1]]\n",
    "    return highest_cg"
   ]
  },
  {
   "cell_type": "markdown",
   "metadata": {},
   "source": [
    "## Problem 1.d"
   ]
  },
  {
   "cell_type": "code",
   "execution_count": 8,
   "metadata": {
    "scrolled": true
   },
   "outputs": [
    {
     "name": "stdout",
     "output_type": "stream",
     "text": [
      "\n",
      "## Problem 1 part d ##\n",
      "\n",
      "The highest cg content is: 85.71428571428571. One of the sequence with this cg content is:\n",
      "CACGCCCGGGTCGCCCGCGAC\n"
     ]
    }
   ],
   "source": [
    "highest_cg = nt2aa_cgbiased(aa_sub_seq)\n",
    "print(\"\\n## Problem 1 part d ##\\n\")\n",
    "print(f\"The highest cg content is: {highest_cg[0][1]}. One of the sequence with this cg content is:\\n{random.choice(highest_cg)[0]}\")"
   ]
  },
  {
   "cell_type": "markdown",
   "metadata": {},
   "source": [
    "## Problem 4.a"
   ]
  },
  {
   "cell_type": "code",
   "execution_count": 9,
   "metadata": {},
   "outputs": [
    {
     "name": "stdout",
     "output_type": "stream",
     "text": [
      "\n",
      "## Problem 4 part a ##\n",
      "\n",
      "In MATLAB R2020b, I tried to:\n",
      "1. Import 2 sequences:\n",
      "seq1 = fastaread('/home/bigboy/2-coursework/641eces/hw/src/NC_002695.fasta');\n",
      "seq2 = fastaread('/home/bigboy/2-coursework/641eces/hw/src/NC_002655.fasta');\n",
      "2. Run global sequence alignment with:\n",
      "[score, alignment] = nwalign(seq1, seq2)\n",
      "\n",
      "However, MATLAB returns an error saying:\n",
      "`Requested 5528446x5498579 (28310.9GB) array exceeds maximum array size preference. Creation of arrays greater than this limit may take a long time and cause MATLAB to become unresponsive.`\n",
      "\n",
      "This is true because the two sequences are ~5.5 million nucleotides long. Creating a score matrix of ~5.5 mil by ~5.5 mil is very expensive.\n",
      "\n",
      "Using BLAST, the result of the 2 sequences is:\n",
      "\n",
      "Max Score: 9.921e+05 bits(537267)\n",
      "Expect: 0.0\n",
      "Query Cover: 99%\n",
      "Identities: 537547/537763(99%)\n",
      "Gaps: 22/537763(0%)\n",
      "\n",
      "These two sequences are very similar and closely related.\n",
      "\n"
     ]
    }
   ],
   "source": [
    "print(\"\\n## Problem 4 part a ##\\n\")\n",
    "\n",
    "print('''In MATLAB R2020b, I tried to:\n",
    "1. Import 2 sequences:\n",
    "seq1 = fastaread('/home/bigboy/2-coursework/641eces/hw/src/NC_002695.fasta');\n",
    "seq2 = fastaread('/home/bigboy/2-coursework/641eces/hw/src/NC_002655.fasta');\n",
    "2. Run global sequence alignment with:\n",
    "[score, alignment] = nwalign(seq1, seq2)\n",
    "\n",
    "However, MATLAB returns an error saying:\n",
    "`Requested 5528446x5498579 (28310.9GB) array exceeds maximum array size preference. Creation of arrays greater than this limit may take a long time and cause MATLAB to become unresponsive.`\n",
    "\n",
    "This is true because the two sequences are ~5.5 million nucleotides long. Creating a score matrix of ~5.5 mil by ~5.5 mil is very expensive.\n",
    "\n",
    "Using BLAST, the result of the 2 sequences is:\n",
    "\n",
    "Max Score: 9.921e+05 bits(537267)\n",
    "Expect: 0.0\n",
    "Query Cover: 99%\n",
    "Identities: 537547/537763(99%)\n",
    "Gaps: 22/537763(0%)\n",
    "\n",
    "These two sequences are very similar and closely related.\n",
    "''')"
   ]
  },
  {
   "cell_type": "code",
   "execution_count": 10,
   "metadata": {},
   "outputs": [],
   "source": [
    "import matplotlib.pyplot as plt\n",
    "from math import ceil\n",
    "\n",
    "from Bio import GenBank\n",
    "from Bio import Align"
   ]
  },
  {
   "cell_type": "code",
   "execution_count": 11,
   "metadata": {},
   "outputs": [],
   "source": [
    "with open(\"gene1.gb\") as handle1, open(\"gene2.gb\") as handle2:\n",
    "    rec1 = list(GenBank.parse(handle1))\n",
    "    rec2 = list(GenBank.parse(handle2))\n"
   ]
  },
  {
   "cell_type": "code",
   "execution_count": 12,
   "metadata": {},
   "outputs": [],
   "source": [
    "def get_aa_translation(rec):\n",
    "    for feature in rec.features:\n",
    "        if 'CDS' in feature.key:\n",
    "            for qual in feature.qualifiers:\n",
    "                if 'translation' in qual.key:\n",
    "                    return qual.value.strip('\"')"
   ]
  },
  {
   "cell_type": "code",
   "execution_count": 13,
   "metadata": {},
   "outputs": [],
   "source": [
    "gene1 = (rec1[0].sequence, get_aa_translation(rec1[0]))\n",
    "gene2 = (rec2[0].sequence, get_aa_translation(rec2[0]))"
   ]
  },
  {
   "cell_type": "code",
   "execution_count": 14,
   "metadata": {},
   "outputs": [],
   "source": [
    "aligner = Align.PairwiseAligner()\n",
    "aligner.mode = 'global'\n",
    "aligner.match_score = 1\n",
    "aligner.mismatch_score = -1"
   ]
  },
  {
   "cell_type": "code",
   "execution_count": 15,
   "metadata": {},
   "outputs": [],
   "source": [
    "def get_aligned_seqs_and_plot_hist(alignment, bin_width=20):\n",
    "    max_alignment_score = max(len(alignment.target), len(alignment.query))*aligner.match_score\n",
    "    print(f\"Alignment score: {alignment.score} out of max={max_alignment_score} ({alignment.score/max_alignment_score*100:.2f}%)\")\n",
    "\n",
    "    aligned_str = f\"{alignment}\"\n",
    "    t = aligned_str.index('|') - 1\n",
    "    gene1_nuc_aligned = aligned_str[0:t]\n",
    "    gene2_nuc_aligned = aligned_str[t*2+2:-1]\n",
    "\n",
    "    assert(len(gene1_nuc_aligned) == len(gene2_nuc_aligned))\n",
    "\n",
    "    print(aligned_str)\n",
    "\n",
    "    dissim = []\n",
    "    for i in range(len(gene1_nuc_aligned)):\n",
    "        if gene1_nuc_aligned[i] != gene2_nuc_aligned[i]:\n",
    "            # print(f\"pos {i}, s1[i]={gene1_nuc_aligned[i]}, s2[i]={gene2_nuc_aligned[i]}\")\n",
    "            dissim.append(i)\n",
    "\n",
    "    plt.figure(figsize=(10,7))\n",
    "    n, bins, _ = plt.hist(dissim, ceil(len(gene1_nuc_aligned)/bin_width))\n",
    "    plt.xlabel('Aligned Sequence index position')\n",
    "    plt.ylabel('Number of dissimilarities')\n",
    "    plt.grid(True)\n",
    "    plt.show()\n",
    "\n",
    "    return n, bins"
   ]
  },
  {
   "cell_type": "markdown",
   "metadata": {},
   "source": [
    "## Problem 4.b"
   ]
  },
  {
   "cell_type": "code",
   "execution_count": 16,
   "metadata": {},
   "outputs": [
    {
     "name": "stdout",
     "output_type": "stream",
     "text": [
      "\n",
      "## Problem 4 part b ##\n",
      "\n",
      "Alignment score: 1303.0 out of max=1377.0 (94.63%)\n",
      "ATGTTACCTTCTCAATCCCCTGCAATTTTTACCGTTAGCCGCCTGAATCAAACAG-TTCGTCTGCTGCTTGAGCATGAGATGGGGCAGGTGTGGATCAGCGGCGAAATCTCTAATTTTACACAACCAGCCTCCGGTCACTGGTACTTTACGCTTAAAGACGATACCGCGCAGGTGCGCTGTGCGATGTTCCG-AAACAGCAACCGCCGGGTCACCTTCCGCCCACAGCACGGGCAACAGGTTTTAGTTCGCGCCAATATTACG-CTCTACGAGCCGCGCGGT-GACT-A-CCAGA-TTATCGTCGAAAGTATGCAGCCTG-CCGGTGAAGGG-TTGCTGCAACA-AAAA-TACGAACAGCTTAAAGCGAAA-TTGCAGGCTGAAGGTCT-GTTCGAT-CA-GCAATACAAAAAAA-CACTTCCC-TCCCCTGCGCATTGCGTC-GGTGTGATCACCTCAAAAACCGGTGCTGCGCTACATGATATTTTGCATGTGTTAAAACGTCGCGATCCTTCTCTGCCGGTGATCATCTAC-CCCACCGCCGTT-CAGGGCG-ATGAC-GCGCCGGGGCAAATT-GTTCGC-GCCATTGAG-CTGGCGAATCA-GCG-AAACGAGTGC-GACGTGTT-AATCGTC-GGGCGCG-G-CGGC-GGTTCGCTGGAAGATTTG-TGGAGTTTTAAC-GAC-GAACGCGTAG---CGCGGGCGATTTTTGCCAGCCTC--ATTCCGG-TAGT-AAGT-GCCGTCGGGCATGAAACCGATGTGACGA-TTGCC-GA-TTTTGTTGCTGAT-TTG-CGTGCGCCAACGCCGTCT-GCCGCCGCTGAAGTAG-TGAGCCGC-AATCAA-CAGGAG--TTA-CTG-CGTCAGGTGCAG-TCTG-CGCA-G-CAG-CG-CCTCG-A-AATGGC-AATGGA-TTATTATCTCGCCAA-CCGCACGCGT-CG-TTTTACGCAGATCCATCATCGC--TTACAGCAACAGCATCCGCAGCTCCGGCTGGCACGTC-AGCAAACTATGCTCGAACGTCTGCAAAAGCGGATGAGCTTTGCGCTGGAGAATCAGCTTAAACGCGCGGGTCAGCAACAGCAGCGATTAACACGGCAACTCGTCCAGCAAAATCCGCAGTCGCGTATTCATCGCGCGCAAACGCGCATTCAGCAACTGGAATATCGTTTAGCAGAAACCCTGCGCGCACAGCTTAGCGCCACGCGTGAACGTTTCGGTAATGCAGTAACACACCTCGAAGCCGTAAGCCCACTGTCAACGCTGGCGCGCGGTTATAGCGTCACCAGCGCCGCTGATGGCGCGC-TGTTAAAACAGGTTAAGCAAGTGAAAGTGGGTGAGACACTGACCACACGACTGGGAGATGGTGTGGTGATTAGTGAAGTCAGCGCCGTAACAAAAACCCGCAAATCACGTAAAAAAACGTCTAATCCGTAG\n",
      "|||||||||||||||||||||||||||||||||||||||||||||||||||||-|-||||||||||||||||||||||||||||||||||||||||||||||||||||||||||||||||||||||||||||||||||||||||||||||||||||||||||||||||||||||||||||||||||||||||-||-||||||||||||||||||||||||||||||||||||||||||||||||||||||||||||||||||--|||||||||||||||||--||-|-|-|-|-|-||||||||||||||||||||||-|-||||||||||--|||||||||||-||---||||||||||||||||||||--|||||||||||||||-|-||||||--|--|||||||||||||--||||-|||-|||||||||||||||||--||||||||||||||||||||||||||||||||||||||||||||||||||||||||||||||||||||||||||||||||||||||||||-||-||||||||--|||||-|-||||--||||||||||||||--|||||--||||||||--|||||||||-|-|||-||-||||||--||||||||-|-||||--||-|-||-|-|||--|||||||||||||||||--|||||||||||--||--||--||||-|---|||||||||||||||||||--||--||||||--||||-|-|--||||||||||||||||||||||||||-|-||||--||-|||-|||||||||-|---|||||||||||||||||--||||||||||||||-|-|||||||--|||||--||--||--||--||--|||||||||||--||-|-|-|--|-||--||-|-|-|-|-|-||||-|-||||-|-|||||||||||||-|-|||||||--||-|||-||||||||||||||-|-|--|||||||||||||||||||||||||||||||||||-|-||||||||||||||||||||||||||||||||||||||||||||||||||||||||||||||||||||||||||||||||||||||||||||||||||||||||||||||||||||||||||||||||||||||||||||||||||||||||||||||||||||||||||||||||||||||||||||||||||||||||||||||||||||||||||||||||||||||||||||||||||||||||||||||||||||||||||||||||||||||||||||||||||||||||||||||--|||||||||||||||||||||||||||||||||||||||||||||||||||||||||||||||||||||||||||||||||||||||||||||||||||||||||||||||||||||||||||||||||||\n",
      "ATGTTACCTTCTCAATCCCCTGCAATTTTTACCGTTAGCCGCCTGAATCAAAC-GGTTCGTCTGCTGCTTGAGCATGAGATGGGGCAGGTGTGGATCAGCGGCGAAATCTCTAATTTTACACAACCAGCCTCCGGTCACTGGTACTTTACGCTTAAAGACGATACCGCGCAGGTGCGCTGTGCGATGTTCCGCAA-CAGCAACCGCCGGGTCACCTTCCGCCCACAGCACGGGCAACAGGTTTTAGTTCGCGCCAATATTAC-ACTCTACGAGCCGCGCGG-CGA-TTATC-A-AATTATCGTCGAAAGTATGCAGCC-GGCCGGTGAAGG-ATTGCTGCAACAGAA--GTACGAACAGCTTAAAGCGAA-GTTGCAGGCTGAAGGT-TTGTTCGA-GC-TGCAATACAAAAAA-TCACT-CCCCTCCCCTGCGCATTGCGT-TGGTGTGATCACCTCAAAAACCGGTGCTGCGCTACATGATATTTTGCATGTGTTAAAACGTCGCGATCCTTCTCTGCCGGTGATCATCTACTCC-ACCGCCGT-ACAGGG-GGATGA-TGCGCCGGGGCAAAT-CGTTCG-TGCCATTGA-ACTGGCGAAT-AAGCGCAA-CGAGTG-TGACGTGTTGA-TCGT-TGG-C-CGTGGCGG-TGGTTCGCTGGAAGATTT-ATGGAGTTTTAA-TGA-TGA--GCGT-GTGGCGCGGGCGATTTTTGCCAG--TCGCATTCCG-ATAGTCA-G-CGCCGTCGGGCATGAAACCGATGTGAC-AATTGC-TGACTTT-GTTGCTGATCT--ACGTGCGCCAACGCCGTC-AGCCGCCGCTGAAGT-GGTGAGCCG-TAATCA-GCA--AGAATT-GCT-ACGTCAGGTGCA-ATC-GAC-C-CGTCA-ACGGC-T-GGAGA-TGGCGA-TGGACT-ATTATCTCGCCAATC-GCACGCG-GCGCTTT-ACGCAGATCCATCA-C-CGATTACAGCAACAGCATCCGCAGCTCCGGCTGGCACG-CCAGCAAACTATGCTCGAACGTCTGCAAAAGCGGATGAGCTTTGCGCTGGAGAATCAGCTTAAACGCGCGGGTCAGCAACAGCAGCGATTAACACGGCAACTCGTCCAGCAAAATCCGCAGTCGCGTATTCATCGCGCGCAAACGCGCATTCAGCAACTGGAATATCGTTTAGCAGAAACCCTGCGCGCACAGCTTAGCGCCACGCGTGAACGTTTCGGTAATGCAGTAACACACCTCGAAGCCGTAAGCCCACTGTCAACGCTGGCGCGCGGTTATAGCGTCACCAGCGCCGCTGATGGCGCG-GTGTTAAAACAGGTTAAGCAAGTGAAAGTGGGTGAGACACTGACCACACGACTGGGAGATGGTGTGGTGATTAGTGAAGTCAGCGCCGTAACAAAAACCCGCAAATCACGTAAAAAAACGTCTAATCCGTAG\n",
      "\n"
     ]
    },
    {
     "data": {
      "image/png": "[encoded data removed]",
      "text/plain": [
       "<Figure size 720x504 with 1 Axes>"
      ]
     },
     "metadata": {
      "needs_background": "light"
     },
     "output_type": "display_data"
    }
   ],
   "source": [
    "print(\"\\n## Problem 4 part b ##\\n\")\n",
    "alignments = aligner.align(gene1[0], gene2[0])\n",
    "n, bins = get_aligned_seqs_and_plot_hist(alignments[0], bin_width=21)"
   ]
  },
  {
   "cell_type": "code",
   "execution_count": 17,
   "metadata": {},
   "outputs": [
    {
     "name": "stdout",
     "output_type": "stream",
     "text": [
      "Showing the top ten region of dense dissimilarity (number of dissimilars, start idx pos, end idx pos):\n",
      "(10.0, 884.9428571428572, 903.0285714285715)\n",
      "(8.0, 686.0, 704.0857142857143)\n",
      "(8.0, 848.7714285714286, 866.8571428571429)\n",
      "(7.0, 631.7428571428571, 649.8285714285714)\n",
      "(6.0, 722.1714285714286, 740.2571428571429)\n",
      "(6.0, 903.0285714285715, 921.1142857142856)\n",
      "(5.0, 939.1999999999999, 957.2857142857142)\n",
      "(4.0, 270.0285714285714, 288.1142857142857)\n",
      "(4.0, 288.1142857142857, 306.2)\n",
      "(4.0, 342.37142857142857, 360.45714285714286)\n"
     ]
    }
   ],
   "source": [
    "sorted_bins = sorted(list(zip(n, bins[0:-1], bins[1:])), key=lambda x: x[0], reverse=True)\n",
    "print(\"Showing the top ten region of dense dissimilarity (number of dissimilars, start idx pos, end idx pos):\")\n",
    "for b in sorted_bins[:10]:\n",
    "    print(b)"
   ]
  },
  {
   "cell_type": "markdown",
   "metadata": {},
   "source": [
    "## Problem 4.c"
   ]
  },
  {
   "cell_type": "code",
   "execution_count": 18,
   "metadata": {
    "tags": []
   },
   "outputs": [
    {
     "name": "stdout",
     "output_type": "stream",
     "text": [
      "\n",
      "## Problem 4 part c ##\n",
      "\n",
      "Alignment score: 448.0 out of max=458.0 (97.82%)\n",
      "MLPSQSPAIFTVSRLNQTVRLLLEHEMGQVWISGEISNFTQPASGHWYFTLKDDTAQVRCAMFRNSNRRVTFRPQHGQQVLVRANITLYEPRGDYQIIVESMQPAGEGLLQQKYEQLKAKLQAEGLFD--QQYKKT-LPSPAHCVGVITSKTGAALHDILHVLKRRDPSLPVIIYP-TAVQGDDAPGQIVRAIELANQ-RNECDVLIVGRGGGSLEDLWSFNDERVARAIFASL-IP-VVSAVGHETDVTIADFVADLRAPTPSAAAEVVSRNQQELLRQVQSA--QQRLEMAMDYYLANRTRRFTQIHHRLQQQHPQLRLARQQTMLERLQKRMSFALENQLKRAGQQQQRLTRQLVQQNPQSRIHRAQTRIQQLEYRLAETLRAQLSATRERFGNAVTHLEAVSPLSTLARGYSVTSAADGA-LLKQVKQVKVGETLTTRLGDGVVISEVSAVTKTRKSRKKTSNP\n",
      "|||||||||||||||||||||||||||||||||||||||||||||||||||||||||||||||||||||||||||||||||||||||||||||||||||||||||||||||||||||||||||||||---|-|||--||||||||||||||||||||||||||||||||||||||--||||||||||||||||||||--||||||||||||||||||||||||||||||||||--||-|-|||||||||||||||||||||||||||||||||||||||||||---|-||||||||||||||||||||||||||||||||||||||||||||||||||||||||||||||||||||||||||||||||||||||||||||||||||||||||||||||||||||||||||||||||||||||||-|-|||||||||||||||||||||||||||||||||||||||||\n",
      "MLPSQSPAIFTVSRLNQTVRLLLEHEMGQVWISGEISNFTQPASGHWYFTLKDDTAQVRCAMFRNSNRRVTFRPQHGQQVLVRANITLYEPRGDYQIIVESMQPAGEGLLQQKYEQLKAKLQAEGLF-ELQ-YKK-SLPSPAHCVGVITSKTGAALHDILHVLKRRDPSLPVIIY-STAVQGDDAPGQIVRAIELAN-KRNECDVLIVGRGGGSLEDLWSFNDERVARAIFAS-RIPIV-SAVGHETDVTIADFVADLRAPTPSAAAEVVSRNQQELLRQVQS-TRQ-RLEMAMDYYLANRTRRFTQIHHRLQQQHPQLRLARQQTMLERLQKRMSFALENQLKRAGQQQQRLTRQLVQQNPQSRIHRAQTRIQQLEYRLAETLRAQLSATRERFGNAVTHLEAVSPLSTLARGYSVTSAADGAVL-KQVKQVKVGETLTTRLGDGVVISEVSAVTKTRKSRKKTSNP\n",
      "\n"
     ]
    },
    {
     "data": {
      "image/png": "[encoded data removed]",
      "text/plain": [
       "<Figure size 720x504 with 1 Axes>"
      ]
     },
     "metadata": {
      "needs_background": "light"
     },
     "output_type": "display_data"
    }
   ],
   "source": [
    "print(\"\\n## Problem 4 part c ##\\n\")\n",
    "alignments = aligner.align(gene1[1], gene2[1])\n",
    "n, bins = get_aligned_seqs_and_plot_hist(alignments[0], bin_width=7)"
   ]
  },
  {
   "cell_type": "code",
   "execution_count": 19,
   "metadata": {},
   "outputs": [
    {
     "name": "stdout",
     "output_type": "stream",
     "text": [
      "Showing the top ten region of dense dissimilarity (number of dissimilars, start idx pos, end idx pos):\n",
      "(4.0, 127.0, 131.46268656716418)\n",
      "(3.0, 283.1940298507463, 287.65671641791045)\n",
      "(2.0, 171.62686567164178, 176.08955223880596)\n",
      "(2.0, 193.94029850746267, 198.40298507462688)\n",
      "(2.0, 229.64179104477614, 234.1044776119403)\n",
      "(2.0, 421.53731343283584, 426.0)\n",
      "(1.0, 131.46268656716418, 135.92537313432837)\n",
      "(1.0, 135.92537313432837, 140.38805970149252)\n",
      "(1.0, 234.1044776119403, 238.56716417910448)\n",
      "(1.0, 238.56716417910448, 243.02985074626866)\n"
     ]
    }
   ],
   "source": [
    "sorted_bins = sorted(list(zip(n, bins[0:-1], bins[1:])), key=lambda x: x[0], reverse=True)\n",
    "print(\"Showing the top ten region of dense dissimilarity (number of dissimilars, start idx pos, end idx pos):\")\n",
    "for b in sorted_bins[:10]:\n",
    "    print(b)"
   ]
  },
  {
   "cell_type": "code",
   "execution_count": 20,
   "metadata": {},
   "outputs": [
    {
     "name": "stdout",
     "output_type": "stream",
     "text": [
      "We can see that:\n",
      "1. The nucleotide sequence score is lower than the amino acid sequence score.\n",
      "2. The regions of dense dissimilarity do not quite align between the nucleotide alignment and the amino acid alignment.\n",
      "3. These nucleotide regions of dissimilarity yield a LOW difference in the amino acid sequence.\n",
      "\n",
      "These 3 observations can be explained by the fact that a single amino acid can be coded with multiple nucleotide sequence. Hence, a slight mutation (a substitution) will cause the nucleotide alignment score to dip, but it may not make any difference in the amino acid sequence.\n",
      "\n"
     ]
    }
   ],
   "source": [
    "print('''We can see that:\n",
    "1. The nucleotide sequence score is lower than the amino acid sequence score.\n",
    "2. The regions of dense dissimilarity do not quite align between the nucleotide alignment and the amino acid alignment.\n",
    "3. These nucleotide regions of dissimilarity yield a LOW difference in the amino acid sequence.\n",
    "\n",
    "These 3 observations can be explained by the fact that a single amino acid can be coded with multiple nucleotide sequence. Hence, a slight mutation (a substitution) will cause the nucleotide alignment score to dip, but it may not make any difference in the amino acid sequence.\n",
    "''')"
   ]
  }
 ],
 "metadata": {
  "kernelspec": {
   "display_name": "Python 3",
   "language": "python",
   "name": "python3"
  },
  "language_info": {
   "codemirror_mode": {
    "name": "ipython",
    "version": 3
   },
   "file_extension": ".py",
   "mimetype": "text/x-python",
   "name": "python",
   "nbconvert_exporter": "python",
   "pygments_lexer": "ipython3",
   "version": "3.8.5"
  }
 },
 "nbformat": 4,
 "nbformat_minor": 2
}
